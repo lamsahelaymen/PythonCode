{
 "cells": [
  {
   "cell_type": "markdown",
   "id": "1a7cce63",
   "metadata": {},
   "source": [
    "## Employment of all CPU Cores "
   ]
  },
  {
   "cell_type": "code",
   "execution_count": null,
   "id": "32be5a58",
   "metadata": {},
   "outputs": [],
   "source": [
    "import multiprocessing\n",
    "from concurrent.futures import ThreadPoolExecutor"
   ]
  },
  {
   "cell_type": "markdown",
   "id": "b2c9d3ee",
   "metadata": {},
   "source": [
    "## Importation of Libraries and Definition of Essential Functions"
   ]
  },
  {
   "cell_type": "markdown",
   "id": "7b3ff03b",
   "metadata": {},
   "source": [
    "### Libraries"
   ]
  },
  {
   "cell_type": "code",
   "execution_count": null,
   "id": "7dbf743b",
   "metadata": {},
   "outputs": [],
   "source": [
    "# For Storing Data AND Creating and Animating Graphs\n",
    "import collections\n",
    "import pandas as pd\n",
    "import numpy as np\n",
    "import seaborn as sns\n",
    "import matplotlib.pyplot as plt, mpld3\n",
    "from matplotlib.animation import FuncAnimation\n",
    "from matplotlib import figure\n",
    "from IPython.display import display, clear_output\n",
    "\n",
    "# For Creating Python Dashboard\n",
    "import operator as op\n",
    "import requests\n",
    "import param\n",
    "import panel as pn\n",
    "pn.extension('tabulator')\n",
    "import hvplot.pandas\n",
    "import hvplot.streamz\n",
    "import holoviews as hv\n",
    "from holoviews.element.tiles import EsriImagery\n",
    "from holoviews.selection import link_selections\n",
    "from datashader.utils import lnglat_to_meters\n",
    "from streamz.dataframe import PeriodicDataFrame\n",
    "from ipywidgets import interact\n",
    "\n",
    "# Other\n",
    "import datetime as dt\n",
    "import serial\n",
    "import time\n",
    "import sys\n",
    "import math\n",
    "import csv\n",
    "import psutil\n",
    "\n",
    "# System Parameters\n",
    "delay = 0.001"
   ]
  },
  {
   "cell_type": "markdown",
   "id": "f7c86c6f",
   "metadata": {},
   "source": [
    "### Functions"
   ]
  },
  {
   "cell_type": "code",
   "execution_count": null,
   "id": "c610eaf3",
   "metadata": {},
   "outputs": [],
   "source": [
    "def collect_data(ser, t0):\n",
    "    time.sleep(delay)                    # delay of 1ms\n",
    "    val = ser.readline()                # read complete line from serial output\n",
    "    while not '\\\\n'in str(val):         # check if full data is received. \n",
    "        # This loop is entered only if serial read value doesn't contain \\n\n",
    "        # which indicates end of a sentence. \n",
    "        # str(val) - val is byte where string operation to check `\\\\n` \n",
    "        # can't be performed\n",
    "        time.sleep(delay)                # delay of 1ms \n",
    "        temp = ser.readline()           # check for serial output.\n",
    "        if not not temp.decode():       # if temp is not empty.\n",
    "            val = (val.decode()+temp.decode()).encode()\n",
    "            # requrired to decode, sum, then encode because\n",
    "            # long values might require multiple passes\n",
    "    val = val.decode()                  # decoding from bytes\n",
    "    val = val.strip()                   # stripping leading and trailing spaces.\n",
    "    return [val, round(time.time() - t0, 3)]"
   ]
  },
  {
   "cell_type": "code",
   "execution_count": null,
   "id": "a2b57498",
   "metadata": {},
   "outputs": [],
   "source": [
    "# Text Processing to extract data into arrays\n",
    "\n",
    "def process_data(data, num_regions):\n",
    "    \n",
    "    np_angles = np.zeros([1,num_regions])\n",
    "    np_bendlabs = np.zeros([1, 2])\n",
    "    np_time = np.zeros([1, 1])\n",
    "    \n",
    "\n",
    "    for i in range(len(data)):\n",
    "\n",
    "        angles = data[i][0].split(\"|\")[0][1:6].split(\",\")\n",
    "        for j in range(len(angles)): angles[j] = int(angles[j])\n",
    "\n",
    "        bendlabs = data[i][0].split(\"|\")[1].strip(\"()\").split(\"  \")\n",
    "        for j in range(len(bendlabs)): bendlabs[j] = float(bendlabs[j])\n",
    "\n",
    "        np_angles = np.row_stack((np_angles, np.array(angles)))\n",
    "        np_bendlabs = np.row_stack((np_bendlabs, np.array(bendlabs)))\n",
    "        np_time = np.row_stack((np_time, np.array(data[i][1])))\n",
    "\n",
    "    np_angles = np.delete(np_angles, 0, 0)\n",
    "    np_bendlabs = np.delete(np_bendlabs, 0, 0)\n",
    "    np_time = np.delete(np_time, 0, 0)\n",
    "\n",
    "    processed_data = [np_angles, np_bendlabs, np_time]         \n",
    "    return processed_data\n",
    "                                       \n",
    "    # except:\n",
    "    #     print(\"Failed on \", i, data[i])"
   ]
  },
  {
   "cell_type": "code",
   "execution_count": null,
   "id": "21f6f8ee",
   "metadata": {},
   "outputs": [],
   "source": [
    "#function takes in bend position and angle\n",
    "def opensensor(x, a):\n",
    "    thickness = 0.002\n",
    "    length = 7.5\n",
    "    suppangle = 180 - a\n",
    "    #print(suppangle)\n",
    "    smalla = 90 - a/2\n",
    "    #print(smalla)\n",
    "    c = math.sqrt(2*length**2 - 2*length*length*math.cos(a*(math.pi/180)))\n",
    "    #print(c)\n",
    "    theta = (180-a)/2\n",
    "    radius = (0.5*c)/math.sin(theta*(math.pi/180))\n",
    "    strain = (0.5*thickness/radius)\n",
    "    return [x, radius, strain] \n",
    "\n",
    "#function takes in bend position and angle\n",
    "def closesensor(x, a):\n",
    "    radius = -length/(math.pi*(1-(a/180)))\n",
    "    thickness = 0.003 #in meters\n",
    "    strain = (0.5*thickness/radius) \n",
    "    return [x, radius, strain]\n",
    "\n",
    "#function takes in bendlabs percent strain and outputs strain and stress\n",
    "def blss(s):\n",
    "    strain = s/100 \n",
    "    E = 3600000 #in Pa\n",
    "    stress = strain*E\n",
    "    return [strain, stress]"
   ]
  },
  {
   "cell_type": "markdown",
   "id": "195101d4",
   "metadata": {},
   "source": [
    "## Serial Data Reading, Cleaning, and Preparation "
   ]
  },
  {
   "cell_type": "code",
   "execution_count": null,
   "id": "6462875b",
   "metadata": {},
   "outputs": [],
   "source": [
    "# make sure the 'COM#' is set according the Windows Device Manager\n",
    "ser = serial.Serial('/dev/tty.usbmodem14401', 9600, timeout=1)\n",
    "time.sleep(2)\n",
    "print(\"connected to: \" + ser.portstr)"
   ]
  },
  {
   "cell_type": "code",
   "execution_count": null,
   "id": "398531bd",
   "metadata": {},
   "outputs": [],
   "source": [
    "sample = []\n",
    "t0 = time.time()\n",
    "\n",
    "for i in range(200):\n",
    "    sample.append(collect_data(ser, t0))\n",
    "    "
   ]
  },
  {
   "cell_type": "code",
   "execution_count": null,
   "id": "cf14feb0",
   "metadata": {},
   "outputs": [],
   "source": [
    "processed = process_data(sample, 3)\n",
    "print(\"Contact Sensor Region-Specific Angle Data:\", processed[0][0])\n",
    "print(\"BendLabs Sensor Data:\", processed[1][0])\n",
    "print(\"Time Data:\", processed[2][0])"
   ]
  },
  {
   "cell_type": "code",
   "execution_count": null,
   "id": "9c4cd7c8",
   "metadata": {
    "jupyter": {
     "outputs_hidden": true
    }
   },
   "outputs": [],
   "source": [
    "processed = process_data(sample, 3)\n",
    "processed"
   ]
  },
  {
   "cell_type": "markdown",
   "id": "4c5645a3",
   "metadata": {},
   "source": [
    "## Data Storage Construction and Wrangling"
   ]
  },
  {
   "cell_type": "markdown",
   "id": "cbaa6da0",
   "metadata": {},
   "source": [
    "### Notes: \n",
    "\n",
    "- Use binary values instead of strings to describe whether the sensor is open or closed for the sake of efficiency and then after the trial is done, map those values into their corresponding category: 0: close, 1:open\n",
    "- Use Pivot Tables to easily plot values"
   ]
  },
  {
   "cell_type": "markdown",
   "id": "f4655b77",
   "metadata": {},
   "source": [
    "## Data Collection "
   ]
  },
  {
   "cell_type": "code",
   "execution_count": null,
   "id": "19808bee",
   "metadata": {},
   "outputs": [],
   "source": [
    "processed = process_data(sample, 3)\n",
    "print(\"Contact Sensor Region-Specific Angle Data:\", processed[0][0])\n",
    "print(\"BendLabs Sensor Data:\", processed[1][0])\n",
    "print(\"Time Data:\", processed[2][0])\n",
    "\n",
    "# BendLabs Sensor Data should contain a third column that stores the net angle so that we could determine sensor \n",
    "# orientation,or the type of sensor that would be collecting data (open or closed)"
   ]
  },
  {
   "cell_type": "code",
   "execution_count": null,
   "id": "1133c67e",
   "metadata": {},
   "outputs": [],
   "source": [
    "# Determine Time it takes to execute the program herein\n",
    "start_time = time.time()\n",
    "\n",
    "# Principal DataFrames' Creation\n",
    "\n",
    "    # DataFrame for Contact Sensors\n",
    "ocsensors = pd.DataFrame({\"Sensor Type\" : [],\n",
    "              \"Sensor Region\" : [] ,\n",
    "              \"Contact Angle\" : [] ,\n",
    "              \"Time\" : [] })\n",
    "    \n",
    "    # DataFrame for BendLabs Sensor \n",
    "blsensor = pd.DataFrame({ \"Strain\" : [] ,\n",
    "              \"Stress\" :[] ,\n",
    "              \"Time\" :[] } )\n",
    "\n",
    "# Example of the Live-Simulation Algorithm \n",
    "for timestep in range(len(processed[2])):\n",
    "    for index, contactangle in enumerate(processed[0][timestep], start=1):   # default is zero\n",
    "        \n",
    "        # DataFrame for Contact Sensors\n",
    "        ocsensors_temp = pd.DataFrame({\"Sensor Type\" : ['Normally Open Sensor' if any((True for i in processed[0][timestep] if i >= 0.0)) == True else 'Normally Closed Sensor'],\n",
    "              \"Sensor Region\" : [index],\n",
    "              \"Contact Angle\" : [contactangle],\n",
    "              \"Time\" : processed[2][timestep] })\n",
    "    \n",
    "        # DataFrame for BendLabs Sensor \n",
    "        blsensor_temp = pd.DataFrame({ \"Strain\" : [processed[1][timestep][0]],\n",
    "              \"Stress\" : [processed[1][timestep][1]],\n",
    "              \"Time\" : processed[2][timestep]} )\n",
    "        \n",
    "        ocsensors = pd.concat([ocsensors, ocsensors_temp], ignore_index=True, sort=False)\n",
    "        blsensor = pd.concat([blsensor, blsensor_temp], ignore_index=True, sort=False)\n",
    "\n",
    "       # ocsensors = ocsensors.append(ocsensors_temp, ignore_index=True,sort=False)\n",
    "       # blsensor =  blsensor.append(blsensor_temp, ignore_index=True,sort=False)\n",
    "        \n",
    "# Print Time it took to run program above\n",
    "print(\"--- %s seconds ---\" % (time.time() - start_time))\n"
   ]
  },
  {
   "cell_type": "code",
   "execution_count": null,
   "id": "aa07e048",
   "metadata": {},
   "outputs": [],
   "source": [
    "ocsensors[Contact]"
   ]
  },
  {
   "cell_type": "code",
   "execution_count": null,
   "id": "57d05ff2",
   "metadata": {},
   "outputs": [],
   "source": [
    "['Normally Open Sensor' if any((True for i in processed[0][timestep] if i >= 0.0)) == True else 'Normally Closed Sensor'] "
   ]
  },
  {
   "cell_type": "markdown",
   "id": "aa7c89b7",
   "metadata": {},
   "source": [
    "## Live-Data Visualization"
   ]
  },
  {
   "cell_type": "code",
   "execution_count": null,
   "id": "87f8f9a8",
   "metadata": {},
   "outputs": [],
   "source": [
    "# Determine Time it takes to execute the program herein\n",
    "start_time = time.time()\n",
    "\n",
    "# Principal DataFrames' Creation\n",
    "\n",
    "    # DataFrame for Contact Sensors\n",
    "ocsensors = pd.DataFrame({\"Sensor Type\" : [],\n",
    "              \"Sensor Region\" : [] ,\n",
    "              \"Contact Angle\" : [] ,\n",
    "              \"Time\" : [] })\n",
    "    \n",
    "    # DataFrame for BendLabs Sensor \n",
    "blsensor = pd.DataFrame({ \"Strain\" : [] ,\n",
    "              \"Stress\" :[] ,\n",
    "              \"Time\" :[] } )\n",
    "\n",
    "# Example of the Live-Simulation Algorithm \n",
    "for timestep in range(len(processed[2])):\n",
    "    for index, contactangle in enumerate(processed[0][timestep], start=1):   # default is zero\n",
    "        \n",
    "        # DataFrame for Contact Sensors\n",
    "        ocsensors_temp = pd.DataFrame({\"Sensor Type\" : ['Normally Open Sensor' if processed[1][timestep][1] >= 180 else 'Normally Closed Sensor'],\n",
    "              \"Sensor Region\" : [index],\n",
    "              \"Contact Angle\" : [contactangle],\n",
    "              \"Time\" : processed[2][timestep] })\n",
    "    \n",
    "        # DataFrame for BendLabs Sensor \n",
    "        blsensor_temp = pd.DataFrame({ \"Strain\" : [processed[1][timestep][0]],\n",
    "              \"Stress\" : [processed[1][timestep][1]],\n",
    "              \"Time\" : processed[2][timestep]} )\n",
    "        \n",
    "        ocsensors = ocsensors.append(ocsensors_temp, ignore_index=True,sort=False)\n",
    "        blsensor = blsensor.append(blsensor_temp, ignore_index=True,sort=False)\n",
    "        \n",
    "# Print Time it took to run program above\n",
    "print(\"--- %s seconds ---\" % (time.time() - start_time))"
   ]
  },
  {
   "cell_type": "code",
   "execution_count": null,
   "id": "fe49cd2f",
   "metadata": {},
   "outputs": [],
   "source": [
    "cpu"
   ]
  },
  {
   "cell_type": "code",
   "execution_count": null,
   "id": "0c6dedbf",
   "metadata": {},
   "outputs": [],
   "source": [
    "%matplotlib notebook \n",
    "\n",
    "\n",
    "# function to update the data\n",
    "def my_function(i):\n",
    "    \n",
    "    # get data\n",
    "    cpu.popleft()\n",
    "    cpu.append(psutil.cpu_percent())\n",
    "    ram.popleft()\n",
    "    ram.append(psutil.virtual_memory().percent)\n",
    "    \n",
    "    ax.clear()\n",
    "    ax1.clear()\n",
    "  \n",
    "    #rolling window size\n",
    "    repeat_length = 10\n",
    "\n",
    "    ax.set_xlim([0,repeat_length])\n",
    "    ax.set_ylim([0,100])\n",
    "    \n",
    "    # plot cpu\n",
    "    ax.plot(cpu)\n",
    "    ax.scatter(len(cpu)-1, cpu[-1])\n",
    "    ax.text(len(cpu)-1, cpu[-1]+2, \"{}%\".format(cpu[-1]))\n",
    "    ax.set_ylim(0,100)\n",
    "   \n",
    "\n",
    "    # plot memory\n",
    "    ax1.plot(ram)\n",
    "    ax1.scatter(len(ram)-1, ram[-1])\n",
    "    ax1.text(len(ram)-1, ram[-1]+2, \"{}%\".format(ram[-1]))\n",
    "    ax1.set_ylim(0,100)\n",
    "\n",
    "\n",
    "\n",
    "# start collections with zeros\n",
    "cpu = collections.deque(np.zeros(10))\n",
    "ram = collections.deque(np.zeros(10))\n",
    "\n",
    "# define and adjust figure\n",
    "fig = plt.figure(figsize=(12,6), facecolor='#DEDEDE')\n",
    "ax = plt.subplot(121)\n",
    "ax1 = plt.subplot(122)\n",
    "ax.set_facecolor('#DEDEDE')\n",
    "ax1.set_facecolor('#DEDEDE')\n",
    "\n",
    "# animate\n",
    "ani = FuncAnimation(fig, my_function, interval=1000, blit = False)\n",
    "plt.show()\n"
   ]
  },
  {
   "cell_type": "markdown",
   "id": "6511add9",
   "metadata": {},
   "source": [
    "## Draft Cell Blocks"
   ]
  },
  {
   "cell_type": "code",
   "execution_count": null,
   "id": "b3a01bbf",
   "metadata": {},
   "outputs": [],
   "source": [
    "# Below are some quick examples.\n",
    "# Create conditional DataFrame column by np.where() function.\n",
    "df['Discount'] = np.where(df['Courses']=='Spark', 1000, 2000)\n",
    "\n",
    "# Another way to create column conditionally.\n",
    "df['Discount'] = [1000 if x == 'Spark' else 2000 for x in df['Courses']]\n",
    "\n",
    "# Create conditional DataFrame column by map() and lambda.\n",
    "df['Discount'] = df.Courses.map( lambda x: 1000 if x == 'Spark' else 2000)\n",
    "\n",
    "# Create conditional DataFrame column by np.select() function.\n",
    "conditions = [\n",
    "    (df['Courses'] == 'Spark') & (df['Duration'] == '30days'),\n",
    "    (df['Courses'] == 'Spark') & (df['Duration'] == '35days'),\n",
    "    (df['Duration'] == '50days')]\n",
    "choices = [1000, 1050,200]\n",
    "df['Discount'] = np.select(conditions,choices, default=0)\n",
    "\n",
    "# Using Dictionary to map new values.\n",
    "Discount_dictionary ={'Spark' : 1500, 'PySpark' : 800, 'Spark' : 1200}\n",
    "df['Discount'] = df['Courses'].map(Discount_dictionary)\n",
    "\n",
    "# Pandas create conditional DataFrame column by dictionary\n",
    "df['Discount'] = [Discount_dictionary.get(v, None) for v in df['Courses']]\n",
    "\n",
    "# Using DataFrame.assign() method.\n",
    "def Courses_Discount(row):\n",
    "    if row[\"Courses\"] == \"Spark\":\n",
    "        return 1000\n",
    "    else:\n",
    "        return 2000\n",
    "df = df.assign(Discount=df.apply(Courses_Discount, axis=1))\n",
    "\n",
    "# Conditions with multiple rand multiple columns.\n",
    "def Courses_Discount(row):\n",
    "    if row[\"Courses\"] == \"Spark\":\n",
    "        return 1000\n",
    "    elif row[\"Fee\"] == 25000:\n",
    "        return 2000\n",
    "    else:\n",
    "        return 0\n",
    "df = df.assign(Discount=df.apply(Courses_Discount, axis=1))\n",
    "\n",
    "# Using .loc[] property for single condition.\n",
    "df.loc[(df['Courses']==\"Spark\"), 'Discount'] = 1000\n",
    "\n",
    "# Using loc[] method for Multiple conditions.\n",
    "df.loc[(df['Courses']==\"Spark\")&(df['Fee']==23000)|(df['Fee']==25000), 'Discount'] = 1000\n",
    "\n",
    "# Using DataFrame.apply() method with lambda function.\n",
    "df['Discount'] = df['Courses'].apply(lambda x: '1000' if x=='Spark' else 1000)\n",
    "\n",
    "# Pandas create conditional column using mask() method.\n",
    "# Replace values where the condition is True\n",
    "df['Discount'] = df['Discount'].mask(df['Courses']=='Spark', other=1000)\n",
    "\n",
    "# Using where()\n",
    "df['Discount'] = df['Discount'].where(df['Courses']=='Spark', other=1000)\n",
    "\n",
    "# Using transform() with a lambda function.\n",
    "df['Discount'] = df['Courses'].transform(lambda x: 1000 if x == 'Spark' else 2000)"
   ]
  },
  {
   "cell_type": "code",
   "execution_count": null,
   "id": "7212f1d1",
   "metadata": {},
   "outputs": [],
   "source": [
    "ocsensors.loc[ocsensors['Sensor Region'] == 2.0]"
   ]
  },
  {
   "cell_type": "code",
   "execution_count": null,
   "id": "014070d4",
   "metadata": {},
   "outputs": [],
   "source": [
    "['Normally Closed Sensor' if x < 0 else 'Normally Closed Sensor' for x in processed[0][0]]"
   ]
  },
  {
   "cell_type": "code",
   "execution_count": null,
   "id": "2e59dad5",
   "metadata": {},
   "outputs": [],
   "source": [
    "['Normally Closed Sensor' if max(processed[0][0]) <= 0 else 'Normally Closed Sensor']"
   ]
  },
  {
   "cell_type": "code",
   "execution_count": null,
   "id": "bda3e496",
   "metadata": {},
   "outputs": [],
   "source": [
    "example = pd.DataFrame({\"Sensor Type\" : ['Normally Open Sensor'],\n",
    "              \"Sensor Region\" : [1],\n",
    "              \"Contact Angle\" : [max(processed[0][0])],\n",
    "              \"Position\" : [2.3] ,\n",
    "              \"Time\" : ['5 OCLOCK'] })\n",
    "example"
   ]
  },
  {
   "cell_type": "code",
   "execution_count": null,
   "id": "694f883d",
   "metadata": {},
   "outputs": [],
   "source": [
    "ax = sensorregion_time_angle.plot(ylabel = 'Contact Angle',figsize = (10,6),marker='o')\n"
   ]
  },
  {
   "cell_type": "code",
   "execution_count": null,
   "id": "aaac51b7",
   "metadata": {},
   "outputs": [],
   "source": [
    "y1 = ocsensors.loc[ocsensors['Sensor Region'] == 1.0, 'Contact Angle'].to_numpy().flatten()\n",
    "y2 = ocsensors.loc[ocsensors['Sensor Region'] == 2.0, 'Contact Angle'].to_numpy().flatten()\n",
    "y3 = ocsensors.loc[ocsensors['Sensor Region'] == 3.0, 'Contact Angle'].to_numpy().flatten()\n",
    "\n",
    "list(y1)"
   ]
  },
  {
   "cell_type": "code",
   "execution_count": null,
   "id": "af8e109c",
   "metadata": {},
   "outputs": [],
   "source": [
    "#You may ignore this code block until Chapter 8.\n",
    "sensorregion_time_angle = ocsensors.pivot_table(index = 'Time', columns = 'Sensor Region',values = 'Contact Angle')\n",
    "sensorregion_time_angle.head()"
   ]
  },
  {
   "cell_type": "code",
   "execution_count": null,
   "id": "52a56d23",
   "metadata": {},
   "outputs": [],
   "source": [
    "# Determine Time it takes to execute the program herein\n",
    "start_time = time.time()\n",
    "\n",
    "# Principal DataFrames' Creation\n",
    "\n",
    "    # DataFrame for Contact Sensors\n",
    "ocsensors2 = pd.DataFrame({\"Sensor Type\" : [],\n",
    "              \"Sensor Region\" : [] ,\n",
    "              \"Contact Angle\" : [] ,\n",
    "              \"Time\" : [] })\n",
    "    \n",
    "    # DataFrame for BendLabs Sensor \n",
    "blsensor2 = pd.DataFrame({ \"Strain\" : [] ,\n",
    "              \"Stress\" :[] ,\n",
    "              \"Time\" :[] } )\n",
    "\n",
    "# Example of the Live-Simulation Algorithm \n",
    "for timestep in range(len(processed[2][0])):\n",
    "    for index, contactangle in enumerate(processed[0][timestep], start=1):   # default is zero\n",
    "        \n",
    "        # DataFrame for Contact Sensors\n",
    "        ocsensors_temp = pd.DataFrame({\"Sensor Type\" : ['Normally Open Sensor' if processed[1][timestep][1] >= 180 else 'Normally Closed Sensor'],\n",
    "              \"Sensor Region\" : [index],\n",
    "              \"Contact Angle\" : [contactangle],\n",
    "              \"Time\" : processed[2][timestep] })\n",
    "    \n",
    "        # DataFrame for BendLabs Sensor \n",
    "        blsensor_temp = pd.DataFrame({ \"Strain\" : [processed[1][timestep][0]],\n",
    "              \"Stress\" : [processed[1][timestep][1]],\n",
    "              \"Time\" : processed[2][timestep]} )\n",
    "\n",
    "        ocsensors2 = ocsensors2.append(ocsensors_temp, ignore_index=True,sort=False)\n",
    "        blsensor2 = blsensor2.append(blsensor_temp, ignore_index=True,sort=False)\n",
    "        \n",
    "# Print Time it took to run program above\n",
    "print(\"--- %s seconds ---\" % (time.time() - start_time))\n"
   ]
  },
  {
   "cell_type": "code",
   "execution_count": null,
   "id": "a87314a5",
   "metadata": {},
   "outputs": [],
   "source": []
  }
 ],
 "metadata": {
  "kernelspec": {
   "display_name": "Python 3 (ipykernel)",
   "language": "python",
   "name": "python3"
  },
  "language_info": {
   "codemirror_mode": {
    "name": "ipython",
    "version": 3
   },
   "file_extension": ".py",
   "mimetype": "text/x-python",
   "name": "python",
   "nbconvert_exporter": "python",
   "pygments_lexer": "ipython3",
   "version": "3.9.12"
  }
 },
 "nbformat": 4,
 "nbformat_minor": 5
}
