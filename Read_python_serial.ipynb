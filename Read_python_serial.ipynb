{
 "cells": [
  {
   "cell_type": "code",
   "execution_count": 94,
   "id": "4c8f1dbf-32bd-45f7-9c06-97ff6266ec6c",
   "metadata": {},
   "outputs": [],
   "source": [
    "ser.close()"
   ]
  },
  {
   "cell_type": "markdown",
   "id": "d83e1fde-ef8d-4f6a-9d51-20065d5b7c25",
   "metadata": {},
   "source": [
    "### Importation of Libraries"
   ]
  },
  {
   "cell_type": "code",
   "execution_count": 95,
   "id": "3db826a3-0e1c-4686-a53c-f56d2f3c657d",
   "metadata": {},
   "outputs": [],
   "source": [
    "import matplotlib.pyplot as plt\n",
    "from matplotlib.animation import FuncAnimation\n",
    "from IPython.display import display, clear_output\n",
    "import datetime as dt\n",
    "import serial\n",
    "import time\n",
    "import matplotlib.pyplot as plt\n",
    "import sys"
   ]
  },
  {
   "cell_type": "markdown",
   "id": "400fe02c-56c8-4560-9b8f-e096ef436293",
   "metadata": {},
   "source": [
    "### Serial Data Retrieval and Processing"
   ]
  },
  {
   "cell_type": "code",
   "execution_count": 96,
   "id": "794dcb69-e104-489f-87c4-8738680edc01",
   "metadata": {},
   "outputs": [
    {
     "name": "stdout",
     "output_type": "stream",
     "text": [
      "connected to: COM9\n"
     ]
    }
   ],
   "source": [
    "# make sure the 'COM#' is set according the Windows Device Manager\n",
    "ser = serial.Serial('COM9', 115200, timeout=1)\n",
    "time.sleep(2)\n",
    "print(\"connected to: \" + ser.portstr)"
   ]
  },
  {
   "cell_type": "code",
   "execution_count": 97,
   "id": "89f3d886-9a9a-4aa4-9b1a-226a5b2d7e1c",
   "metadata": {},
   "outputs": [],
   "source": [
    "def collect_data(ser):\n",
    "    time.sleep(.001)                    # delay of 1ms\n",
    "    val = ser.readline()                # read complete line from serial output\n",
    "    while not '\\\\n'in str(val):         # check if full data is received. \n",
    "        # This loop is entered only if serial read value doesn't contain \\n\n",
    "        # which indicates end of a sentence. \n",
    "        # str(val) - val is byte where string operation to check `\\\\n` \n",
    "        # can't be performed\n",
    "        time.sleep(.001)                # delay of 1ms \n",
    "        temp = ser.readline()           # check for serial output.\n",
    "        if not not temp.decode():       # if temp is not empty.\n",
    "            val = (val.decode()+temp.decode()).encode()\n",
    "            # requrired to decode, sum, then encode because\n",
    "            # long values might require multiple passes\n",
    "    val = val.decode()                  # decoding from bytes\n",
    "    val = val.strip()                   # stripping leading and trailing spaces.\n",
    "    return val"
   ]
  },
  {
   "cell_type": "code",
   "execution_count": null,
   "id": "569404f0-8aa7-490c-84a1-0927c2d26bfd",
   "metadata": {},
   "outputs": [],
   "source": [
    "while True:\n",
    "    xs.\n",
    "    "
   ]
  },
  {
   "cell_type": "markdown",
   "id": "44a967f9-ad29-411c-ac36-e1a95b5289f5",
   "metadata": {},
   "source": [
    "### Figure Generation"
   ]
  },
  {
   "cell_type": "code",
   "execution_count": 98,
   "id": "68fcfda0-6a36-4bb0-bb41-64f0b31dbe6d",
   "metadata": {},
   "outputs": [
    {
     "data": {
      "image/png": "[encoded data removed]",
      "text/plain": [
       "<Figure size 640x480 with 1 Axes>"
      ]
     },
     "metadata": {},
     "output_type": "display_data"
    }
   ],
   "source": [
    "\n",
    "# Create figure for plotting\n",
    "fig = plt.figure()\n",
    "ax = fig.add_subplot(1, 1, 1)\n",
    "xs = [] #store trials here (n)\n",
    "ys = [] #store relative frequency here\n",
    "\n",
    "# This function is called periodically from FuncAnimation\n",
    "def animate(i, xs, ys):\n",
    "\n",
    "    #Aquire and parse data from serial port\n",
    "    line=ser.readline()      #ascii\n",
    "    line_as_list = line.split(b',')\n",
    "    i = int(line_as_list[0])\n",
    "    angle = line_as_list[1]\n",
    "    angle_as_list = relProb.split(b'\\n')\n",
    "    angle_float = float(relProb_as_list[0])\n",
    "\t\n",
    "\t# Add x and y to lists\n",
    "    xs.append(i)\n",
    "    ys.append(angle_float)\n",
    "\n",
    "    # Limit x and y lists to 20 items\n",
    "    #xs = xs[-20:]\n",
    "    #ys = ys[-20:]\n",
    "\n",
    "    # Draw x and y lists\n",
    "    ax.clear()\n",
    "    ax.plot(xs, ys, label=\"Experimental Probability\")\n",
    "    ax.plot(xs, rs, label=\"Theoretical Probability\")\n",
    "\n",
    "    # Format plot\n",
    "    plt.xticks(rotation=45, ha='right')\n",
    "    plt.subplots_adjust(bottom=0.30)\n",
    "    plt.title('This is how I roll...')\n",
    "    plt.ylabel('Relative frequency')\n",
    "    plt.legend()\n",
    "    plt.axis([1, None, 0, 1.1]) #Use for arbitrary number of trials\n",
    "    #plt.axis([1, 100, 0, 1.1]) #Use for 100 trial demo\n",
    "\n",
    "# Set up plot to call animate() function periodically\n",
    "ani = animation.FuncAnimation(fig, animate, fargs=(xs, ys), interval=1000)\n",
    "plt.show()"
   ]
  },
  {
   "cell_type": "code",
   "execution_count": 74,
   "id": "a6c9ab18-206e-4e7f-8acb-b989372dde83",
   "metadata": {},
   "outputs": [
    {
     "data": {
      "image/png": "[encoded data removed]",
      "text/plain": [
       "<Figure size 640x480 with 1 Axes>"
      ]
     },
     "metadata": {},
     "output_type": "display_data"
    }
   ],
   "source": [
    "\n",
    "# Parameters\n",
    "x_len = 200# Number of points to display\n",
    "y_range = [-180, 180]  # Range of possible Y values to display\n",
    "\n",
    "# Create figure for plotting\n",
    "fig = plt.figure()\n",
    "ax = fig.add_subplot(1, 1, 1)\n",
    "xs = list(range(0, x_len))\n",
    "ys = [0] * x_len\n",
    "ax.set_ylim(y_range)\n",
    "\n",
    "# Create a blank line. We will update the line in animate\n",
    "line, = ax.plot(xs, ys)\n",
    "\n",
    "# Add labels\n",
    "plt.title('TMP102 Temperature over Time')\n",
    "plt.xlabel('Samples')\n",
    "plt.ylabel('Temperature (deg C)')\n",
    "\n",
    "\n",
    "# This function is called periodically from FuncAnimation\n",
    "def animate(i, ys):\n",
    "\n",
    "    # Read temperature (Celsius) from TMP102\n",
    "    serial_data = collect_data(ser)\n",
    "    temp_c = float(serial_data)\n",
    "\n",
    "    # Add y to list\n",
    "    ys.append(temp_c)\n",
    "\n",
    "    # Limit y list to set number of items\n",
    "    ys = ys[-x_len:]\n",
    "\n",
    "    # Update line with new Y values\n",
    "    line.set_ydata(ys)\n",
    "\n",
    "    return line,\n",
    "    clear_output(wait=True)\n",
    "    display(fig)\n",
    "    \n"
   ]
  },
  {
   "cell_type": "markdown",
   "id": "2c17211e-d75b-47ee-a4ec-56bbd8700533",
   "metadata": {},
   "source": [
    "### Draft Cell Blocks"
   ]
  },
  {
   "cell_type": "code",
   "execution_count": 26,
   "id": "e27fb36c-5c81-4622-8060-ac5e5b54c0b8",
   "metadata": {},
   "outputs": [
    {
     "name": "stdout",
     "output_type": "stream",
     "text": [
      "connected to: COM9\n"
     ]
    },
    {
     "data": {
      "image/png": "[encoded data removed]",
      "text/plain": [
       "<Figure size 640x480 with 1 Axes>"
      ]
     },
     "metadata": {},
     "output_type": "display_data"
    }
   ],
   "source": [
    "\n",
    "import matplotlib.pyplot as plt\n",
    "from matplotlib.animation import FuncAnimation\n",
    "from IPython.display import display, clear_output\n",
    "import serial\n",
    "import time\n",
    "import matplotlib.pyplot as plt\n",
    "import sys\n",
    "\n",
    "# make sure the 'COM#' is set according the Windows Device Manager\n",
    "ser = serial.Serial('COM9', 115200, timeout=1)\n",
    "time.sleep(2)\n",
    "print(\"connected to: \" + ser.portstr)\n",
    "\n",
    "# Parameters\n",
    "x_len = 200# Number of points to display\n",
    "y_range = [-180, 180]  # Range of possible Y values to display\n",
    "\n",
    "# Create figure for plotting\n",
    "fig = plt.figure()\n",
    "ax = fig.add_subplot(1, 1, 1)\n",
    "xs = list(range(0, x_len))\n",
    "ys = [0] * x_len\n",
    "ax.set_ylim(y_range)\n",
    "\n",
    "# Create a blank line. We will update the line in animate\n",
    "line, = ax.plot(xs, ys)\n",
    "\n",
    "# Add labels\n",
    "plt.title('TMP102 Temperature over Time')\n",
    "plt.xlabel('Samples')\n",
    "plt.ylabel('Temperature (deg C)')\n",
    "\n",
    "def collect_data(ser):\n",
    "    time.sleep(.001)                    # delay of 1ms\n",
    "    val = ser.readline()                # read complete line from serial output\n",
    "    while not '\\\\n'in str(val):         # check if full data is received. \n",
    "        # This loop is entered only if serial read value doesn't contain \\n\n",
    "        # which indicates end of a sentence. \n",
    "        # str(val) - val is byte where string operation to check `\\\\n` \n",
    "        # can't be performed\n",
    "        time.sleep(.001)                # delay of 1ms \n",
    "        temp = ser.readline()           # check for serial output.\n",
    "        if not not temp.decode():       # if temp is not empty.\n",
    "            val = (val.decode()+temp.decode()).encode()\n",
    "            # requrired to decode, sum, then encode because\n",
    "            # long values might require multiple passes\n",
    "    val = val.decode()                  # decoding from bytes\n",
    "    val = val.strip()                   # stripping leading and trailing spaces.\n",
    "    return val\n",
    "\n",
    "# This function is called periodically from FuncAnimation\n",
    "def animate(i, ys):\n",
    "\n",
    "    # Read temperature (Celsius) from TMP102\n",
    "    serial_data = collect_data(ser)\n",
    "    temp_c = float(serial_data)\n",
    "\n",
    "    # Add y to list\n",
    "    ys.append(temp_c)\n",
    "\n",
    "    # Limit y list to set number of items\n",
    "    ys = ys[-x_len:]\n",
    "\n",
    "    # Update line with new Y values\n",
    "    line.set_ydata(ys)\n",
    "\n",
    "    return line,\n",
    "    clear_output(wait=True)\n",
    "    display(fig)\n",
    "    \n"
   ]
  },
  {
   "cell_type": "code",
   "execution_count": 51,
   "id": "c3f5c579-c340-432c-82cb-450c507a86f7",
   "metadata": {},
   "outputs": [],
   "source": [
    "%matplotlib inline\n",
    "ani = animation.FuncAnimation(fig, animate, init_func=init, frames=200, fargs=(ys,), interval=50, blit=True)\n",
    "plt.show()"
   ]
  },
  {
   "cell_type": "code",
   "execution_count": 54,
   "id": "2a1e058d-0375-4b15-82c8-70c602e09db2",
   "metadata": {},
   "outputs": [],
   "source": [
    "\n",
    "# # potentiometer_plot.py\n",
    "\n",
    "# import serial\n",
    "# import time\n",
    "# import matplotlib.pyplot as plt\n",
    "# import sys\n",
    "\n",
    "# # make sure the 'COM#' is set according the Windows Device Manager\n",
    "# ser = serial.Serial('COM9', 115200, timeout=1)\n",
    "# time.sleep(2)\n",
    "# print(\"connected to: \" + ser.portstr)\n",
    "\n",
    "# data = []\n",
    "# for i in range(50):\n",
    "#     line = ser.readline()   # read a byte string\n",
    "#     if line:\n",
    "#         num = float(line.decode().split(\" \")[0])\n",
    "#         data.append(num) # add int to data list\n",
    "# #ser.close()\n",
    "\n",
    "# # build the plot\n",
    "# plt.plot(data)\n",
    "# plt.xlabel('Time')\n",
    "# plt.ylabel('Potentiometer Reading')\n",
    "# plt.title('Potentiometer Reading vs. Time')\n",
    "# plt.show()"
   ]
  },
  {
   "cell_type": "code",
   "execution_count": null,
   "id": "565eaae2-c884-42b9-adc8-c9278468795d",
   "metadata": {},
   "outputs": [],
   "source": [
    "\n",
    "# Parameters\n",
    "x_len = 200# Number of points to display\n",
    "y_range = [-180, 180]  # Range of possible Y values to display\n",
    "\n",
    "# Create figure for plotting\n",
    "fig = plt.figure()\n",
    "ax = fig.add_subplot(1, 1, 1)\n",
    "xs = list(range(0, x_len))\n",
    "ys = [0] * x_len\n",
    "ax.set_ylim(y_range)\n",
    "\n",
    "# Create a blank line. We will update the line in animate\n",
    "line, = ax.plot(xs, ys)\n",
    "\n",
    "# Add labels\n",
    "plt.title('TMP102 Temperature over Time')\n",
    "plt.xlabel('Samples')\n",
    "plt.ylabel('Temperature (deg C)')\n",
    "\n",
    "\n",
    "# This function is called periodically from FuncAnimation\n",
    "def animate(i, ys):\n",
    "\n",
    "    # Read temperature (Celsius) from TMP102\n",
    "    serial_data = collect_data(ser)\n",
    "    temp_c = float(serial_data)\n",
    "\n",
    "    # Add y to list\n",
    "    ys.append(temp_c)\n",
    "\n",
    "    # Limit y list to set number of items\n",
    "    ys = ys[-x_len:]\n",
    "\n",
    "    # Update line with new Y values\n",
    "    line.set_ydata(ys)\n",
    "\n",
    "    return line,\n",
    "    clear_output(wait=True)\n",
    "    display(fig)\n",
    "    \n"
   ]
  }
 ],
 "metadata": {
  "kernelspec": {
   "display_name": "Python 3",
   "language": "python",
   "name": "python3"
  },
  "language_info": {
   "codemirror_mode": {
    "name": "ipython",
    "version": 3
   },
   "file_extension": ".py",
   "mimetype": "text/x-python",
   "name": "python",
   "nbconvert_exporter": "python",
   "pygments_lexer": "ipython3",
   "version": "3.8.8"
  }
 },
 "nbformat": 4,
 "nbformat_minor": 5
}
