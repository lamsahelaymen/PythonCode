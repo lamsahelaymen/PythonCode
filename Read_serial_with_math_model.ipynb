{
 "cells": [
  {
   "cell_type": "code",
   "execution_count": null,
   "id": "4c8f1dbf-32bd-45f7-9c06-97ff6266ec6c",
   "metadata": {},
   "outputs": [],
   "source": [
    "ser.close()"
   ]
  },
  {
   "cell_type": "code",
   "execution_count": 4,
   "id": "711de9d9-8e8e-4b31-93da-791569e4126d",
   "metadata": {},
   "outputs": [
    {
     "name": "stdout",
     "output_type": "stream",
     "text": [
      "Collecting package metadata (current_repodata.json): ...working... done\n",
      "Note: you may need to restart the kernel to use updated packages.\n"
     ]
    },
    {
     "name": "stderr",
     "output_type": "stream",
     "text": [
      "\n",
      "\n",
      "==> WARNING: A newer version of conda exists. <==\n",
      "  current version: 4.10.1\n",
      "  latest version: 23.1.0\n",
      "\n",
      "Please update conda by running\n",
      "\n",
      "    $ conda update -n base -c defaults conda\n",
      "\n",
      "\n"
     ]
    },
    {
     "name": "stdout",
     "output_type": "stream",
     "text": [
      "\n",
      "Solving environment: ...working... done\n",
      "\n",
      "## Package Plan ##\n",
      "\n",
      "  environment location: C:\\Users\\rcwoj\\Documents\\Anaconda\n",
      "\n",
      "  added / updated specs:\n",
      "    - pyserial\n",
      "\n",
      "\n",
      "The following NEW packages will be INSTALLED:\n",
      "\n",
      "  pyserial           pkgs/main/win-64::pyserial-3.5-py38haa95532_0\n",
      "\n",
      "\n",
      "Preparing transaction: ...working... done\n",
      "Verifying transaction: ...working... done\n",
      "Executing transaction: ...working... done\n"
     ]
    }
   ],
   "source": [
    "conda install pyserial"
   ]
  },
  {
   "cell_type": "markdown",
   "id": "d83e1fde-ef8d-4f6a-9d51-20065d5b7c25",
   "metadata": {},
   "source": [
    "### Importation of Libraries"
   ]
  },
  {
   "cell_type": "code",
<<<<<<< HEAD
   "execution_count": 1,
=======
   "execution_count": 5,
>>>>>>> e93ace3edba4b71f049b3cd1b3eba0d05a3837c2
   "id": "3db826a3-0e1c-4686-a53c-f56d2f3c657d",
   "metadata": {},
   "outputs": [],
   "source": [
    "import matplotlib.pyplot as plt\n",
    "from matplotlib.animation import FuncAnimation\n",
    "from IPython.display import display, clear_output\n",
    "import datetime as dt\n",
    "import serial\n",
    "import time\n",
    "import matplotlib.pyplot as plt\n",
    "import sys\n",
    "import numpy as np\n",
    "import math\n",
    "import csv\n",
    "import pandas as pd\n",
    "\n",
    "delay = 0.001"
   ]
  },
  {
   "cell_type": "markdown",
   "id": "400fe02c-56c8-4560-9b8f-e096ef436293",
   "metadata": {
    "tags": []
   },
   "source": [
    "### Serial Data Retrieval and Processing"
   ]
  },
  {
   "cell_type": "code",
<<<<<<< HEAD
   "execution_count": 2,
=======
   "execution_count": 8,
>>>>>>> e93ace3edba4b71f049b3cd1b3eba0d05a3837c2
   "id": "794dcb69-e104-489f-87c4-8738680edc01",
   "metadata": {},
   "outputs": [
    {
     "name": "stdout",
     "output_type": "stream",
     "text": [
      "connected to: COM6\n"
     ]
    }
   ],
   "source": [
    "# make sure the 'COM#' is set according the Windows Device Manager\n",
    "ser = serial.Serial('COM6', 9600, timeout=1)\n",
    "time.sleep(2)\n",
    "print(\"connected to: \" + ser.portstr)"
   ]
  },
  {
   "cell_type": "code",
<<<<<<< HEAD
   "execution_count": 3,
=======
   "execution_count": 40,
>>>>>>> e93ace3edba4b71f049b3cd1b3eba0d05a3837c2
   "id": "89f3d886-9a9a-4aa4-9b1a-226a5b2d7e1c",
   "metadata": {},
   "outputs": [],
   "source": [
    "def collect_data(ser, t0):\n",
    "    time.sleep(delay)                    # delay of 1ms\n",
    "    val = ser.readline()                # read complete line from serial output\n",
    "    while not '\\\\n'in str(val):         # check if full data is received. \n",
    "        # This loop is entered only if serial read value doesn't contain \\n\n",
    "        # which indicates end of a sentence. \n",
    "        # str(val) - val is byte where string operation to check `\\\\n` \n",
    "        # can't be performed\n",
    "        time.sleep(delay)                # delay of 1ms \n",
    "        temp = ser.readline()           # check for serial output.\n",
    "        if not not temp.decode():       # if temp is not empty.\n",
    "            val = (val.decode()+temp.decode()).encode()\n",
    "            # requrired to decode, sum, then encode because\n",
    "            # long values might require multiple passes\n",
    "    val = val.decode()                  # decoding from bytes\n",
    "    val = val.strip()                   # stripping leading and trailing spaces.\n",
    "    return [val, round(time.time() - t0, 3)]"
   ]
  },
  {
   "cell_type": "code",
<<<<<<< HEAD
   "execution_count": 4,
=======
   "execution_count": 48,
>>>>>>> e93ace3edba4b71f049b3cd1b3eba0d05a3837c2
   "id": "ec1adac8-56c6-4bd2-962c-4f14c729050e",
   "metadata": {},
   "outputs": [
    {
     "ename": "SerialException",
     "evalue": "read failed: [Errno 6] Device not configured",
     "output_type": "error",
     "traceback": [
      "\u001b[0;31m---------------------------------------------------------------------------\u001b[0m",
      "\u001b[0;31mOSError\u001b[0m                                   Traceback (most recent call last)",
      "File \u001b[0;32m~/Anaconda/lib/python3.8/site-packages/serial/serialposix.py:575\u001b[0m, in \u001b[0;36mSerial.read\u001b[0;34m(self, size)\u001b[0m\n\u001b[1;32m    574\u001b[0m         \u001b[38;5;28;01mbreak\u001b[39;00m   \u001b[38;5;66;03m# timeout\u001b[39;00m\n\u001b[0;32m--> 575\u001b[0m     buf \u001b[38;5;241m=\u001b[39m \u001b[43mos\u001b[49m\u001b[38;5;241;43m.\u001b[39;49m\u001b[43mread\u001b[49m\u001b[43m(\u001b[49m\u001b[38;5;28;43mself\u001b[39;49m\u001b[38;5;241;43m.\u001b[39;49m\u001b[43mfd\u001b[49m\u001b[43m,\u001b[49m\u001b[43m \u001b[49m\u001b[43msize\u001b[49m\u001b[43m \u001b[49m\u001b[38;5;241;43m-\u001b[39;49m\u001b[43m \u001b[49m\u001b[38;5;28;43mlen\u001b[39;49m\u001b[43m(\u001b[49m\u001b[43mread\u001b[49m\u001b[43m)\u001b[49m\u001b[43m)\u001b[49m\n\u001b[1;32m    576\u001b[0m \u001b[38;5;28;01mexcept\u001b[39;00m \u001b[38;5;167;01mOSError\u001b[39;00m \u001b[38;5;28;01mas\u001b[39;00m e:\n\u001b[1;32m    577\u001b[0m     \u001b[38;5;66;03m# this is for Python 3.x where select.error is a subclass of\u001b[39;00m\n\u001b[1;32m    578\u001b[0m     \u001b[38;5;66;03m# OSError ignore BlockingIOErrors and EINTR. other errors are shown\u001b[39;00m\n\u001b[1;32m    579\u001b[0m     \u001b[38;5;66;03m# https://www.python.org/dev/peps/pep-0475.\u001b[39;00m\n",
      "\u001b[0;31mOSError\u001b[0m: [Errno 6] Device not configured",
      "\nDuring handling of the above exception, another exception occurred:\n",
      "\u001b[0;31mSerialException\u001b[0m                           Traceback (most recent call last)",
      "Input \u001b[0;32mIn [4]\u001b[0m, in \u001b[0;36m<cell line: 4>\u001b[0;34m()\u001b[0m\n\u001b[1;32m      2\u001b[0m t0 \u001b[38;5;241m=\u001b[39m time\u001b[38;5;241m.\u001b[39mtime()\n\u001b[1;32m      4\u001b[0m \u001b[38;5;28;01mfor\u001b[39;00m i \u001b[38;5;129;01min\u001b[39;00m \u001b[38;5;28mrange\u001b[39m(\u001b[38;5;241m10\u001b[39m):\n\u001b[0;32m----> 5\u001b[0m     sample\u001b[38;5;241m.\u001b[39mappend(\u001b[43mcollect_data\u001b[49m\u001b[43m(\u001b[49m\u001b[43mser\u001b[49m\u001b[43m,\u001b[49m\u001b[43m \u001b[49m\u001b[43mt0\u001b[49m\u001b[43m)\u001b[49m)\n",
      "Input \u001b[0;32mIn [3]\u001b[0m, in \u001b[0;36mcollect_data\u001b[0;34m(ser, t0)\u001b[0m\n\u001b[1;32m      4\u001b[0m \u001b[38;5;28;01mwhile\u001b[39;00m \u001b[38;5;129;01mnot\u001b[39;00m \u001b[38;5;124m'\u001b[39m\u001b[38;5;130;01m\\\\\u001b[39;00m\u001b[38;5;124mn\u001b[39m\u001b[38;5;124m'\u001b[39m\u001b[38;5;129;01min\u001b[39;00m \u001b[38;5;28mstr\u001b[39m(val):         \u001b[38;5;66;03m# check if full data is received. \u001b[39;00m\n\u001b[1;32m      5\u001b[0m     \u001b[38;5;66;03m# This loop is entered only if serial read value doesn't contain \\n\u001b[39;00m\n\u001b[1;32m      6\u001b[0m     \u001b[38;5;66;03m# which indicates end of a sentence. \u001b[39;00m\n\u001b[1;32m      7\u001b[0m     \u001b[38;5;66;03m# str(val) - val is byte where string operation to check `\\\\n` \u001b[39;00m\n\u001b[1;32m      8\u001b[0m     \u001b[38;5;66;03m# can't be performed\u001b[39;00m\n\u001b[1;32m      9\u001b[0m     time\u001b[38;5;241m.\u001b[39msleep(delay)                \u001b[38;5;66;03m# delay of 1ms \u001b[39;00m\n\u001b[0;32m---> 10\u001b[0m     temp \u001b[38;5;241m=\u001b[39m \u001b[43mser\u001b[49m\u001b[38;5;241;43m.\u001b[39;49m\u001b[43mreadline\u001b[49m\u001b[43m(\u001b[49m\u001b[43m)\u001b[49m           \u001b[38;5;66;03m# check for serial output.\u001b[39;00m\n\u001b[1;32m     11\u001b[0m     \u001b[38;5;28;01mif\u001b[39;00m \u001b[38;5;129;01mnot\u001b[39;00m \u001b[38;5;129;01mnot\u001b[39;00m temp\u001b[38;5;241m.\u001b[39mdecode():       \u001b[38;5;66;03m# if temp is not empty.\u001b[39;00m\n\u001b[1;32m     12\u001b[0m         val \u001b[38;5;241m=\u001b[39m (val\u001b[38;5;241m.\u001b[39mdecode()\u001b[38;5;241m+\u001b[39mtemp\u001b[38;5;241m.\u001b[39mdecode())\u001b[38;5;241m.\u001b[39mencode()\n",
      "File \u001b[0;32m~/Anaconda/lib/python3.8/site-packages/serial/serialposix.py:581\u001b[0m, in \u001b[0;36mSerial.read\u001b[0;34m(self, size)\u001b[0m\n\u001b[1;32m    576\u001b[0m \u001b[38;5;28;01mexcept\u001b[39;00m \u001b[38;5;167;01mOSError\u001b[39;00m \u001b[38;5;28;01mas\u001b[39;00m e:\n\u001b[1;32m    577\u001b[0m     \u001b[38;5;66;03m# this is for Python 3.x where select.error is a subclass of\u001b[39;00m\n\u001b[1;32m    578\u001b[0m     \u001b[38;5;66;03m# OSError ignore BlockingIOErrors and EINTR. other errors are shown\u001b[39;00m\n\u001b[1;32m    579\u001b[0m     \u001b[38;5;66;03m# https://www.python.org/dev/peps/pep-0475.\u001b[39;00m\n\u001b[1;32m    580\u001b[0m     \u001b[38;5;28;01mif\u001b[39;00m e\u001b[38;5;241m.\u001b[39merrno \u001b[38;5;129;01mnot\u001b[39;00m \u001b[38;5;129;01min\u001b[39;00m (errno\u001b[38;5;241m.\u001b[39mEAGAIN, errno\u001b[38;5;241m.\u001b[39mEALREADY, errno\u001b[38;5;241m.\u001b[39mEWOULDBLOCK, errno\u001b[38;5;241m.\u001b[39mEINPROGRESS, errno\u001b[38;5;241m.\u001b[39mEINTR):\n\u001b[0;32m--> 581\u001b[0m         \u001b[38;5;28;01mraise\u001b[39;00m SerialException(\u001b[38;5;124m'\u001b[39m\u001b[38;5;124mread failed: \u001b[39m\u001b[38;5;132;01m{}\u001b[39;00m\u001b[38;5;124m'\u001b[39m\u001b[38;5;241m.\u001b[39mformat(e))\n\u001b[1;32m    582\u001b[0m \u001b[38;5;28;01mexcept\u001b[39;00m select\u001b[38;5;241m.\u001b[39merror \u001b[38;5;28;01mas\u001b[39;00m e:\n\u001b[1;32m    583\u001b[0m     \u001b[38;5;66;03m# this is for Python 2.x\u001b[39;00m\n\u001b[1;32m    584\u001b[0m     \u001b[38;5;66;03m# ignore BlockingIOErrors and EINTR. all errors are shown\u001b[39;00m\n\u001b[1;32m    585\u001b[0m     \u001b[38;5;66;03m# see also http://www.python.org/dev/peps/pep-3151/#select\u001b[39;00m\n\u001b[1;32m    586\u001b[0m     \u001b[38;5;28;01mif\u001b[39;00m e[\u001b[38;5;241m0\u001b[39m] \u001b[38;5;129;01mnot\u001b[39;00m \u001b[38;5;129;01min\u001b[39;00m (errno\u001b[38;5;241m.\u001b[39mEAGAIN, errno\u001b[38;5;241m.\u001b[39mEALREADY, errno\u001b[38;5;241m.\u001b[39mEWOULDBLOCK, errno\u001b[38;5;241m.\u001b[39mEINPROGRESS, errno\u001b[38;5;241m.\u001b[39mEINTR):\n",
      "\u001b[0;31mSerialException\u001b[0m: read failed: [Errno 6] Device not configured"
     ]
    }
   ],
   "source": [
    "sample = []\n",
    "t0 = time.time()\n",
    "\n",
    "for i in range(10):\n",
    "    sample.append(collect_data(ser, t0))\n",
    "    \n"
   ]
  },
  {
   "cell_type": "code",
<<<<<<< HEAD
   "execution_count": 2,
=======
   "execution_count": 49,
>>>>>>> e93ace3edba4b71f049b3cd1b3eba0d05a3837c2
   "id": "19f06f30-ed4c-4ce0-ad57-f8ee8595c9bc",
   "metadata": {},
   "outputs": [
    {
<<<<<<< HEAD
     "ename": "NameError",
     "evalue": "name 'sample' is not defined",
     "output_type": "error",
     "traceback": [
      "\u001b[0;31m---------------------------------------------------------------------------\u001b[0m",
      "\u001b[0;31mNameError\u001b[0m                                 Traceback (most recent call last)",
      "Input \u001b[0;32mIn [2]\u001b[0m, in \u001b[0;36m<cell line: 1>\u001b[0;34m()\u001b[0m\n\u001b[0;32m----> 1\u001b[0m \u001b[43msample\u001b[49m\n",
      "\u001b[0;31mNameError\u001b[0m: name 'sample' is not defined"
     ]
=======
     "data": {
      "text/plain": [
       "[['(0,0,0,)|(0.00  0.00)', 0.002],\n",
       " ['(0,0,60,)|(0.00  0.00)', 0.01],\n",
       " ['(0,0,0,)|(0.00  0.00)', 0.025],\n",
       " ['(0,0,60,)|(0.00  0.00)', 0.04],\n",
       " ['(0,0,0,)|(0.00  0.00)', 0.056],\n",
       " ['(0,0,60,)|(0.00  0.00)', 0.071],\n",
       " ['(0,0,0,)|(0.00  0.00)', 0.087],\n",
       " ['(0,0,60,)|(0.00  0.00)', 0.102],\n",
       " ['(0,0,0,)|(0.00  0.00)', 0.117],\n",
       " ['(0,0,60,)|(0.00  0.00)', 0.132]]"
      ]
     },
     "execution_count": 49,
     "metadata": {},
     "output_type": "execute_result"
>>>>>>> e93ace3edba4b71f049b3cd1b3eba0d05a3837c2
    }
   ],
   "source": [
    "sample"
   ]
  },
  {
   "cell_type": "code",
   "execution_count": 72,
   "id": "6a2d0adc-0a2a-44d2-81ff-b8a0db59277f",
   "metadata": {},
   "outputs": [
    {
     "data": {
      "text/plain": [
       "['0', '0', '60']"
      ]
     },
     "execution_count": 72,
     "metadata": {},
     "output_type": "execute_result"
    }
   ],
   "source": [
    "angles = sample[1][0].split('|')[0].strip('()').split(',')\n",
    "angles.pop()\n",
    "angles"
   ]
  },
  {
   "cell_type": "code",
   "execution_count": 73,
   "id": "eb398299-1222-403c-ad8b-be724c723458",
   "metadata": {},
   "outputs": [],
   "source": [
    "# Text Processing to extract data into arrays\n",
    "\n",
    "def process_data(data, num_regions):\n",
    "    \n",
    "    np_angles = np.zeros([1,num_regions])\n",
    "    np_bendlabs = np.zeros([1, 2])\n",
    "    np_time = np.zeros([1, 1])\n",
    "    \n",
    "\n",
    "    for i in range(len(data)):\n",
    "\n",
    "        angles = sample[1][0].split('|')[0].strip('()').split(',')\n",
    "        angles.pop()\n",
    "        for j in range(len(angles)): angles[j] = float(angles[j])\n",
    "\n",
    "        bendlabs = data[i][0].split(\"|\")[1].strip(\"()\").split(\"  \")\n",
    "        for j in range(len(bendlabs)): bendlabs[j] = float(bendlabs[j])\n",
    "\n",
    "        np_angles = np.row_stack((np_angles, np.array(angles)))\n",
    "        np_bendlabs = np.row_stack((np_bendlabs, np.array(bendlabs)))\n",
    "        np_time = np.row_stack((np_time, np.array(data[i][1])))\n",
    "\n",
    "    np_angles = np.delete(np_angles, 0, 0)\n",
    "    np_bendlabs = np.delete(np_bendlabs, 0, 0)\n",
    "    np_time = np.delete(np_time, 0, 0)\n",
    "\n",
    "    processed_data = [np_angles, np_bendlabs, np_time]         \n",
    "    return processed_data\n",
    "                                       \n",
    "    # except:\n",
    "    #     print(\"Failed on \", i, data[i])"
   ]
  },
  {
   "cell_type": "code",
   "execution_count": 75,
   "id": "5d33d800-36d0-4c2f-a769-be2134604003",
   "metadata": {},
   "outputs": [
    {
     "data": {
      "text/plain": [
       "[array([[ 0.,  0., 60.],\n",
       "        [ 0.,  0., 60.],\n",
       "        [ 0.,  0., 60.],\n",
       "        [ 0.,  0., 60.],\n",
       "        [ 0.,  0., 60.],\n",
       "        [ 0.,  0., 60.],\n",
       "        [ 0.,  0., 60.],\n",
       "        [ 0.,  0., 60.],\n",
       "        [ 0.,  0., 60.],\n",
       "        [ 0.,  0., 60.]]),\n",
       " array([[0., 0.],\n",
       "        [0., 0.],\n",
       "        [0., 0.],\n",
       "        [0., 0.],\n",
       "        [0., 0.],\n",
       "        [0., 0.],\n",
       "        [0., 0.],\n",
       "        [0., 0.],\n",
       "        [0., 0.],\n",
       "        [0., 0.]]),\n",
       " array([[0.002],\n",
       "        [0.01 ],\n",
       "        [0.025],\n",
       "        [0.04 ],\n",
       "        [0.056],\n",
       "        [0.071],\n",
       "        [0.087],\n",
       "        [0.102],\n",
       "        [0.117],\n",
       "        [0.132]])]"
      ]
     },
     "execution_count": 75,
     "metadata": {},
     "output_type": "execute_result"
    }
   ],
   "source": [
    "processed = process_data(sample, 3)\n",
    "\n",
    "processed"
   ]
  },
  {
   "cell_type": "markdown",
   "id": "4817997c-febe-476f-b984-b0a43a05ec9b",
   "metadata": {},
   "source": [
    "### Math Model"
   ]
  },
  {
   "cell_type": "code",
   "execution_count": 95,
   "id": "92e5dddd-1e82-44c5-98ab-dab72bc6bd2d",
   "metadata": {},
   "outputs": [],
   "source": [
    "#Sample of code that will be used to analyze sensor data\n",
    "#This code includes place holder variables to test it but data from sensors will be livestream to it when it is implemented\n",
    "\n",
    "#Test values\n",
    "#Bendlabs sensor data placeholder- Percentage strain\n",
    "pstrain = 20\n",
    "#Normally open sensor data placeholder - angle of bend and position\n",
    "openangle = 165 #in degrees\n",
    "popen = 0.04 #mm\n",
    "#Normally close sensor data placeholder - angle of bend and position\n",
    "closeangle = 0\n",
    "pclose = 0 #mm\n",
    "global length\n",
    "length = 0.015 #in meters"
   ]
  },
  {
   "cell_type": "code",
   "execution_count": 96,
   "id": "b753b826-43bd-49ff-be89-7756c3f0c7cf",
   "metadata": {},
   "outputs": [
    {
     "name": "stdout",
     "output_type": "stream",
     "text": [
      "Sensor data: \n",
      "Stretch data: strain- 0.2, stress- 720000.0 Pa\n",
      "Bend data: location- 0.04 meters, radius of curvature- 5.72957795130823 meters, strain - 0.00017453292519943302\n"
     ]
    }
   ],
   "source": [
    "#function takes in bend position and angle\n",
    "def opensensor(x, a):\n",
    "    radius = length/(math.pi*(1-(a/180)))*100\n",
    "    thickness = 0.002 #in meters\n",
    "    strain = (0.5*thickness/radius)\n",
    "    return [x, radius, strain] \n",
    "\n",
    "#function takes in bend position and angle\n",
    "def closesensor(x, a):\n",
    "    radius = -length/(math.pi*(1-(a/180)))\n",
    "    thickness = 0.003 #in meters\n",
    "    strain = (0.5*thickness/radius) \n",
    "    return [x, radius, strain]\n",
    "\n",
    "#function takes in bendlabs percent strain and outputs strain and stress\n",
    "def blss(s):\n",
    "    strain = s/100 \n",
    "    E = 3600000 #in Pa\n",
    "    stress = strain*E\n",
    "    return [strain, stress]\n",
    "\n",
    "if openangle >0:\n",
    "    sensdata = opensensor(popen, openangle)\n",
    "elif closeangle>0:\n",
    "    sensdata = closesensor(pclose, closeangle)\n",
    "bsensdata = blss(pstrain)\n",
    "\n",
    "print(\"Sensor data: \")\n",
    "print(\"Stretch data: strain- {}, stress- {} Pa\".format(bsensdata[0], bsensdata[1]))\n",
    "print(\"Bend data: location- {} meters, radius of curvature- {} meters, strain - {}\".format(sensdata[0], sensdata[1], sensdata[2]))"
   ]
  },
  {
   "cell_type": "code",
   "execution_count": 388,
   "id": "ddff6959-89ca-4de3-b03c-8758fffba48a",
   "metadata": {},
   "outputs": [],
   "source": [
    "# Math Model Lambda Functions\n",
    "\n",
    "convert_angle = lambda angle: 180 - angle\n",
    "calc_rad = lambda angle_array: length/(math.pi*(1-(convert_angle(angle_array)/180)))*100\n",
    "calc_strain = lambda radius: (0.5*0.002/radius)"
   ]
  },
  {
   "cell_type": "code",
   "execution_count": 461,
   "id": "386bd811-8bae-40f0-b39a-058a6e2480bb",
   "metadata": {},
   "outputs": [
    {
     "data": {
      "text/html": [
       "<div>\n",
       "<style scoped>\n",
       "    .dataframe tbody tr th:only-of-type {\n",
       "        vertical-align: middle;\n",
       "    }\n",
       "\n",
       "    .dataframe tbody tr th {\n",
       "        vertical-align: top;\n",
       "    }\n",
       "\n",
       "    .dataframe thead th {\n",
       "        text-align: right;\n",
       "    }\n",
       "</style>\n",
       "<table border=\"1\" class=\"dataframe\">\n",
       "  <thead>\n",
       "    <tr style=\"text-align: right;\">\n",
       "      <th></th>\n",
       "      <th>Sensor Type</th>\n",
       "      <th>Sensor Region</th>\n",
       "      <th>Contact Angle</th>\n",
       "      <th>Position</th>\n",
       "      <th>Time</th>\n",
       "    </tr>\n",
       "  </thead>\n",
       "  <tbody>\n",
       "    <tr>\n",
       "      <th>0</th>\n",
       "      <td>Normally Open Sensor</td>\n",
       "      <td>1</td>\n",
       "      <td>5.0</td>\n",
       "      <td>2.3</td>\n",
       "      <td>5 OCLOCK</td>\n",
       "    </tr>\n",
       "  </tbody>\n",
       "</table>\n",
       "</div>"
      ],
      "text/plain": [
       "            Sensor Type  Sensor Region  Contact Angle  Position      Time\n",
       "0  Normally Open Sensor              1            5.0       2.3  5 OCLOCK"
      ]
     },
     "execution_count": 461,
     "metadata": {},
     "output_type": "execute_result"
    }
   ],
   "source": [
    "# Ddetermine the type of sensor we are looking at (if necessary)\n",
    "\n",
    "# Determine the sensor region we are looking at\n",
    "\n",
    "# Extract Data and put them into new dataframe\n",
    "\n",
    "#beta[i][j]\n",
    " # i represents the new timestep, while j represents the value of the angle for the corresponding sensor region \n",
    "\n",
    " \n",
    "# Append the dataframe to the existing principal dataframe that is storing the entirety of the data for the whole duration of the trial.\n",
    "\n",
    "ross = pd.DataFrame({\"Sensor Type\" : 'Normally Open Sensor',\n",
    "              \"Sensor Region\" : 1,\n",
    "              \"Contact Angle\" : beta[0][0],\n",
    "              \"Position\" : 2.3 ,\n",
    "              \"Time\" : '5 OCLOCK' }, index = [0])\n",
    "\n",
    "\n",
    "ross"
   ]
  },
  {
   "cell_type": "code",
   "execution_count": 470,
   "id": "a8b740c9-04c7-4916-8aea-d9adb5f7f612",
   "metadata": {},
   "outputs": [
    {
     "data": {
      "text/plain": [
       "['',\n",
       " '(0,0,0,)|(0.00  0.00)',\n",
       " '(0,0,0,)|(0.00  0.00)',\n",
       " '(0,0,0,)|(0.00  0.00)',\n",
       " '(0,0,0,)|(0.00  0.00)',\n",
       " '(0,0,0,)|(0.00  0.00)',\n",
       " '(0,0,0,)|(0.00  0.00)',\n",
       " '(0,0,0,)|(0.00  0.00)',\n",
       " '(0,0,0,)|(0.00  0.00)',\n",
       " '(0,0,0,)|(0.00  0.00)']"
      ]
     },
     "execution_count": 470,
     "metadata": {},
     "output_type": "execute_result"
    }
   ],
   "source": [
    "sample"
   ]
  },
  {
   "cell_type": "code",
<<<<<<< HEAD
   "execution_count": 549,
=======
   "execution_count": 76,
>>>>>>> e93ace3edba4b71f049b3cd1b3eba0d05a3837c2
   "id": "4547a92b-5726-421d-bddc-c913ca4ff092",
   "metadata": {},
   "outputs": [
    {
     "data": {
      "text/plain": [
<<<<<<< HEAD
       "[array([[5., 5., 5.],\n",
       "        [5., 5., 5.],\n",
       "        [5., 5., 5.],\n",
       "        [5., 5., 5.],\n",
       "        [5., 5., 5.],\n",
       "        [5., 5., 5.],\n",
       "        [5., 5., 5.],\n",
       "        [5., 5., 5.],\n",
       "        [5., 5., 5.],\n",
       "        [5., 5., 5.]]),\n",
       " array([[0., 0.],\n",
       "        [0., 0.],\n",
       "        [0., 0.],\n",
       "        [0., 0.],\n",
       "        [0., 0.],\n",
       "        [0., 0.],\n",
       "        [0., 0.],\n",
       "        [0., 0.],\n",
       "        [0., 0.],\n",
       "        [0., 0.]]),\n",
       " array([[0.003],\n",
       "        [0.004],\n",
       "        [0.006],\n",
       "        [0.008],\n",
       "        [0.009],\n",
       "        [0.01 ],\n",
       "        [0.012],\n",
       "        [0.013],\n",
       "        [0.015],\n",
       "        [0.016]])]"
      ]
     },
     "execution_count": 549,
=======
       "array([[ 5.,  5., 65.],\n",
       "       [ 5.,  5., 65.],\n",
       "       [ 5.,  5., 65.],\n",
       "       [ 5.,  5., 65.],\n",
       "       [ 5.,  5., 65.],\n",
       "       [ 5.,  5., 65.],\n",
       "       [ 5.,  5., 65.],\n",
       "       [ 5.,  5., 65.],\n",
       "       [ 5.,  5., 65.],\n",
       "       [ 5.,  5., 65.]])"
      ]
     },
     "execution_count": 76,
>>>>>>> e93ace3edba4b71f049b3cd1b3eba0d05a3837c2
     "metadata": {},
     "output_type": "execute_result"
    }
   ],
   "source": [
    "processed = process_data(sample, 3)\n",
    "processed[0] = processed[0]+5\n",
    "beta = processed[0]\n",
    "processed"
   ]
  },
  {
   "cell_type": "code",
   "execution_count": 568,
   "id": "c3750def-94cf-4b0c-9690-b88f5bab6549",
   "metadata": {},
   "outputs": [],
   "source": [
    "df = pd.DataFrame(processed[0], columns = ['Region 1', 'Region 2', 'Region 3'])"
   ]
  },
  {
   "cell_type": "code",
   "execution_count": 569,
   "id": "3df98ea2-ac43-411f-913d-e8a341ca6903",
   "metadata": {},
   "outputs": [],
   "source": [
    "df.insert(0, \"Time\", processed[2], True)"
   ]
  },
  {
   "cell_type": "code",
   "execution_count": 570,
   "id": "b15f50b9-cc31-4a1e-a3e5-65bdbf6568f7",
   "metadata": {},
   "outputs": [],
   "source": [
    "df.insert(2, \"Beta\", convert_angle(df.loc[:,\"Region 1\"]), True)"
   ]
  },
  {
   "cell_type": "code",
   "execution_count": 579,
   "id": "ed415194-a14b-4060-8282-81402595789d",
   "metadata": {},
   "outputs": [
    {
     "data": {
      "text/plain": [
       "0    5.0\n",
       "1    5.0\n",
       "2    5.0\n",
       "3    5.0\n",
       "4    5.0\n",
       "5    5.0\n",
       "6    5.0\n",
       "7    5.0\n",
       "8    5.0\n",
       "9    5.0\n",
       "Name: Region 1, dtype: float64"
      ]
     },
     "execution_count": 579,
     "metadata": {},
     "output_type": "execute_result"
    }
   ],
   "source": [
    "df.loc[:,'Region 1']"
   ]
  },
  {
   "cell_type": "code",
   "execution_count": 580,
   "id": "e612f423-3dbf-4bf9-a290-486fd5d62440",
   "metadata": {},
   "outputs": [
    {
     "data": {
      "text/html": [
       "<div>\n",
       "<style scoped>\n",
       "    .dataframe tbody tr th:only-of-type {\n",
       "        vertical-align: middle;\n",
       "    }\n",
       "\n",
       "    .dataframe tbody tr th {\n",
       "        vertical-align: top;\n",
       "    }\n",
       "\n",
       "    .dataframe thead th {\n",
       "        text-align: right;\n",
       "    }\n",
       "</style>\n",
       "<table border=\"1\" class=\"dataframe\">\n",
       "  <thead>\n",
       "    <tr style=\"text-align: right;\">\n",
       "      <th></th>\n",
       "      <th></th>\n",
       "      <th>Max Speed</th>\n",
       "    </tr>\n",
       "    <tr>\n",
       "      <th>Animal</th>\n",
       "      <th>Type</th>\n",
       "      <th></th>\n",
       "    </tr>\n",
       "  </thead>\n",
       "  <tbody>\n",
       "    <tr>\n",
       "      <th rowspan=\"2\" valign=\"top\">Falcon</th>\n",
       "      <th>Captive</th>\n",
       "      <td>390.0</td>\n",
       "    </tr>\n",
       "    <tr>\n",
       "      <th>Wild</th>\n",
       "      <td>350.0</td>\n",
       "    </tr>\n",
       "    <tr>\n",
       "      <th rowspan=\"2\" valign=\"top\">Parrot</th>\n",
       "      <th>Captive</th>\n",
       "      <td>30.0</td>\n",
       "    </tr>\n",
       "    <tr>\n",
       "      <th>Wild</th>\n",
       "      <td>20.0</td>\n",
       "    </tr>\n",
       "  </tbody>\n",
       "</table>\n",
       "</div>"
      ],
      "text/plain": [
       "                Max Speed\n",
       "Animal Type              \n",
       "Falcon Captive      390.0\n",
       "       Wild         350.0\n",
       "Parrot Captive       30.0\n",
       "       Wild          20.0"
      ]
     },
     "execution_count": 580,
     "metadata": {},
     "output_type": "execute_result"
    }
   ],
   "source": [
    "arrays = [['Falcon', 'Falcon', 'Parrot', 'Parrot'],\n",
    "          ['Captive', 'Wild', 'Captive', 'Wild']]\n",
    "index = pd.MultiIndex.from_arrays(arrays, names=('Animal', 'Type'))\n",
    "df = pd.DataFrame({'Max Speed': [390., 350., 30., 20.]},\n",
    "                  index=index)\n",
    "df"
   ]
  },
  {
   "cell_type": "code",
   "execution_count": 588,
   "id": "bee16d81-48ec-48bd-90b7-d0de683ccab9",
   "metadata": {},
   "outputs": [
    {
     "data": {
      "text/html": [
       "<div>\n",
       "<style scoped>\n",
       "    .dataframe tbody tr th:only-of-type {\n",
       "        vertical-align: middle;\n",
       "    }\n",
       "\n",
       "    .dataframe tbody tr th {\n",
       "        vertical-align: top;\n",
       "    }\n",
       "\n",
       "    .dataframe thead th {\n",
       "        text-align: right;\n",
       "    }\n",
       "</style>\n",
       "<table border=\"1\" class=\"dataframe\">\n",
       "  <thead>\n",
       "    <tr style=\"text-align: right;\">\n",
       "      <th></th>\n",
       "      <th>Region</th>\n",
       "      <th>Angle</th>\n",
       "    </tr>\n",
       "  </thead>\n",
       "  <tbody>\n",
       "    <tr>\n",
       "      <th>0</th>\n",
       "      <td>Region 1</td>\n",
       "      <td>5.0</td>\n",
       "    </tr>\n",
       "    <tr>\n",
       "      <th>1</th>\n",
       "      <td>Region 2</td>\n",
       "      <td>5.0</td>\n",
       "    </tr>\n",
       "    <tr>\n",
       "      <th>2</th>\n",
       "      <td>Region 3</td>\n",
       "      <td>5.0</td>\n",
       "    </tr>\n",
       "  </tbody>\n",
       "</table>\n",
       "</div>"
      ],
      "text/plain": [
       "     Region  Angle\n",
       "0  Region 1    5.0\n",
       "1  Region 2    5.0\n",
       "2  Region 3    5.0"
      ]
     },
     "execution_count": 588,
     "metadata": {},
     "output_type": "execute_result"
    }
   ],
   "source": [
    "df = pd.DataFrame({'Region': ['Region 1', 'Region 2',\n",
    "                              'Region 3'],\n",
    "                   'Angle': [5., 5., 5.],\n",
    "                    'Time}:  [1,2,3])\n",
    "\n"
   ]
  },
  {
   "cell_type": "code",
   "execution_count": null,
   "id": "8f4a4d60-a95f-4412-bb6f-18126ceacaf1",
   "metadata": {},
   "outputs": [],
   "source": []
  }
 ],
 "metadata": {
  "kernelspec": {
   "display_name": "Python 3",
   "language": "python",
   "name": "python3"
  },
  "language_info": {
   "codemirror_mode": {
    "name": "ipython",
    "version": 3
   },
   "file_extension": ".py",
   "mimetype": "text/x-python",
   "name": "python",
   "nbconvert_exporter": "python",
   "pygments_lexer": "ipython3",
   "version": "3.8.8"
  }
 },
 "nbformat": 4,
 "nbformat_minor": 5
}
