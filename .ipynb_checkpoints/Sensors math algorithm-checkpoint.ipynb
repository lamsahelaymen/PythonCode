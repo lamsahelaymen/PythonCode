{
 "cells": [
  {
   "cell_type": "code",
   "execution_count": 19,
   "id": "819c7a85",
   "metadata": {},
   "outputs": [],
   "source": [
    "#Sample of code that will be used to analyze sensor data\n",
    "#This code includes place holder variables to test it but data from sensors will be livestream to it when it is implemented\n",
    "\n",
    "#Test values\n",
    "#Bendlabs sensor data placeholder- Percentage strain\n",
    "pstrain = 20\n",
    "#Normally open sensor data placeholder - angle of bend and position\n",
    "openangle = 165 #in degrees\n",
    "popen = 0.04 #mm\n",
    "#Normally close sensor data placeholder - angle of bend and position\n",
    "closeangle = 0\n",
    "pclose = 0 #mm"
   ]
  },
  {
   "cell_type": "code",
   "execution_count": 20,
   "id": "45a313c0",
   "metadata": {},
   "outputs": [],
   "source": [
    "import math"
   ]
  },
  {
   "cell_type": "code",
   "execution_count": 21,
   "id": "de0c006b",
   "metadata": {},
   "outputs": [],
   "source": [
    "#Define global variables\n",
    "global length\n",
    "length = 0.015 #in meters"
   ]
  },
  {
   "cell_type": "code",
   "execution_count": 22,
   "id": "ee2e1ee3",
   "metadata": {},
   "outputs": [],
   "source": [
    "#function takes in bend position and angle\n",
    "def opensensor(x, a):\n",
    "    radius = length/(math.pi*(1-(a/180)))*100\n",
    "    thickness = 0.002 #in meters\n",
    "    strain = (0.5*thickness/radius)\n",
    "    return [x, radius, strain] "
   ]
  },
  {
   "cell_type": "code",
   "execution_count": 28,
   "id": "0a4f7f70-3554-4c8d-95b6-12b1b1d80082",
   "metadata": {},
   "outputs": [
    {
     "data": {
      "text/plain": [
       "[10, 5.72957795130823, 0.00017453292519943302]"
      ]
     },
     "execution_count": 28,
     "metadata": {},
     "output_type": "execute_result"
    }
   ],
   "source": [
    "opensensor(10, 165)"
   ]
  },
  {
   "cell_type": "code",
   "execution_count": 24,
   "id": "6c28a2db",
   "metadata": {},
   "outputs": [],
   "source": [
    "#function takes in bend position and angle\n",
    "def closesensor(x, a):\n",
    "    radius = -length/(math.pi*(1-(a/180)))\n",
    "    thickness = 0.003 #in meters\n",
    "    strain = (0.5*thickness/radius) \n",
    "    return [x, radius, strain]"
   ]
  },
  {
   "cell_type": "code",
   "execution_count": 25,
   "id": "3193a5f5",
   "metadata": {},
   "outputs": [],
   "source": [
    "#function takes in bendlabs percent strain and outputs strain and stress\n",
    "def blss(s):\n",
    "    strain = s/100 \n",
    "    E = 3600000 #in Pa\n",
    "    stress = strain*E\n",
    "    return [strain, stress]"
   ]
  },
  {
   "cell_type": "code",
   "execution_count": 26,
   "id": "b2b7cbb7",
   "metadata": {},
   "outputs": [],
   "source": [
    "if openangle >0:\n",
    "    sensdata = opensensor(popen, openangle)\n",
    "elif closeangle>0:\n",
    "    sensdata = closesensor(pclose, closeangle)\n",
    "bsensdata = blss(pstrain)"
   ]
  },
  {
   "cell_type": "code",
   "execution_count": 27,
   "id": "c6cba868",
   "metadata": {},
   "outputs": [
    {
     "name": "stdout",
     "output_type": "stream",
     "text": [
      "Sensor data: \n",
      "Stretch data: strain- 0.2, stress- 720000.0 Pa\n",
      "Bend data: location- 0.04 meters, radius of curvature- 5.72957795130823 meters, strain - 0.00017453292519943302\n"
     ]
    }
   ],
   "source": [
    "print(\"Sensor data: \")\n",
    "print(\"Stretch data: strain- {}, stress- {} Pa\".format(bsensdata[0], bsensdata[1]))\n",
    "print(\"Bend data: location- {} meters, radius of curvature- {} meters, strain - {}\".format(sensdata[0], sensdata[1], sensdata[2]))"
   ]
  },
  {
   "cell_type": "code",
   "execution_count": null,
   "id": "7153183a-bb62-48f1-a5c9-14d449c3e4a2",
   "metadata": {},
   "outputs": [],
   "source": []
  },
  {
   "cell_type": "code",
   "execution_count": null,
   "id": "54d94fd9-df35-454f-8d34-ccc863cf2249",
   "metadata": {},
   "outputs": [],
   "source": []
  }
 ],
 "metadata": {
  "kernelspec": {
   "display_name": "Python 3 (ipykernel)",
   "language": "python",
   "name": "python3"
  },
  "language_info": {
   "codemirror_mode": {
    "name": "ipython",
    "version": 3
   },
   "file_extension": ".py",
   "mimetype": "text/x-python",
   "name": "python",
   "nbconvert_exporter": "python",
   "pygments_lexer": "ipython3",
   "version": "3.8.2"
  }
 },
 "nbformat": 4,
 "nbformat_minor": 5
}
