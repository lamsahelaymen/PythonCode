{
 "cells": [
  {
   "cell_type": "code",
   "execution_count": null,
   "id": "4c8f1dbf-32bd-45f7-9c06-97ff6266ec6c",
   "metadata": {},
   "outputs": [],
   "source": [
    "ser.close()"
   ]
  },
  {
   "cell_type": "code",
   "execution_count": 4,
   "id": "711de9d9-8e8e-4b31-93da-791569e4126d",
   "metadata": {},
   "outputs": [
    {
     "name": "stdout",
     "output_type": "stream",
     "text": [
      "Collecting package metadata (current_repodata.json): ...working... done\n",
      "Note: you may need to restart the kernel to use updated packages.\n"
     ]
    },
    {
     "name": "stderr",
     "output_type": "stream",
     "text": [
      "\n",
      "\n",
      "==> WARNING: A newer version of conda exists. <==\n",
      "  current version: 4.10.1\n",
      "  latest version: 23.1.0\n",
      "\n",
      "Please update conda by running\n",
      "\n",
      "    $ conda update -n base -c defaults conda\n",
      "\n",
      "\n"
     ]
    },
    {
     "name": "stdout",
     "output_type": "stream",
     "text": [
      "\n",
      "Solving environment: ...working... done\n",
      "\n",
      "## Package Plan ##\n",
      "\n",
      "  environment location: C:\\Users\\rcwoj\\Documents\\Anaconda\n",
      "\n",
      "  added / updated specs:\n",
      "    - pyserial\n",
      "\n",
      "\n",
      "The following NEW packages will be INSTALLED:\n",
      "\n",
      "  pyserial           pkgs/main/win-64::pyserial-3.5-py38haa95532_0\n",
      "\n",
      "\n",
      "Preparing transaction: ...working... done\n",
      "Verifying transaction: ...working... done\n",
      "Executing transaction: ...working... done\n"
     ]
    }
   ],
   "source": [
    "conda install pyserial"
   ]
  },
  {
   "cell_type": "markdown",
   "id": "d83e1fde-ef8d-4f6a-9d51-20065d5b7c25",
   "metadata": {},
   "source": [
    "### Importation of Libraries"
   ]
  },
  {
   "cell_type": "code",
   "execution_count": 5,
   "id": "3db826a3-0e1c-4686-a53c-f56d2f3c657d",
   "metadata": {},
   "outputs": [],
   "source": [
    "import matplotlib.pyplot as plt\n",
    "from matplotlib.animation import FuncAnimation\n",
    "from IPython.display import display, clear_output\n",
    "import datetime as dt\n",
    "import serial\n",
    "import time\n",
    "import matplotlib.pyplot as plt\n",
    "import sys\n",
    "import numpy as np\n",
    "import math\n",
    "import csv\n",
    "import pandas as pd\n",
    "\n",
    "delay = 0.001"
   ]
  },
  {
   "cell_type": "markdown",
   "id": "400fe02c-56c8-4560-9b8f-e096ef436293",
   "metadata": {
    "tags": []
   },
   "source": [
    "### Serial Data Retrieval and Processing"
   ]
  },
  {
   "cell_type": "code",
   "execution_count": 8,
   "id": "794dcb69-e104-489f-87c4-8738680edc01",
   "metadata": {},
   "outputs": [
    {
     "name": "stdout",
     "output_type": "stream",
     "text": [
      "connected to: COM6\n"
     ]
    }
   ],
   "source": [
    "# make sure the 'COM#' is set according the Windows Device Manager\n",
    "ser = serial.Serial('COM6', 9600, timeout=1)\n",
    "time.sleep(2)\n",
    "print(\"connected to: \" + ser.portstr)"
   ]
  },
  {
   "cell_type": "code",
   "execution_count": 40,
   "id": "89f3d886-9a9a-4aa4-9b1a-226a5b2d7e1c",
   "metadata": {},
   "outputs": [],
   "source": [
    "def collect_data(ser, t0):\n",
    "    time.sleep(delay)                    # delay of 1ms\n",
    "    val = ser.readline()                # read complete line from serial output\n",
    "    while not '\\\\n'in str(val):         # check if full data is received. \n",
    "        # This loop is entered only if serial read value doesn't contain \\n\n",
    "        # which indicates end of a sentence. \n",
    "        # str(val) - val is byte where string operation to check `\\\\n` \n",
    "        # can't be performed\n",
    "        time.sleep(delay)                # delay of 1ms \n",
    "        temp = ser.readline()           # check for serial output.\n",
    "        if not not temp.decode():       # if temp is not empty.\n",
    "            val = (val.decode()+temp.decode()).encode()\n",
    "            # requrired to decode, sum, then encode because\n",
    "            # long values might require multiple passes\n",
    "    val = val.decode()                  # decoding from bytes\n",
    "    val = val.strip()                   # stripping leading and trailing spaces.\n",
    "    return [val, round(time.time() - t0, 3)]"
   ]
  },
  {
   "cell_type": "code",
   "execution_count": 48,
   "id": "ec1adac8-56c6-4bd2-962c-4f14c729050e",
   "metadata": {},
   "outputs": [],
   "source": [
    "sample = []\n",
    "t0 = time.time()\n",
    "\n",
    "for i in range(10):\n",
    "    sample.append(collect_data(ser, t0))\n",
    "    \n"
   ]
  },
  {
   "cell_type": "code",
   "execution_count": 49,
   "id": "19f06f30-ed4c-4ce0-ad57-f8ee8595c9bc",
   "metadata": {},
   "outputs": [
    {
     "data": {
      "text/plain": [
       "[['(0,0,0,)|(0.00  0.00)', 0.002],\n",
       " ['(0,0,60,)|(0.00  0.00)', 0.01],\n",
       " ['(0,0,0,)|(0.00  0.00)', 0.025],\n",
       " ['(0,0,60,)|(0.00  0.00)', 0.04],\n",
       " ['(0,0,0,)|(0.00  0.00)', 0.056],\n",
       " ['(0,0,60,)|(0.00  0.00)', 0.071],\n",
       " ['(0,0,0,)|(0.00  0.00)', 0.087],\n",
       " ['(0,0,60,)|(0.00  0.00)', 0.102],\n",
       " ['(0,0,0,)|(0.00  0.00)', 0.117],\n",
       " ['(0,0,60,)|(0.00  0.00)', 0.132]]"
      ]
     },
     "execution_count": 49,
     "metadata": {},
     "output_type": "execute_result"
    }
   ],
   "source": [
    "sample"
   ]
  },
  {
   "cell_type": "code",
   "execution_count": 72,
   "id": "6a2d0adc-0a2a-44d2-81ff-b8a0db59277f",
   "metadata": {},
   "outputs": [
    {
     "data": {
      "text/plain": [
       "['0', '0', '60']"
      ]
     },
     "execution_count": 72,
     "metadata": {},
     "output_type": "execute_result"
    }
   ],
   "source": [
    "angles = sample[1][0].split('|')[0].strip('()').split(',')\n",
    "angles.pop()\n",
    "angles"
   ]
  },
  {
   "cell_type": "code",
   "execution_count": 73,
   "id": "eb398299-1222-403c-ad8b-be724c723458",
   "metadata": {},
   "outputs": [],
   "source": [
    "# Text Processing to extract data into arrays\n",
    "\n",
    "def process_data(data, num_regions):\n",
    "    \n",
    "    np_angles = np.zeros([1,num_regions])\n",
    "    np_bendlabs = np.zeros([1, 2])\n",
    "    np_time = np.zeros([1, 1])\n",
    "    \n",
    "\n",
    "    for i in range(len(data)):\n",
    "\n",
    "        angles = sample[1][0].split('|')[0].strip('()').split(',')\n",
    "        angles.pop()\n",
    "        for j in range(len(angles)): angles[j] = float(angles[j])\n",
    "\n",
    "        bendlabs = data[i][0].split(\"|\")[1].strip(\"()\").split(\"  \")\n",
    "        for j in range(len(bendlabs)): bendlabs[j] = float(bendlabs[j])\n",
    "\n",
    "        np_angles = np.row_stack((np_angles, np.array(angles)))\n",
    "        np_bendlabs = np.row_stack((np_bendlabs, np.array(bendlabs)))\n",
    "        np_time = np.row_stack((np_time, np.array(data[i][1])))\n",
    "\n",
    "    np_angles = np.delete(np_angles, 0, 0)\n",
    "    np_bendlabs = np.delete(np_bendlabs, 0, 0)\n",
    "    np_time = np.delete(np_time, 0, 0)\n",
    "\n",
    "    processed_data = [np_angles, np_bendlabs, np_time]         \n",
    "    return processed_data\n",
    "                                       \n",
    "    # except:\n",
    "    #     print(\"Failed on \", i, data[i])"
   ]
  },
  {
   "cell_type": "code",
   "execution_count": 75,
   "id": "5d33d800-36d0-4c2f-a769-be2134604003",
   "metadata": {},
   "outputs": [
    {
     "data": {
      "text/plain": [
       "[array([[ 0.,  0., 60.],\n",
       "        [ 0.,  0., 60.],\n",
       "        [ 0.,  0., 60.],\n",
       "        [ 0.,  0., 60.],\n",
       "        [ 0.,  0., 60.],\n",
       "        [ 0.,  0., 60.],\n",
       "        [ 0.,  0., 60.],\n",
       "        [ 0.,  0., 60.],\n",
       "        [ 0.,  0., 60.],\n",
       "        [ 0.,  0., 60.]]),\n",
       " array([[0., 0.],\n",
       "        [0., 0.],\n",
       "        [0., 0.],\n",
       "        [0., 0.],\n",
       "        [0., 0.],\n",
       "        [0., 0.],\n",
       "        [0., 0.],\n",
       "        [0., 0.],\n",
       "        [0., 0.],\n",
       "        [0., 0.]]),\n",
       " array([[0.002],\n",
       "        [0.01 ],\n",
       "        [0.025],\n",
       "        [0.04 ],\n",
       "        [0.056],\n",
       "        [0.071],\n",
       "        [0.087],\n",
       "        [0.102],\n",
       "        [0.117],\n",
       "        [0.132]])]"
      ]
     },
     "execution_count": 75,
     "metadata": {},
     "output_type": "execute_result"
    }
   ],
   "source": [
    "processed = process_data(sample, 3)\n",
    "\n",
    "processed"
   ]
  },
  {
   "cell_type": "markdown",
   "id": "4817997c-febe-476f-b984-b0a43a05ec9b",
   "metadata": {},
   "source": [
    "### Math Model"
   ]
  },
  {
   "cell_type": "code",
   "execution_count": 95,
   "id": "92e5dddd-1e82-44c5-98ab-dab72bc6bd2d",
   "metadata": {},
   "outputs": [],
   "source": [
    "#Sample of code that will be used to analyze sensor data\n",
    "#This code includes place holder variables to test it but data from sensors will be livestream to it when it is implemented\n",
    "\n",
    "#Test values\n",
    "#Bendlabs sensor data placeholder- Percentage strain\n",
    "pstrain = 20\n",
    "#Normally open sensor data placeholder - angle of bend and position\n",
    "openangle = 165 #in degrees\n",
    "popen = 0.04 #mm\n",
    "#Normally close sensor data placeholder - angle of bend and position\n",
    "closeangle = 0\n",
    "pclose = 0 #mm\n",
    "global length\n",
    "length = 0.015 #in meters"
   ]
  },
  {
   "cell_type": "code",
   "execution_count": 96,
   "id": "b753b826-43bd-49ff-be89-7756c3f0c7cf",
   "metadata": {},
   "outputs": [
    {
     "name": "stdout",
     "output_type": "stream",
     "text": [
      "Sensor data: \n",
      "Stretch data: strain- 0.2, stress- 720000.0 Pa\n",
      "Bend data: location- 0.04 meters, radius of curvature- 5.72957795130823 meters, strain - 0.00017453292519943302\n"
     ]
    }
   ],
   "source": [
    "#function takes in bend position and angle\n",
    "def opensensor(x, a):\n",
    "    radius = length/(math.pi*(1-(a/180)))*100\n",
    "    thickness = 0.002 #in meters\n",
    "    strain = (0.5*thickness/radius)\n",
    "    return [x, radius, strain] \n",
    "\n",
    "#function takes in bend position and angle\n",
    "def closesensor(x, a):\n",
    "    radius = -length/(math.pi*(1-(a/180)))\n",
    "    thickness = 0.003 #in meters\n",
    "    strain = (0.5*thickness/radius) \n",
    "    return [x, radius, strain]\n",
    "\n",
    "#function takes in bendlabs percent strain and outputs strain and stress\n",
    "def blss(s):\n",
    "    strain = s/100 \n",
    "    E = 3600000 #in Pa\n",
    "    stress = strain*E\n",
    "    return [strain, stress]\n",
    "\n",
    "if openangle >0:\n",
    "    sensdata = opensensor(popen, openangle)\n",
    "elif closeangle>0:\n",
    "    sensdata = closesensor(pclose, closeangle)\n",
    "bsensdata = blss(pstrain)\n",
    "\n",
    "print(\"Sensor data: \")\n",
    "print(\"Stretch data: strain- {}, stress- {} Pa\".format(bsensdata[0], bsensdata[1]))\n",
    "print(\"Bend data: location- {} meters, radius of curvature- {} meters, strain - {}\".format(sensdata[0], sensdata[1], sensdata[2]))"
   ]
  },
  {
   "cell_type": "code",
   "execution_count": 388,
   "id": "ddff6959-89ca-4de3-b03c-8758fffba48a",
   "metadata": {},
   "outputs": [],
   "source": [
    "# Math Model Lambda Functions\n",
    "\n",
    "convert_angle = lambda angle: 180 - angle\n",
    "calc_rad = lambda angle_array: length/(math.pi*(1-(convert_angle(angle_array)/180)))*100\n",
    "calc_strain = lambda radius: (0.5*0.002/radius)"
   ]
  },
  {
   "cell_type": "code",
   "execution_count": 461,
   "id": "386bd811-8bae-40f0-b39a-058a6e2480bb",
   "metadata": {},
   "outputs": [
    {
     "data": {
      "text/html": [
       "<div>\n",
       "<style scoped>\n",
       "    .dataframe tbody tr th:only-of-type {\n",
       "        vertical-align: middle;\n",
       "    }\n",
       "\n",
       "    .dataframe tbody tr th {\n",
       "        vertical-align: top;\n",
       "    }\n",
       "\n",
       "    .dataframe thead th {\n",
       "        text-align: right;\n",
       "    }\n",
       "</style>\n",
       "<table border=\"1\" class=\"dataframe\">\n",
       "  <thead>\n",
       "    <tr style=\"text-align: right;\">\n",
       "      <th></th>\n",
       "      <th>Sensor Type</th>\n",
       "      <th>Sensor Region</th>\n",
       "      <th>Contact Angle</th>\n",
       "      <th>Position</th>\n",
       "      <th>Time</th>\n",
       "    </tr>\n",
       "  </thead>\n",
       "  <tbody>\n",
       "    <tr>\n",
       "      <th>0</th>\n",
       "      <td>Normally Open Sensor</td>\n",
       "      <td>1</td>\n",
       "      <td>5.0</td>\n",
       "      <td>2.3</td>\n",
       "      <td>5 OCLOCK</td>\n",
       "    </tr>\n",
       "  </tbody>\n",
       "</table>\n",
       "</div>"
      ],
      "text/plain": [
       "            Sensor Type  Sensor Region  Contact Angle  Position      Time\n",
       "0  Normally Open Sensor              1            5.0       2.3  5 OCLOCK"
      ]
     },
     "execution_count": 461,
     "metadata": {},
     "output_type": "execute_result"
    }
   ],
   "source": [
    "# Ddetermine the type of sensor we are looking at (if necessary)\n",
    "\n",
    "# Determine the sensor region we are looking at\n",
    "\n",
    "# Extract Data and put them into new dataframe\n",
    "\n",
    "#beta[i][j]\n",
    " # i represents the new timestep, while j represents the value of the angle for the corresponding sensor region \n",
    "\n",
    " \n",
    "# Append the dataframe to the existing principal dataframe that is storing the entirety of the data for the whole duration of the trial.\n",
    "\n",
    "ross = pd.DataFrame({\"Sensor Type\" : 'Normally Open Sensor',\n",
    "              \"Sensor Region\" : 1,\n",
    "              \"Contact Angle\" : beta[0][0],\n",
    "              \"Position\" : 2.3 ,\n",
    "              \"Time\" : '5 OCLOCK' }, index = [0])\n",
    "\n",
    "\n",
    "ross"
   ]
  },
  {
   "cell_type": "code",
   "execution_count": 470,
   "id": "a8b740c9-04c7-4916-8aea-d9adb5f7f612",
   "metadata": {},
   "outputs": [
    {
     "data": {
      "text/plain": [
       "['',\n",
       " '(0,0,0,)|(0.00  0.00)',\n",
       " '(0,0,0,)|(0.00  0.00)',\n",
       " '(0,0,0,)|(0.00  0.00)',\n",
       " '(0,0,0,)|(0.00  0.00)',\n",
       " '(0,0,0,)|(0.00  0.00)',\n",
       " '(0,0,0,)|(0.00  0.00)',\n",
       " '(0,0,0,)|(0.00  0.00)',\n",
       " '(0,0,0,)|(0.00  0.00)',\n",
       " '(0,0,0,)|(0.00  0.00)']"
      ]
     },
     "execution_count": 470,
     "metadata": {},
     "output_type": "execute_result"
    }
   ],
   "source": [
    "sample"
   ]
  },
  {
   "cell_type": "code",
   "execution_count": 76,
   "id": "4547a92b-5726-421d-bddc-c913ca4ff092",
   "metadata": {},
   "outputs": [
    {
     "data": {
      "text/plain": [
       "array([[ 5.,  5., 65.],\n",
       "       [ 5.,  5., 65.],\n",
       "       [ 5.,  5., 65.],\n",
       "       [ 5.,  5., 65.],\n",
       "       [ 5.,  5., 65.],\n",
       "       [ 5.,  5., 65.],\n",
       "       [ 5.,  5., 65.],\n",
       "       [ 5.,  5., 65.],\n",
       "       [ 5.,  5., 65.],\n",
       "       [ 5.,  5., 65.]])"
      ]
     },
     "execution_count": 76,
     "metadata": {},
     "output_type": "execute_result"
    }
   ],
   "source": [
    "processed = process_data(sample, 3)\n",
    "processed[0] = processed[0]+5\n",
    "\n",
    "beta = processed[0]\n",
    "\n",
    "beta\n"
   ]
  },
  {
   "cell_type": "code",
   "execution_count": 13,
   "id": "10d9a561-24aa-4df6-9c9f-4a9cc0899055",
   "metadata": {},
   "outputs": [],
   "source": [
    "ser.close()"
   ]
  },
  {
   "cell_type": "code",
   "execution_count": null,
   "id": "666c4ff2-37c7-43fe-bdbe-48407a3a194c",
   "metadata": {},
   "outputs": [],
   "source": []
  }
 ],
 "metadata": {
  "kernelspec": {
   "display_name": "Python 3",
   "language": "python",
   "name": "python3"
  },
  "language_info": {
   "codemirror_mode": {
    "name": "ipython",
    "version": 3
   },
   "file_extension": ".py",
   "mimetype": "text/x-python",
   "name": "python",
   "nbconvert_exporter": "python",
   "pygments_lexer": "ipython3",
   "version": "3.8.8"
  }
 },
 "nbformat": 4,
 "nbformat_minor": 5
}
