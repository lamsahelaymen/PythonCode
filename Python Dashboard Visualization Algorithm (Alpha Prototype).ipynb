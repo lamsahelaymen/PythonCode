{
 "cells": [
  {
   "cell_type": "markdown",
   "id": "2399310a",
   "metadata": {},
   "source": [
    "# Dashboard Visualization Algorithm"
   ]
  },
  {
   "cell_type": "markdown",
   "id": "65f30581",
   "metadata": {},
   "source": [
    "## Introduction\n"
   ]
  },
  {
   "cell_type": "markdown",
   "id": "cca94abf",
   "metadata": {},
   "source": [
    "### Importation of Libraries"
   ]
  },
  {
   "cell_type": "code",
   "execution_count": null,
   "id": "c1a71876",
   "metadata": {},
   "outputs": [
    {
     "ename": "ModuleNotFoundError",
     "evalue": "No module named 'panel'",
     "output_type": "error",
     "traceback": [
      "\u001b[0;31m---------------------------------------------------------------------------\u001b[0m",
      "\u001b[0;31mModuleNotFoundError\u001b[0m                       Traceback (most recent call last)",
      "Input \u001b[0;32mIn [7]\u001b[0m, in \u001b[0;36m<cell line: 5>\u001b[0;34m()\u001b[0m\n\u001b[1;32m      3\u001b[0m \u001b[38;5;28;01mimport\u001b[39;00m \u001b[38;5;21;01mpandas\u001b[39;00m \u001b[38;5;28;01mas\u001b[39;00m \u001b[38;5;21;01mpd\u001b[39;00m\n\u001b[1;32m      4\u001b[0m \u001b[38;5;28;01mimport\u001b[39;00m \u001b[38;5;21;01mrequests\u001b[39;00m\n\u001b[0;32m----> 5\u001b[0m \u001b[38;5;28;01mimport\u001b[39;00m \u001b[38;5;21;01mpanel\u001b[39;00m \u001b[38;5;28;01mas\u001b[39;00m \u001b[38;5;21;01mpn\u001b[39;00m\n\u001b[1;32m      6\u001b[0m \u001b[38;5;28;01mimport\u001b[39;00m \u001b[38;5;21;01mhvplot\u001b[39;00m\u001b[38;5;21;01m.\u001b[39;00m\u001b[38;5;21;01mpandas\u001b[39;00m\n\u001b[1;32m      7\u001b[0m \u001b[38;5;28;01mimport\u001b[39;00m \u001b[38;5;21;01mhvplot\u001b[39;00m\u001b[38;5;21;01m.\u001b[39;00m\u001b[38;5;21;01mstreamz\u001b[39;00m\n",
      "\u001b[0;31mModuleNotFoundError\u001b[0m: No module named 'panel'"
     ]
    }
   ],
   "source": [
    "import operator as op\n",
    "import numpy as np\n",
    "import pandas as pd\n",
    "import requests\n",
    "import param\n",
    "import panel as pn\n",
    "pn.extension('tabulator')\n",
    "import hvplot.pandas\n",
    "\n",
    "import hvplot.streamz\n",
    "import holoviews as hv\n",
    "from holoviews.element.tiles import EsriImagery\n",
    "from holoviews.selection import link_selections\n",
    "from datashader.utils import lnglat_to_meters\n",
    "from streamz.dataframe import PeriodicDataFrame"
   ]
  },
  {
   "cell_type": "code",
   "execution_count": null,
   "id": "f1522465",
   "metadata": {},
   "outputs": [],
   "source": [
    "cd Senior Engineering Capstone"
   ]
  },
  {
   "cell_type": "markdown",
   "id": "9972a6e4",
   "metadata": {},
   "source": [
    "### Essential Functions"
   ]
  },
  {
   "cell_type": "code",
   "execution_count": null,
   "id": "ac80a876",
   "metadata": {},
   "outputs": [],
   "source": [
    "from datetime import timedelta, date\n",
    "\n",
    "def daterange(start, end):\n",
    "  return [start + timedelta(n) for n in range(int((end - start).days))]"
   ]
  },
  {
   "cell_type": "markdown",
   "id": "2850ae5c",
   "metadata": {},
   "source": [
    "## Serial Data Reading, Cleaning, and Preparation "
   ]
  },
  {
   "cell_type": "code",
   "execution_count": null,
   "id": "42a19006",
   "metadata": {},
   "outputs": [],
   "source": [
    "import serial\n",
    "ser = serial.Serial('/dev/ttyACM0')\n",
    "ser.flushInput()\n",
    "\n",
    "while True:\n",
    "    try:\n",
    "        ser_bytes = ser.readline()\n",
    "        decoded_bytes = float(ser_bytes[0:len(ser_bytes)-2].decode(\"utf-8\"))\n",
    "        print(decoded_bytes)\n",
    "    except:\n",
    "        print(\"Keyboard Interrupt\")\n",
    "        break"
   ]
  },
  {
   "cell_type": "code",
   "execution_count": null,
   "id": "630ade54",
   "metadata": {},
   "outputs": [],
   "source": []
  },
  {
   "cell_type": "markdown",
   "id": "c26cabaa",
   "metadata": {},
   "source": [
    "## Data Wrangling"
   ]
  },
  {
   "cell_type": "markdown",
   "id": "56023b73",
   "metadata": {},
   "source": [
    "### DataFrames Creation"
   ]
  },
  {
   "cell_type": "code",
   "execution_count": 1,
   "id": "439beb75",
   "metadata": {},
   "outputs": [],
   "source": [
    "# DataFrame for Normally Open and Closed Sensors\n",
    "contactsensor = ['sensor1','sensor2']\n",
    "sensorregion = ['Region 1','Region 2', 'Region 3', 'Region 4', 'Region 5', 'Region 6','Region 7']\n",
    "data = np.random.randint(0,150,size=(33600, 2))\n",
    "ocsensors = pd.DataFrame(data, index = [['Normally Open Sensor']*16800 + ['Normally Closed Sensor']*16800, sensorregion*4800],columns = [['ContactAngle']*1 + ['Position']*1])\n",
    "ocsensors.index.names = ['Sensor Type','Sensor Region']\n",
    "ocsensors.columns.names = ['Sensor Data']\n",
    "ocsensors['Time'] = list(np.repeat(times,7))*2"
   ]
  },
  {
   "cell_type": "code",
   "execution_count": 10,
   "id": "9954fc95",
   "metadata": {},
   "outputs": [
    {
     "data": {
      "text/html": [
       "<div>\n",
       "<style scoped>\n",
       "    .dataframe tbody tr th:only-of-type {\n",
       "        vertical-align: middle;\n",
       "    }\n",
       "\n",
       "    .dataframe tbody tr th {\n",
       "        vertical-align: top;\n",
       "    }\n",
       "\n",
       "    .dataframe thead th {\n",
       "        text-align: right;\n",
       "    }\n",
       "</style>\n",
       "<table border=\"1\" class=\"dataframe\">\n",
       "  <thead>\n",
       "    <tr style=\"text-align: right;\">\n",
       "      <th>Sensor Data</th>\n",
       "      <th>Time</th>\n",
       "      <th>Stress</th>\n",
       "      <th>Strain</th>\n",
       "    </tr>\n",
       "  </thead>\n",
       "  <tbody>\n",
       "    <tr>\n",
       "      <th>0</th>\n",
       "      <td>00:00:00.000000</td>\n",
       "      <td>97</td>\n",
       "      <td>43</td>\n",
       "    </tr>\n",
       "    <tr>\n",
       "      <th>1</th>\n",
       "      <td>00:00:00.245518</td>\n",
       "      <td>68</td>\n",
       "      <td>4</td>\n",
       "    </tr>\n",
       "    <tr>\n",
       "      <th>2</th>\n",
       "      <td>00:00:00.491037</td>\n",
       "      <td>59</td>\n",
       "      <td>10</td>\n",
       "    </tr>\n",
       "    <tr>\n",
       "      <th>3</th>\n",
       "      <td>00:00:00.736556</td>\n",
       "      <td>67</td>\n",
       "      <td>11</td>\n",
       "    </tr>\n",
       "    <tr>\n",
       "      <th>4</th>\n",
       "      <td>00:00:00.982075</td>\n",
       "      <td>68</td>\n",
       "      <td>11</td>\n",
       "    </tr>\n",
       "    <tr>\n",
       "      <th>...</th>\n",
       "      <td>...</td>\n",
       "      <td>...</td>\n",
       "      <td>...</td>\n",
       "    </tr>\n",
       "    <tr>\n",
       "      <th>2395</th>\n",
       "      <td>00:09:48.017924</td>\n",
       "      <td>94</td>\n",
       "      <td>2</td>\n",
       "    </tr>\n",
       "    <tr>\n",
       "      <th>2396</th>\n",
       "      <td>00:09:48.263443</td>\n",
       "      <td>89</td>\n",
       "      <td>19</td>\n",
       "    </tr>\n",
       "    <tr>\n",
       "      <th>2397</th>\n",
       "      <td>00:09:48.508962</td>\n",
       "      <td>85</td>\n",
       "      <td>46</td>\n",
       "    </tr>\n",
       "    <tr>\n",
       "      <th>2398</th>\n",
       "      <td>00:09:48.754481</td>\n",
       "      <td>63</td>\n",
       "      <td>11</td>\n",
       "    </tr>\n",
       "    <tr>\n",
       "      <th>2399</th>\n",
       "      <td>00:09:49.000000</td>\n",
       "      <td>72</td>\n",
       "      <td>18</td>\n",
       "    </tr>\n",
       "  </tbody>\n",
       "</table>\n",
       "<p>2400 rows × 3 columns</p>\n",
       "</div>"
      ],
      "text/plain": [
       "Sensor Data             Time  Stress  Strain\n",
       "0            00:00:00.000000      97      43\n",
       "1            00:00:00.245518      68       4\n",
       "2            00:00:00.491037      59      10\n",
       "3            00:00:00.736556      67      11\n",
       "4            00:00:00.982075      68      11\n",
       "...                      ...     ...     ...\n",
       "2395         00:09:48.017924      94       2\n",
       "2396         00:09:48.263443      89      19\n",
       "2397         00:09:48.508962      85      46\n",
       "2398         00:09:48.754481      63      11\n",
       "2399         00:09:49.000000      72      18\n",
       "\n",
       "[2400 rows x 3 columns]"
      ]
     },
     "execution_count": 10,
     "metadata": {},
     "output_type": "execute_result"
    }
   ],
   "source": [
    "times = pd.date_range(start='2023-03-10 00:00:00', end='2023-03-10 00:09:49', periods=2400).strftime('%H:%M:%S.%f')\n",
    "times = times.to_list()\n",
    "\n",
    "# DataFrame for BendLabs Sensor \n",
    "data_bl = times\n",
    "blsensor = pd.DataFrame(data_bl, columns = ['Time']) \n",
    "blsensor['Stress'] = np.random.randint(50,100,size=(2400, 1))\n",
    "blsensor['Strain'] = np.random.randint(0,50,size=(2400, 1))\n",
    "blsensor.columns.names = ['Sensor Data']"
   ]
  },
  {
   "cell_type": "code",
   "execution_count": 308,
   "id": "662bb891",
   "metadata": {},
   "outputs": [
    {
     "data": {
      "text/html": [
       "<div>\n",
       "<style scoped>\n",
       "    .dataframe tbody tr th:only-of-type {\n",
       "        vertical-align: middle;\n",
       "    }\n",
       "\n",
       "    .dataframe tbody tr th {\n",
       "        vertical-align: top;\n",
       "    }\n",
       "\n",
       "    .dataframe thead th {\n",
       "        text-align: right;\n",
       "    }\n",
       "</style>\n",
       "<table border=\"1\" class=\"dataframe\">\n",
       "  <thead>\n",
       "    <tr style=\"text-align: right;\">\n",
       "      <th></th>\n",
       "      <th>Sensor Type</th>\n",
       "      <th>Sensor Region</th>\n",
       "      <th>Contact Angle</th>\n",
       "      <th>Position</th>\n",
       "      <th>Time</th>\n",
       "    </tr>\n",
       "  </thead>\n",
       "  <tbody>\n",
       "    <tr>\n",
       "      <th>0</th>\n",
       "      <td>Normally Open Sensor</td>\n",
       "      <td>Region 1</td>\n",
       "      <td>64</td>\n",
       "      <td>122</td>\n",
       "      <td>00:00:00.000000</td>\n",
       "    </tr>\n",
       "    <tr>\n",
       "      <th>1</th>\n",
       "      <td>Normally Open Sensor</td>\n",
       "      <td>Region 2</td>\n",
       "      <td>118</td>\n",
       "      <td>3</td>\n",
       "      <td>00:00:00.000000</td>\n",
       "    </tr>\n",
       "    <tr>\n",
       "      <th>2</th>\n",
       "      <td>Normally Open Sensor</td>\n",
       "      <td>Region 3</td>\n",
       "      <td>72</td>\n",
       "      <td>69</td>\n",
       "      <td>00:00:00.000000</td>\n",
       "    </tr>\n",
       "    <tr>\n",
       "      <th>3</th>\n",
       "      <td>Normally Open Sensor</td>\n",
       "      <td>Region 4</td>\n",
       "      <td>58</td>\n",
       "      <td>14</td>\n",
       "      <td>00:00:00.000000</td>\n",
       "    </tr>\n",
       "    <tr>\n",
       "      <th>4</th>\n",
       "      <td>Normally Open Sensor</td>\n",
       "      <td>Region 5</td>\n",
       "      <td>66</td>\n",
       "      <td>129</td>\n",
       "      <td>00:00:00.000000</td>\n",
       "    </tr>\n",
       "    <tr>\n",
       "      <th>...</th>\n",
       "      <td>...</td>\n",
       "      <td>...</td>\n",
       "      <td>...</td>\n",
       "      <td>...</td>\n",
       "      <td>...</td>\n",
       "    </tr>\n",
       "    <tr>\n",
       "      <th>33595</th>\n",
       "      <td>Normally Closed Sensor</td>\n",
       "      <td>Region 3</td>\n",
       "      <td>20</td>\n",
       "      <td>140</td>\n",
       "      <td>00:09:49.000000</td>\n",
       "    </tr>\n",
       "    <tr>\n",
       "      <th>33596</th>\n",
       "      <td>Normally Closed Sensor</td>\n",
       "      <td>Region 4</td>\n",
       "      <td>4</td>\n",
       "      <td>91</td>\n",
       "      <td>00:09:49.000000</td>\n",
       "    </tr>\n",
       "    <tr>\n",
       "      <th>33597</th>\n",
       "      <td>Normally Closed Sensor</td>\n",
       "      <td>Region 5</td>\n",
       "      <td>70</td>\n",
       "      <td>26</td>\n",
       "      <td>00:09:49.000000</td>\n",
       "    </tr>\n",
       "    <tr>\n",
       "      <th>33598</th>\n",
       "      <td>Normally Closed Sensor</td>\n",
       "      <td>Region 6</td>\n",
       "      <td>126</td>\n",
       "      <td>99</td>\n",
       "      <td>00:09:49.000000</td>\n",
       "    </tr>\n",
       "    <tr>\n",
       "      <th>33599</th>\n",
       "      <td>Normally Closed Sensor</td>\n",
       "      <td>Region 7</td>\n",
       "      <td>145</td>\n",
       "      <td>47</td>\n",
       "      <td>00:09:49.000000</td>\n",
       "    </tr>\n",
       "  </tbody>\n",
       "</table>\n",
       "<p>33600 rows × 5 columns</p>\n",
       "</div>"
      ],
      "text/plain": [
       "                  Sensor Type Sensor Region  Contact Angle  Position  \\\n",
       "0        Normally Open Sensor      Region 1             64       122   \n",
       "1        Normally Open Sensor      Region 2            118         3   \n",
       "2        Normally Open Sensor      Region 3             72        69   \n",
       "3        Normally Open Sensor      Region 4             58        14   \n",
       "4        Normally Open Sensor      Region 5             66       129   \n",
       "...                       ...           ...            ...       ...   \n",
       "33595  Normally Closed Sensor      Region 3             20       140   \n",
       "33596  Normally Closed Sensor      Region 4              4        91   \n",
       "33597  Normally Closed Sensor      Region 5             70        26   \n",
       "33598  Normally Closed Sensor      Region 6            126        99   \n",
       "33599  Normally Closed Sensor      Region 7            145        47   \n",
       "\n",
       "                  Time  \n",
       "0      00:00:00.000000  \n",
       "1      00:00:00.000000  \n",
       "2      00:00:00.000000  \n",
       "3      00:00:00.000000  \n",
       "4      00:00:00.000000  \n",
       "...                ...  \n",
       "33595  00:09:49.000000  \n",
       "33596  00:09:49.000000  \n",
       "33597  00:09:49.000000  \n",
       "33598  00:09:49.000000  \n",
       "33599  00:09:49.000000  \n",
       "\n",
       "[33600 rows x 5 columns]"
      ]
     },
     "execution_count": 308,
     "metadata": {},
     "output_type": "execute_result"
    }
   ],
   "source": [
    "ocsensors.reset_index(inplace=True)\n",
    "ocsensors.columns.name = None\n",
    "ocsensors.columns = ['Sensor Type', 'Sensor Region','Contact Angle', 'Position', 'Time']\n",
    "ocsensors"
   ]
  },
  {
   "cell_type": "markdown",
   "id": "46174550",
   "metadata": {},
   "source": [
    "### DataFrames' Partition"
   ]
  },
  {
   "cell_type": "code",
   "execution_count": null,
   "id": "f1e4a1e8",
   "metadata": {},
   "outputs": [],
   "source": []
  },
  {
   "cell_type": "markdown",
   "id": "7d5f4e32",
   "metadata": {},
   "source": [
    "### Creating Interactive Dashboard"
   ]
  },
  {
   "cell_type": "code",
   "execution_count": 85,
   "id": "2a64a9e6",
   "metadata": {},
   "outputs": [],
   "source": [
    "# Make dataframe pipeline interactive\n",
    "idf = flights_sample.interactive()"
   ]
  },
  {
   "cell_type": "code",
   "execution_count": 86,
   "id": "8929ac12",
   "metadata": {},
   "outputs": [
    {
     "data": {},
     "metadata": {},
     "output_type": "display_data"
    },
    {
     "data": {
      "application/vnd.holoviews_exec.v0+json": "",
      "text/html": [
       "<div id='19922'>\n",
       "\n",
       "\n",
       "\n",
       "\n",
       "\n",
       "  <div class=\"bk-root\" id=\"a9ee2441-e1c5-4d9c-86e4-e03d5882b35c\" data-root-id=\"19922\"></div>\n",
       "</div>\n",
       "<script type=\"application/javascript\">(function(root) {\n",
       "  function embed_document(root) {\n",
       "    var docs_json = {\"c4bdaead-11e9-4faf-be7a-ad959aa077b0\":{\"defs\":[{\"extends\":null,\"module\":null,\"name\":\"ReactiveHTML1\",\"overrides\":[],\"properties\":[]},{\"extends\":null,\"module\":null,\"name\":\"FlexBox1\",\"overrides\":[],\"properties\":[{\"default\":\"flex-start\",\"kind\":null,\"name\":\"align_content\"},{\"default\":\"flex-start\",\"kind\":null,\"name\":\"align_items\"},{\"default\":\"row\",\"kind\":null,\"name\":\"flex_direction\"},{\"default\":\"wrap\",\"kind\":null,\"name\":\"flex_wrap\"},{\"default\":\"flex-start\",\"kind\":null,\"name\":\"justify_content\"}]},{\"extends\":null,\"module\":null,\"name\":\"GridStack1\",\"overrides\":[],\"properties\":[{\"default\":\"warn\",\"kind\":null,\"name\":\"mode\"},{\"default\":null,\"kind\":null,\"name\":\"ncols\"},{\"default\":null,\"kind\":null,\"name\":\"nrows\"},{\"default\":true,\"kind\":null,\"name\":\"allow_resize\"},{\"default\":true,\"kind\":null,\"name\":\"allow_drag\"},{\"default\":[],\"kind\":null,\"name\":\"state\"}]},{\"extends\":null,\"module\":null,\"name\":\"click1\",\"overrides\":[],\"properties\":[{\"default\":\"\",\"kind\":null,\"name\":\"terminal_output\"},{\"default\":\"\",\"kind\":null,\"name\":\"debug_name\"},{\"default\":0,\"kind\":null,\"name\":\"clears\"}]},{\"extends\":null,\"module\":null,\"name\":\"NotificationAreaBase1\",\"overrides\":[],\"properties\":[{\"default\":\"bottom-right\",\"kind\":null,\"name\":\"position\"},{\"default\":0,\"kind\":null,\"name\":\"_clear\"}]},{\"extends\":null,\"module\":null,\"name\":\"NotificationArea1\",\"overrides\":[],\"properties\":[{\"default\":[],\"kind\":null,\"name\":\"notifications\"},{\"default\":\"bottom-right\",\"kind\":null,\"name\":\"position\"},{\"default\":0,\"kind\":null,\"name\":\"_clear\"},{\"default\":[{\"background\":\"#ffc107\",\"icon\":{\"className\":\"fas fa-exclamation-triangle\",\"color\":\"white\",\"tagName\":\"i\"},\"type\":\"warning\"},{\"background\":\"#007bff\",\"icon\":{\"className\":\"fas fa-info-circle\",\"color\":\"white\",\"tagName\":\"i\"},\"type\":\"info\"}],\"kind\":null,\"name\":\"types\"}]},{\"extends\":null,\"module\":null,\"name\":\"Notification\",\"overrides\":[],\"properties\":[{\"default\":null,\"kind\":null,\"name\":\"background\"},{\"default\":3000,\"kind\":null,\"name\":\"duration\"},{\"default\":null,\"kind\":null,\"name\":\"icon\"},{\"default\":\"\",\"kind\":null,\"name\":\"message\"},{\"default\":null,\"kind\":null,\"name\":\"notification_type\"},{\"default\":false,\"kind\":null,\"name\":\"_destroyed\"}]},{\"extends\":null,\"module\":null,\"name\":\"TemplateActions1\",\"overrides\":[],\"properties\":[{\"default\":0,\"kind\":null,\"name\":\"open_modal\"},{\"default\":0,\"kind\":null,\"name\":\"close_modal\"}]},{\"extends\":null,\"module\":null,\"name\":\"MaterialTemplateActions1\",\"overrides\":[],\"properties\":[{\"default\":0,\"kind\":null,\"name\":\"open_modal\"},{\"default\":0,\"kind\":null,\"name\":\"close_modal\"}]}],\"roots\":{\"references\":[{\"attributes\":{\"client_comm_id\":\"12925b648a51401d850a632b7f7aa129\",\"comm_id\":\"93c1dfc27d49495084732eb81ae6354b\",\"plot_id\":\"19922\"},\"id\":\"19923\",\"type\":\"panel.models.comm_manager.CommManager\"},{\"attributes\":{\"end\":365,\"margin\":[5,10,5,10],\"start\":0,\"title\":\"Day_of_Year slider\",\"value\":200},\"id\":\"19922\",\"type\":\"Slider\"}],\"root_ids\":[\"19922\",\"19923\"]},\"title\":\"Bokeh Application\",\"version\":\"2.4.2\"}};\n",
       "    var render_items = [{\"docid\":\"c4bdaead-11e9-4faf-be7a-ad959aa077b0\",\"root_ids\":[\"19922\"],\"roots\":{\"19922\":\"a9ee2441-e1c5-4d9c-86e4-e03d5882b35c\"}}];\n",
       "    root.Bokeh.embed.embed_items_notebook(docs_json, render_items);\n",
       "    for (const render_item of render_items) {\n",
       "      for (const root_id of render_item.root_ids) {\n",
       "\tconst id_el = document.getElementById(root_id)\n",
       "\tif (id_el.children.length && (id_el.children[0].className === 'bk-root')) {\n",
       "\t  const root_el = id_el.children[0]\n",
       "\t  root_el.id = root_el.id + '-rendered'\n",
       "\t}\n",
       "      }\n",
       "    }\n",
       "  }\n",
       "  if (root.Bokeh !== undefined && root.Bokeh.Panel !== undefined && ( root['Tabulator'] !== undefined) && ( root['Tabulator'] !== undefined)) {\n",
       "    embed_document(root);\n",
       "  } else {\n",
       "    var attempts = 0;\n",
       "    var timer = setInterval(function(root) {\n",
       "      if (root.Bokeh !== undefined && root.Bokeh.Panel !== undefined && (root['Tabulator'] !== undefined) && (root['Tabulator'] !== undefined)) {\n",
       "        clearInterval(timer);\n",
       "        embed_document(root);\n",
       "      } else if (document.readyState == \"complete\") {\n",
       "        attempts++;\n",
       "        if (attempts > 200) {\n",
       "          clearInterval(timer);\n",
       "          console.log(\"Bokeh: ERROR: Unable to run BokehJS code because BokehJS library is missing\");\n",
       "        }\n",
       "      }\n",
       "    }, 25, root)\n",
       "  }\n",
       "})(window);</script>"
      ],
      "text/plain": [
       "IntSlider(end=365, name='Day_of_Year slider', value=200)"
      ]
     },
     "execution_count": 86,
     "metadata": {
      "application/vnd.holoviews_exec.v0+json": {
       "id": "19922"
      }
     },
     "output_type": "execute_result"
    }
   ],
   "source": [
    "# Define Panel widgets\n",
    "doy_slider = pn.widgets.IntSlider(name='Day_of_Year slider', start=0, end=365, step=1, value=200)\n",
    "doy_slider"
   ]
  },
  {
   "cell_type": "code",
   "execution_count": 87,
   "id": "5dad92c5",
   "metadata": {},
   "outputs": [],
   "source": [
    "# Radio buttons for Departure Delay Times\n",
    "yaxis_dd = pn.widgets.RadioButtonGroup(\n",
    "    name='Y axis', \n",
    "    options=['departure_delay', 'scheduled_departure',],\n",
    "    button_type='success'\n",
    ")"
   ]
  },
  {
   "cell_type": "code",
   "execution_count": 88,
   "id": "cc18db54",
   "metadata": {},
   "outputs": [
    {
     "data": {},
     "metadata": {},
     "output_type": "display_data"
    },
    {
     "data": {
      "application/vnd.holoviews_exec.v0+json": "",
      "text/html": [
       "<div id='19924'>\n",
       "\n",
       "\n",
       "\n",
       "\n",
       "\n",
       "  <div class=\"bk-root\" id=\"9ed87a78-5201-4e4a-85cf-216307d01fe5\" data-root-id=\"19924\"></div>\n",
       "</div>\n",
       "<script type=\"application/javascript\">(function(root) {\n",
       "  function embed_document(root) {\n",
       "    var docs_json = {\"ccfc5d59-25b7-4c68-b18a-6ea2a4560119\":{\"defs\":[{\"extends\":null,\"module\":null,\"name\":\"ReactiveHTML1\",\"overrides\":[],\"properties\":[]},{\"extends\":null,\"module\":null,\"name\":\"FlexBox1\",\"overrides\":[],\"properties\":[{\"default\":\"flex-start\",\"kind\":null,\"name\":\"align_content\"},{\"default\":\"flex-start\",\"kind\":null,\"name\":\"align_items\"},{\"default\":\"row\",\"kind\":null,\"name\":\"flex_direction\"},{\"default\":\"wrap\",\"kind\":null,\"name\":\"flex_wrap\"},{\"default\":\"flex-start\",\"kind\":null,\"name\":\"justify_content\"}]},{\"extends\":null,\"module\":null,\"name\":\"GridStack1\",\"overrides\":[],\"properties\":[{\"default\":\"warn\",\"kind\":null,\"name\":\"mode\"},{\"default\":null,\"kind\":null,\"name\":\"ncols\"},{\"default\":null,\"kind\":null,\"name\":\"nrows\"},{\"default\":true,\"kind\":null,\"name\":\"allow_resize\"},{\"default\":true,\"kind\":null,\"name\":\"allow_drag\"},{\"default\":[],\"kind\":null,\"name\":\"state\"}]},{\"extends\":null,\"module\":null,\"name\":\"click1\",\"overrides\":[],\"properties\":[{\"default\":\"\",\"kind\":null,\"name\":\"terminal_output\"},{\"default\":\"\",\"kind\":null,\"name\":\"debug_name\"},{\"default\":0,\"kind\":null,\"name\":\"clears\"}]},{\"extends\":null,\"module\":null,\"name\":\"NotificationAreaBase1\",\"overrides\":[],\"properties\":[{\"default\":\"bottom-right\",\"kind\":null,\"name\":\"position\"},{\"default\":0,\"kind\":null,\"name\":\"_clear\"}]},{\"extends\":null,\"module\":null,\"name\":\"NotificationArea1\",\"overrides\":[],\"properties\":[{\"default\":[],\"kind\":null,\"name\":\"notifications\"},{\"default\":\"bottom-right\",\"kind\":null,\"name\":\"position\"},{\"default\":0,\"kind\":null,\"name\":\"_clear\"},{\"default\":[{\"background\":\"#ffc107\",\"icon\":{\"className\":\"fas fa-exclamation-triangle\",\"color\":\"white\",\"tagName\":\"i\"},\"type\":\"warning\"},{\"background\":\"#007bff\",\"icon\":{\"className\":\"fas fa-info-circle\",\"color\":\"white\",\"tagName\":\"i\"},\"type\":\"info\"}],\"kind\":null,\"name\":\"types\"}]},{\"extends\":null,\"module\":null,\"name\":\"Notification\",\"overrides\":[],\"properties\":[{\"default\":null,\"kind\":null,\"name\":\"background\"},{\"default\":3000,\"kind\":null,\"name\":\"duration\"},{\"default\":null,\"kind\":null,\"name\":\"icon\"},{\"default\":\"\",\"kind\":null,\"name\":\"message\"},{\"default\":null,\"kind\":null,\"name\":\"notification_type\"},{\"default\":false,\"kind\":null,\"name\":\"_destroyed\"}]},{\"extends\":null,\"module\":null,\"name\":\"TemplateActions1\",\"overrides\":[],\"properties\":[{\"default\":0,\"kind\":null,\"name\":\"open_modal\"},{\"default\":0,\"kind\":null,\"name\":\"close_modal\"}]},{\"extends\":null,\"module\":null,\"name\":\"MaterialTemplateActions1\",\"overrides\":[],\"properties\":[{\"default\":0,\"kind\":null,\"name\":\"open_modal\"},{\"default\":0,\"kind\":null,\"name\":\"close_modal\"}]}],\"roots\":{\"references\":[{\"attributes\":{\"end\":365,\"margin\":[5,10,5,10],\"start\":0,\"title\":\"Day_of_Year slider\",\"value\":232},\"id\":\"19928\",\"type\":\"Slider\"},{\"attributes\":{\"children\":[{\"id\":\"19928\"}],\"margin\":[0,0,0,0],\"name\":\"Column64065\"},\"id\":\"19927\",\"type\":\"Column\"},{\"attributes\":{\"children\":[{\"id\":\"19927\"},{\"id\":\"19929\"}],\"margin\":[0,0,0,0],\"name\":\"Row64106\"},\"id\":\"19926\",\"type\":\"Row\"},{\"attributes\":{\"margin\":[5,5,5,5],\"name\":\"HSpacer64105\",\"sizing_mode\":\"stretch_width\"},\"id\":\"19929\",\"type\":\"Spacer\"},{\"attributes\":{\"children\":[{\"id\":\"19926\"},{\"id\":\"19930\"}],\"margin\":[0,0,0,0],\"name\":\"Column64107\"},\"id\":\"19925\",\"type\":\"Column\"},{\"attributes\":{\"margin\":[5,5,5,5],\"name\":\"DataFrame64103\",\"text\":\"&lt;table border=&quot;0&quot; class=&quot;dataframe panel-df&quot;&gt;\\n  &lt;thead&gt;\\n    &lt;tr style=&quot;text-align: right;&quot;&gt;\\n      &lt;th&gt;&lt;/th&gt;\\n      &lt;th&gt;airline&lt;/th&gt;\\n      &lt;th&gt;day&lt;/th&gt;\\n      &lt;th&gt;day_of_week&lt;/th&gt;\\n      &lt;th&gt;departure_delay&lt;/th&gt;\\n      &lt;th&gt;destination_airport&lt;/th&gt;\\n      &lt;th&gt;destination_latitude&lt;/th&gt;\\n      &lt;th&gt;destination_longitude&lt;/th&gt;\\n      &lt;th&gt;distance&lt;/th&gt;\\n      &lt;th&gt;month&lt;/th&gt;\\n      &lt;th&gt;origin_airport&lt;/th&gt;\\n      &lt;th&gt;origin_latitude&lt;/th&gt;\\n      &lt;th&gt;origin_longitude&lt;/th&gt;\\n      &lt;th&gt;scheduled_arrival&lt;/th&gt;\\n      &lt;th&gt;scheduled_departure&lt;/th&gt;\\n      &lt;th&gt;scheduled_time&lt;/th&gt;\\n      &lt;th&gt;state_destination&lt;/th&gt;\\n      &lt;th&gt;state_origin&lt;/th&gt;\\n      &lt;th&gt;taxi_in&lt;/th&gt;\\n      &lt;th&gt;taxi_out&lt;/th&gt;\\n      &lt;th&gt;day_of_year&lt;/th&gt;\\n      &lt;th&gt;origin_temperature&lt;/th&gt;\\n      &lt;th&gt;destination_temperature&lt;/th&gt;\\n    &lt;/tr&gt;\\n  &lt;/thead&gt;\\n  &lt;tbody&gt;\\n    &lt;tr&gt;\\n      &lt;th&gt;1392512&lt;/th&gt;\\n      &lt;td&gt;DL&lt;/td&gt;\\n      &lt;td&gt;11&lt;/td&gt;\\n      &lt;td&gt;7&lt;/td&gt;\\n      &lt;td&gt;2.0&lt;/td&gt;\\n      &lt;td&gt;ATL&lt;/td&gt;\\n      &lt;td&gt;33.64044&lt;/td&gt;\\n      &lt;td&gt;-84.42694&lt;/td&gt;\\n      &lt;td&gt;545&lt;/td&gt;\\n      &lt;td&gt;1&lt;/td&gt;\\n      &lt;td&gt;PBI&lt;/td&gt;\\n      &lt;td&gt;26.68316&lt;/td&gt;\\n      &lt;td&gt;-80.09559&lt;/td&gt;\\n      &lt;td&gt;608&lt;/td&gt;\\n      &lt;td&gt;495&lt;/td&gt;\\n      &lt;td&gt;113.0&lt;/td&gt;\\n      &lt;td&gt;GA&lt;/td&gt;\\n      &lt;td&gt;FL&lt;/td&gt;\\n      &lt;td&gt;12.0&lt;/td&gt;\\n      &lt;td&gt;13.0&lt;/td&gt;\\n      &lt;td&gt;11&lt;/td&gt;\\n      &lt;td&gt;75.1&lt;/td&gt;\\n      &lt;td&gt;36.8&lt;/td&gt;\\n    &lt;/tr&gt;\\n    &lt;tr&gt;\\n      &lt;th&gt;2395188&lt;/th&gt;\\n      &lt;td&gt;OO&lt;/td&gt;\\n      &lt;td&gt;24&lt;/td&gt;\\n      &lt;td&gt;7&lt;/td&gt;\\n      &lt;td&gt;3.0&lt;/td&gt;\\n      &lt;td&gt;IAH&lt;/td&gt;\\n      &lt;td&gt;29.98047&lt;/td&gt;\\n      &lt;td&gt;-95.33972&lt;/td&gt;\\n      &lt;td&gt;140&lt;/td&gt;\\n      &lt;td&gt;5&lt;/td&gt;\\n      &lt;td&gt;AUS&lt;/td&gt;\\n      &lt;td&gt;30.19453&lt;/td&gt;\\n      &lt;td&gt;-97.66987&lt;/td&gt;\\n      &lt;td&gt;555&lt;/td&gt;\\n      &lt;td&gt;495&lt;/td&gt;\\n      &lt;td&gt;60.0&lt;/td&gt;\\n      &lt;td&gt;TX&lt;/td&gt;\\n      &lt;td&gt;TX&lt;/td&gt;\\n      &lt;td&gt;5.0&lt;/td&gt;\\n      &lt;td&gt;20.0&lt;/td&gt;\\n      &lt;td&gt;144&lt;/td&gt;\\n      &lt;td&gt;70.0&lt;/td&gt;\\n      &lt;td&gt;76.7&lt;/td&gt;\\n    &lt;/tr&gt;\\n    &lt;tr&gt;\\n      &lt;th&gt;2209214&lt;/th&gt;\\n      &lt;td&gt;UA&lt;/td&gt;\\n      &lt;td&gt;28&lt;/td&gt;\\n      &lt;td&gt;2&lt;/td&gt;\\n      &lt;td&gt;-3.0&lt;/td&gt;\\n      &lt;td&gt;EWR&lt;/td&gt;\\n      &lt;td&gt;40.69250&lt;/td&gt;\\n      &lt;td&gt;-74.16866&lt;/td&gt;\\n      &lt;td&gt;2565&lt;/td&gt;\\n      &lt;td&gt;4&lt;/td&gt;\\n      &lt;td&gt;SFO&lt;/td&gt;\\n      &lt;td&gt;37.61900&lt;/td&gt;\\n      &lt;td&gt;-122.37484&lt;/td&gt;\\n      &lt;td&gt;879&lt;/td&gt;\\n      &lt;td&gt;360&lt;/td&gt;\\n      &lt;td&gt;339.0&lt;/td&gt;\\n      &lt;td&gt;NJ&lt;/td&gt;\\n      &lt;td&gt;CA&lt;/td&gt;\\n      &lt;td&gt;7.0&lt;/td&gt;\\n      &lt;td&gt;18.0&lt;/td&gt;\\n      &lt;td&gt;118&lt;/td&gt;\\n      &lt;td&gt;56.0&lt;/td&gt;\\n      &lt;td&gt;58.8&lt;/td&gt;\\n    &lt;/tr&gt;\\n    &lt;tr&gt;\\n      &lt;th&gt;3872962&lt;/th&gt;\\n      &lt;td&gt;EV&lt;/td&gt;\\n      &lt;td&gt;10&lt;/td&gt;\\n      &lt;td&gt;1&lt;/td&gt;\\n      &lt;td&gt;-3.0&lt;/td&gt;\\n      &lt;td&gt;LEX&lt;/td&gt;\\n      &lt;td&gt;38.03697&lt;/td&gt;\\n      &lt;td&gt;-84.60539&lt;/td&gt;\\n      &lt;td&gt;828&lt;/td&gt;\\n      &lt;td&gt;8&lt;/td&gt;\\n      &lt;td&gt;IAH&lt;/td&gt;\\n      &lt;td&gt;29.98047&lt;/td&gt;\\n      &lt;td&gt;-95.33972&lt;/td&gt;\\n      &lt;td&gt;814&lt;/td&gt;\\n      &lt;td&gt;616&lt;/td&gt;\\n      &lt;td&gt;138.0&lt;/td&gt;\\n      &lt;td&gt;KY&lt;/td&gt;\\n      &lt;td&gt;TX&lt;/td&gt;\\n      &lt;td&gt;5.0&lt;/td&gt;\\n      &lt;td&gt;11.0&lt;/td&gt;\\n      &lt;td&gt;222&lt;/td&gt;\\n      &lt;td&gt;88.4&lt;/td&gt;\\n      &lt;td&gt;77.4&lt;/td&gt;\\n    &lt;/tr&gt;\\n    &lt;tr&gt;\\n      &lt;th&gt;2645316&lt;/th&gt;\\n      &lt;td&gt;WN&lt;/td&gt;\\n      &lt;td&gt;8&lt;/td&gt;\\n      &lt;td&gt;3&lt;/td&gt;\\n      &lt;td&gt;-2.0&lt;/td&gt;\\n      &lt;td&gt;BNA&lt;/td&gt;\\n      &lt;td&gt;36.12448&lt;/td&gt;\\n      &lt;td&gt;-86.67818&lt;/td&gt;\\n      &lt;td&gt;756&lt;/td&gt;\\n      &lt;td&gt;7&lt;/td&gt;\\n      &lt;td&gt;AUS&lt;/td&gt;\\n      &lt;td&gt;30.19453&lt;/td&gt;\\n      &lt;td&gt;-97.66987&lt;/td&gt;\\n      &lt;td&gt;430&lt;/td&gt;\\n      &lt;td&gt;310&lt;/td&gt;\\n      &lt;td&gt;120.0&lt;/td&gt;\\n      &lt;td&gt;TN&lt;/td&gt;\\n      &lt;td&gt;TX&lt;/td&gt;\\n      &lt;td&gt;8.0&lt;/td&gt;\\n      &lt;td&gt;8.0&lt;/td&gt;\\n      &lt;td&gt;189&lt;/td&gt;\\n      &lt;td&gt;81.1&lt;/td&gt;\\n      &lt;td&gt;72.9&lt;/td&gt;\\n    &lt;/tr&gt;\\n    &lt;tr&gt;\\n      &lt;th&gt;1728067&lt;/th&gt;\\n      &lt;td&gt;WN&lt;/td&gt;\\n      &lt;td&gt;24&lt;/td&gt;\\n      &lt;td&gt;2&lt;/td&gt;\\n      &lt;td&gt;3.0&lt;/td&gt;\\n      &lt;td&gt;MDW&lt;/td&gt;\\n      &lt;td&gt;41.78598&lt;/td&gt;\\n      &lt;td&gt;-87.75242&lt;/td&gt;\\n      &lt;td&gt;1444&lt;/td&gt;\\n      &lt;td&gt;2&lt;/td&gt;\\n      &lt;td&gt;PHX&lt;/td&gt;\\n      &lt;td&gt;33.43417&lt;/td&gt;\\n      &lt;td&gt;-112.00806&lt;/td&gt;\\n      &lt;td&gt;615&lt;/td&gt;\\n      &lt;td&gt;360&lt;/td&gt;\\n      &lt;td&gt;195.0&lt;/td&gt;\\n      &lt;td&gt;IL&lt;/td&gt;\\n      &lt;td&gt;AZ&lt;/td&gt;\\n      &lt;td&gt;6.0&lt;/td&gt;\\n      &lt;td&gt;8.0&lt;/td&gt;\\n      &lt;td&gt;55&lt;/td&gt;\\n      &lt;td&gt;58.7&lt;/td&gt;\\n      &lt;td&gt;11.3&lt;/td&gt;\\n    &lt;/tr&gt;\\n    &lt;tr&gt;\\n      &lt;th&gt;746887&lt;/th&gt;\\n      &lt;td&gt;OO&lt;/td&gt;\\n      &lt;td&gt;21&lt;/td&gt;\\n      &lt;td&gt;2&lt;/td&gt;\\n      &lt;td&gt;-4.0&lt;/td&gt;\\n      &lt;td&gt;LAX&lt;/td&gt;\\n      &lt;td&gt;33.94254&lt;/td&gt;\\n      &lt;td&gt;-118.40807&lt;/td&gt;\\n      &lt;td&gt;209&lt;/td&gt;\\n      &lt;td&gt;7&lt;/td&gt;\\n      &lt;td&gt;FAT&lt;/td&gt;\\n      &lt;td&gt;36.77619&lt;/td&gt;\\n      &lt;td&gt;-119.71814&lt;/td&gt;\\n      &lt;td&gt;565&lt;/td&gt;\\n      &lt;td&gt;485&lt;/td&gt;\\n      &lt;td&gt;80.0&lt;/td&gt;\\n      &lt;td&gt;CA&lt;/td&gt;\\n      &lt;td&gt;CA&lt;/td&gt;\\n      &lt;td&gt;20.0&lt;/td&gt;\\n      &lt;td&gt;22.0&lt;/td&gt;\\n      &lt;td&gt;202&lt;/td&gt;\\n      &lt;td&gt;87.0&lt;/td&gt;\\n      &lt;td&gt;70.9&lt;/td&gt;\\n    &lt;/tr&gt;\\n    &lt;tr&gt;\\n      &lt;th&gt;1857052&lt;/th&gt;\\n      &lt;td&gt;UA&lt;/td&gt;\\n      &lt;td&gt;13&lt;/td&gt;\\n      &lt;td&gt;5&lt;/td&gt;\\n      &lt;td&gt;11.0&lt;/td&gt;\\n      &lt;td&gt;SFO&lt;/td&gt;\\n      &lt;td&gt;37.61900&lt;/td&gt;\\n      &lt;td&gt;-122.37484&lt;/td&gt;\\n      &lt;td&gt;1846&lt;/td&gt;\\n      &lt;td&gt;3&lt;/td&gt;\\n      &lt;td&gt;ORD&lt;/td&gt;\\n      &lt;td&gt;41.97960&lt;/td&gt;\\n      &lt;td&gt;-87.90446&lt;/td&gt;\\n      &lt;td&gt;1158&lt;/td&gt;\\n      &lt;td&gt;988&lt;/td&gt;\\n      &lt;td&gt;290.0&lt;/td&gt;\\n      &lt;td&gt;CA&lt;/td&gt;\\n      &lt;td&gt;IL&lt;/td&gt;\\n      &lt;td&gt;4.0&lt;/td&gt;\\n      &lt;td&gt;14.0&lt;/td&gt;\\n      &lt;td&gt;72&lt;/td&gt;\\n      &lt;td&gt;47.0&lt;/td&gt;\\n      &lt;td&gt;60.4&lt;/td&gt;\\n    &lt;/tr&gt;\\n    &lt;tr&gt;\\n      &lt;th&gt;2336702&lt;/th&gt;\\n      &lt;td&gt;UA&lt;/td&gt;\\n      &lt;td&gt;15&lt;/td&gt;\\n      &lt;td&gt;5&lt;/td&gt;\\n      &lt;td&gt;-6.0&lt;/td&gt;\\n      &lt;td&gt;LGA&lt;/td&gt;\\n      &lt;td&gt;40.77724&lt;/td&gt;\\n      &lt;td&gt;-73.87261&lt;/td&gt;\\n      &lt;td&gt;1620&lt;/td&gt;\\n      &lt;td&gt;5&lt;/td&gt;\\n      &lt;td&gt;DEN&lt;/td&gt;\\n      &lt;td&gt;39.85841&lt;/td&gt;\\n      &lt;td&gt;-104.66700&lt;/td&gt;\\n      &lt;td&gt;1025&lt;/td&gt;\\n      &lt;td&gt;670&lt;/td&gt;\\n      &lt;td&gt;235.0&lt;/td&gt;\\n      &lt;td&gt;NY&lt;/td&gt;\\n      &lt;td&gt;CO&lt;/td&gt;\\n      &lt;td&gt;5.0&lt;/td&gt;\\n      &lt;td&gt;11.0&lt;/td&gt;\\n      &lt;td&gt;135&lt;/td&gt;\\n      &lt;td&gt;57.1&lt;/td&gt;\\n      &lt;td&gt;63.2&lt;/td&gt;\\n    &lt;/tr&gt;\\n    &lt;tr&gt;\\n      &lt;th&gt;2876919&lt;/th&gt;\\n      &lt;td&gt;AS&lt;/td&gt;\\n      &lt;td&gt;19&lt;/td&gt;\\n      &lt;td&gt;3&lt;/td&gt;\\n      &lt;td&gt;14.0&lt;/td&gt;\\n      &lt;td&gt;ANC&lt;/td&gt;\\n      &lt;td&gt;61.17432&lt;/td&gt;\\n      &lt;td&gt;-149.99619&lt;/td&gt;\\n      &lt;td&gt;1448&lt;/td&gt;\\n      &lt;td&gt;8&lt;/td&gt;\\n      &lt;td&gt;SEA&lt;/td&gt;\\n      &lt;td&gt;47.44898&lt;/td&gt;\\n      &lt;td&gt;-122.30931&lt;/td&gt;\\n      &lt;td&gt;639&lt;/td&gt;\\n      &lt;td&gt;485&lt;/td&gt;\\n      &lt;td&gt;214.0&lt;/td&gt;\\n      &lt;td&gt;AK&lt;/td&gt;\\n      &lt;td&gt;WA&lt;/td&gt;\\n      &lt;td&gt;4.0&lt;/td&gt;\\n      &lt;td&gt;12.0&lt;/td&gt;\\n      &lt;td&gt;231&lt;/td&gt;\\n      &lt;td&gt;74.8&lt;/td&gt;\\n      &lt;td&gt;59.4&lt;/td&gt;\\n    &lt;/tr&gt;\\n    &lt;tr&gt;\\n      &lt;th&gt;1805118&lt;/th&gt;\\n      &lt;td&gt;OO&lt;/td&gt;\\n      &lt;td&gt;6&lt;/td&gt;\\n      &lt;td&gt;5&lt;/td&gt;\\n      &lt;td&gt;-3.0&lt;/td&gt;\\n      &lt;td&gt;SLC&lt;/td&gt;\\n      &lt;td&gt;40.78839&lt;/td&gt;\\n      &lt;td&gt;-111.97777&lt;/td&gt;\\n      &lt;td&gt;402&lt;/td&gt;\\n      &lt;td&gt;3&lt;/td&gt;\\n      &lt;td&gt;HLN&lt;/td&gt;\\n      &lt;td&gt;46.60682&lt;/td&gt;\\n      &lt;td&gt;-111.98275&lt;/td&gt;\\n      &lt;td&gt;469&lt;/td&gt;\\n      &lt;td&gt;380&lt;/td&gt;\\n      &lt;td&gt;89.0&lt;/td&gt;\\n      &lt;td&gt;UT&lt;/td&gt;\\n      &lt;td&gt;MT&lt;/td&gt;\\n      &lt;td&gt;3.0&lt;/td&gt;\\n      &lt;td&gt;12.0&lt;/td&gt;\\n      &lt;td&gt;65&lt;/td&gt;\\n      &lt;td&gt;45.4&lt;/td&gt;\\n      &lt;td&gt;40.4&lt;/td&gt;\\n    &lt;/tr&gt;\\n    &lt;tr&gt;\\n      &lt;th&gt;1404782&lt;/th&gt;\\n      &lt;td&gt;WN&lt;/td&gt;\\n      &lt;td&gt;12&lt;/td&gt;\\n      &lt;td&gt;1&lt;/td&gt;\\n      &lt;td&gt;12.0&lt;/td&gt;\\n      &lt;td&gt;ELP&lt;/td&gt;\\n      &lt;td&gt;31.80667&lt;/td&gt;\\n      &lt;td&gt;-106.37781&lt;/td&gt;\\n      &lt;td&gt;347&lt;/td&gt;\\n      &lt;td&gt;1&lt;/td&gt;\\n      &lt;td&gt;PHX&lt;/td&gt;\\n      &lt;td&gt;33.43417&lt;/td&gt;\\n      &lt;td&gt;-112.00806&lt;/td&gt;\\n      &lt;td&gt;965&lt;/td&gt;\\n      &lt;td&gt;900&lt;/td&gt;\\n      &lt;td&gt;65.0&lt;/td&gt;\\n      &lt;td&gt;TX&lt;/td&gt;\\n      &lt;td&gt;AZ&lt;/td&gt;\\n      &lt;td&gt;5.0&lt;/td&gt;\\n      &lt;td&gt;11.0&lt;/td&gt;\\n      &lt;td&gt;12&lt;/td&gt;\\n      &lt;td&gt;61.9&lt;/td&gt;\\n      &lt;td&gt;48.2&lt;/td&gt;\\n    &lt;/tr&gt;\\n    &lt;tr&gt;\\n      &lt;th&gt;2237937&lt;/th&gt;\\n      &lt;td&gt;WN&lt;/td&gt;\\n      &lt;td&gt;2&lt;/td&gt;\\n      &lt;td&gt;6&lt;/td&gt;\\n      &lt;td&gt;-4.0&lt;/td&gt;\\n      &lt;td&gt;PHX&lt;/td&gt;\\n      &lt;td&gt;33.43417&lt;/td&gt;\\n      &lt;td&gt;-112.00806&lt;/td&gt;\\n      &lt;td&gt;1020&lt;/td&gt;\\n      &lt;td&gt;5&lt;/td&gt;\\n      &lt;td&gt;GEG&lt;/td&gt;\\n      &lt;td&gt;47.61986&lt;/td&gt;\\n      &lt;td&gt;-117.53384&lt;/td&gt;\\n      &lt;td&gt;860&lt;/td&gt;\\n      &lt;td&gt;705&lt;/td&gt;\\n      &lt;td&gt;155.0&lt;/td&gt;\\n      &lt;td&gt;AZ&lt;/td&gt;\\n      &lt;td&gt;WA&lt;/td&gt;\\n      &lt;td&gt;7.0&lt;/td&gt;\\n      &lt;td&gt;14.0&lt;/td&gt;\\n      &lt;td&gt;122&lt;/td&gt;\\n      &lt;td&gt;57.2&lt;/td&gt;\\n      &lt;td&gt;87.0&lt;/td&gt;\\n    &lt;/tr&gt;\\n    &lt;tr&gt;\\n      &lt;th&gt;142472&lt;/th&gt;\\n      &lt;td&gt;DL&lt;/td&gt;\\n      &lt;td&gt;9&lt;/td&gt;\\n      &lt;td&gt;1&lt;/td&gt;\\n      &lt;td&gt;28.0&lt;/td&gt;\\n      &lt;td&gt;DEN&lt;/td&gt;\\n      &lt;td&gt;39.85841&lt;/td&gt;\\n      &lt;td&gt;-104.66700&lt;/td&gt;\\n      &lt;td&gt;1199&lt;/td&gt;\\n      &lt;td&gt;3&lt;/td&gt;\\n      &lt;td&gt;ATL&lt;/td&gt;\\n      &lt;td&gt;33.64044&lt;/td&gt;\\n      &lt;td&gt;-84.42694&lt;/td&gt;\\n      &lt;td&gt;1249&lt;/td&gt;\\n      &lt;td&gt;1160&lt;/td&gt;\\n      &lt;td&gt;209.0&lt;/td&gt;\\n      &lt;td&gt;CO&lt;/td&gt;\\n      &lt;td&gt;GA&lt;/td&gt;\\n      &lt;td&gt;5.0&lt;/td&gt;\\n      &lt;td&gt;13.0&lt;/td&gt;\\n      &lt;td&gt;68&lt;/td&gt;\\n      &lt;td&gt;60.4&lt;/td&gt;\\n      &lt;td&gt;41.9&lt;/td&gt;\\n    &lt;/tr&gt;\\n    &lt;tr&gt;\\n      &lt;th&gt;1877126&lt;/th&gt;\\n      &lt;td&gt;US&lt;/td&gt;\\n      &lt;td&gt;15&lt;/td&gt;\\n      &lt;td&gt;7&lt;/td&gt;\\n      &lt;td&gt;-5.0&lt;/td&gt;\\n      &lt;td&gt;RDU&lt;/td&gt;\\n      &lt;td&gt;35.87764&lt;/td&gt;\\n      &lt;td&gt;-78.78747&lt;/td&gt;\\n      &lt;td&gt;130&lt;/td&gt;\\n      &lt;td&gt;3&lt;/td&gt;\\n      &lt;td&gt;CLT&lt;/td&gt;\\n      &lt;td&gt;35.21401&lt;/td&gt;\\n      &lt;td&gt;-80.94313&lt;/td&gt;\\n      &lt;td&gt;1273&lt;/td&gt;\\n      &lt;td&gt;1220&lt;/td&gt;\\n      &lt;td&gt;53.0&lt;/td&gt;\\n      &lt;td&gt;NC&lt;/td&gt;\\n      &lt;td&gt;NC&lt;/td&gt;\\n      &lt;td&gt;3.0&lt;/td&gt;\\n      &lt;td&gt;22.0&lt;/td&gt;\\n      &lt;td&gt;74&lt;/td&gt;\\n      &lt;td&gt;60.4&lt;/td&gt;\\n      &lt;td&gt;58.1&lt;/td&gt;\\n    &lt;/tr&gt;\\n    &lt;tr&gt;\\n      &lt;th&gt;1417797&lt;/th&gt;\\n      &lt;td&gt;DL&lt;/td&gt;\\n      &lt;td&gt;14&lt;/td&gt;\\n      &lt;td&gt;3&lt;/td&gt;\\n      &lt;td&gt;-3.0&lt;/td&gt;\\n      &lt;td&gt;DFW&lt;/td&gt;\\n      &lt;td&gt;32.89595&lt;/td&gt;\\n      &lt;td&gt;-97.03720&lt;/td&gt;\\n      &lt;td&gt;731&lt;/td&gt;\\n      &lt;td&gt;1&lt;/td&gt;\\n      &lt;td&gt;ATL&lt;/td&gt;\\n      &lt;td&gt;33.64044&lt;/td&gt;\\n      &lt;td&gt;-84.42694&lt;/td&gt;\\n      &lt;td&gt;830&lt;/td&gt;\\n      &lt;td&gt;735&lt;/td&gt;\\n      &lt;td&gt;155.0&lt;/td&gt;\\n      &lt;td&gt;TX&lt;/td&gt;\\n      &lt;td&gt;GA&lt;/td&gt;\\n      &lt;td&gt;8.0&lt;/td&gt;\\n      &lt;td&gt;18.0&lt;/td&gt;\\n      &lt;td&gt;14&lt;/td&gt;\\n      &lt;td&gt;41.6&lt;/td&gt;\\n      &lt;td&gt;37.6&lt;/td&gt;\\n    &lt;/tr&gt;\\n    &lt;tr&gt;\\n      &lt;th&gt;1698620&lt;/th&gt;\\n      &lt;td&gt;WN&lt;/td&gt;\\n      &lt;td&gt;20&lt;/td&gt;\\n      &lt;td&gt;5&lt;/td&gt;\\n      &lt;td&gt;0.0&lt;/td&gt;\\n      &lt;td&gt;MDW&lt;/td&gt;\\n      &lt;td&gt;41.78598&lt;/td&gt;\\n      &lt;td&gt;-87.75242&lt;/td&gt;\\n      &lt;td&gt;307&lt;/td&gt;\\n      &lt;td&gt;2&lt;/td&gt;\\n      &lt;td&gt;CLE&lt;/td&gt;\\n      &lt;td&gt;41.41089&lt;/td&gt;\\n      &lt;td&gt;-81.84940&lt;/td&gt;\\n      &lt;td&gt;885&lt;/td&gt;\\n      &lt;td&gt;865&lt;/td&gt;\\n      &lt;td&gt;80.0&lt;/td&gt;\\n      &lt;td&gt;IL&lt;/td&gt;\\n      &lt;td&gt;OH&lt;/td&gt;\\n      &lt;td&gt;6.0&lt;/td&gt;\\n      &lt;td&gt;11.0&lt;/td&gt;\\n      &lt;td&gt;51&lt;/td&gt;\\n      &lt;td&gt;-1.6&lt;/td&gt;\\n      &lt;td&gt;3.3&lt;/td&gt;\\n    &lt;/tr&gt;\\n    &lt;tr&gt;\\n      &lt;th&gt;1943310&lt;/th&gt;\\n      &lt;td&gt;AS&lt;/td&gt;\\n      &lt;td&gt;24&lt;/td&gt;\\n      &lt;td&gt;2&lt;/td&gt;\\n      &lt;td&gt;5.0&lt;/td&gt;\\n      &lt;td&gt;DFW&lt;/td&gt;\\n      &lt;td&gt;32.89595&lt;/td&gt;\\n      &lt;td&gt;-97.03720&lt;/td&gt;\\n      &lt;td&gt;1660&lt;/td&gt;\\n      &lt;td&gt;3&lt;/td&gt;\\n      &lt;td&gt;SEA&lt;/td&gt;\\n      &lt;td&gt;47.44898&lt;/td&gt;\\n      &lt;td&gt;-122.30931&lt;/td&gt;\\n      &lt;td&gt;765&lt;/td&gt;\\n      &lt;td&gt;420&lt;/td&gt;\\n      &lt;td&gt;225.0&lt;/td&gt;\\n      &lt;td&gt;TX&lt;/td&gt;\\n      &lt;td&gt;WA&lt;/td&gt;\\n      &lt;td&gt;7.0&lt;/td&gt;\\n      &lt;td&gt;18.0&lt;/td&gt;\\n      &lt;td&gt;83&lt;/td&gt;\\n      &lt;td&gt;47.0&lt;/td&gt;\\n      &lt;td&gt;68.6&lt;/td&gt;\\n    &lt;/tr&gt;\\n    &lt;tr&gt;\\n      &lt;th&gt;1769320&lt;/th&gt;\\n      &lt;td&gt;DL&lt;/td&gt;\\n      &lt;td&gt;1&lt;/td&gt;\\n      &lt;td&gt;7&lt;/td&gt;\\n      &lt;td&gt;62.0&lt;/td&gt;\\n      &lt;td&gt;JFK&lt;/td&gt;\\n      &lt;td&gt;40.63975&lt;/td&gt;\\n      &lt;td&gt;-73.77893&lt;/td&gt;\\n      &lt;td&gt;2475&lt;/td&gt;\\n      &lt;td&gt;3&lt;/td&gt;\\n      &lt;td&gt;LAX&lt;/td&gt;\\n      &lt;td&gt;33.94254&lt;/td&gt;\\n      &lt;td&gt;-118.40807&lt;/td&gt;\\n      &lt;td&gt;423&lt;/td&gt;\\n      &lt;td&gt;1375&lt;/td&gt;\\n      &lt;td&gt;308.0&lt;/td&gt;\\n      &lt;td&gt;NY&lt;/td&gt;\\n      &lt;td&gt;CA&lt;/td&gt;\\n      &lt;td&gt;10.0&lt;/td&gt;\\n      &lt;td&gt;21.0&lt;/td&gt;\\n      &lt;td&gt;60&lt;/td&gt;\\n      &lt;td&gt;56.0&lt;/td&gt;\\n      &lt;td&gt;26.7&lt;/td&gt;\\n    &lt;/tr&gt;\\n    &lt;tr&gt;\\n      &lt;th&gt;466010&lt;/th&gt;\\n      &lt;td&gt;DL&lt;/td&gt;\\n      &lt;td&gt;5&lt;/td&gt;\\n      &lt;td&gt;5&lt;/td&gt;\\n      &lt;td&gt;11.0&lt;/td&gt;\\n      &lt;td&gt;DEN&lt;/td&gt;\\n      &lt;td&gt;39.85841&lt;/td&gt;\\n      &lt;td&gt;-104.66700&lt;/td&gt;\\n      &lt;td&gt;1199&lt;/td&gt;\\n      &lt;td&gt;6&lt;/td&gt;\\n      &lt;td&gt;ATL&lt;/td&gt;\\n      &lt;td&gt;33.64044&lt;/td&gt;\\n      &lt;td&gt;-84.42694&lt;/td&gt;\\n      &lt;td&gt;650&lt;/td&gt;\\n      &lt;td&gt;580&lt;/td&gt;\\n      &lt;td&gt;190.0&lt;/td&gt;\\n      &lt;td&gt;CO&lt;/td&gt;\\n      &lt;td&gt;GA&lt;/td&gt;\\n      &lt;td&gt;14.0&lt;/td&gt;\\n      &lt;td&gt;12.0&lt;/td&gt;\\n      &lt;td&gt;156&lt;/td&gt;\\n      &lt;td&gt;74.8&lt;/td&gt;\\n      &lt;td&gt;64.1&lt;/td&gt;\\n    &lt;/tr&gt;\\n    &lt;tr&gt;\\n      &lt;th&gt;870738&lt;/th&gt;\\n      &lt;td&gt;WN&lt;/td&gt;\\n      &lt;td&gt;10&lt;/td&gt;\\n      &lt;td&gt;1&lt;/td&gt;\\n      &lt;td&gt;9.0&lt;/td&gt;\\n      &lt;td&gt;SFO&lt;/td&gt;\\n      &lt;td&gt;37.61900&lt;/td&gt;\\n      &lt;td&gt;-122.37484&lt;/td&gt;\\n      &lt;td&gt;447&lt;/td&gt;\\n      &lt;td&gt;8&lt;/td&gt;\\n      &lt;td&gt;SAN&lt;/td&gt;\\n      &lt;td&gt;32.73356&lt;/td&gt;\\n      &lt;td&gt;-117.18966&lt;/td&gt;\\n      &lt;td&gt;1185&lt;/td&gt;\\n      &lt;td&gt;1100&lt;/td&gt;\\n      &lt;td&gt;85.0&lt;/td&gt;\\n      &lt;td&gt;CA&lt;/td&gt;\\n      &lt;td&gt;CA&lt;/td&gt;\\n      &lt;td&gt;3.0&lt;/td&gt;\\n      &lt;td&gt;12.0&lt;/td&gt;\\n      &lt;td&gt;222&lt;/td&gt;\\n      &lt;td&gt;70.3&lt;/td&gt;\\n      &lt;td&gt;64.5&lt;/td&gt;\\n    &lt;/tr&gt;\\n    &lt;tr&gt;\\n      &lt;th&gt;2493550&lt;/th&gt;\\n      &lt;td&gt;US&lt;/td&gt;\\n      &lt;td&gt;10&lt;/td&gt;\\n      &lt;td&gt;3&lt;/td&gt;\\n      &lt;td&gt;-9.0&lt;/td&gt;\\n      &lt;td&gt;LGA&lt;/td&gt;\\n      &lt;td&gt;40.77724&lt;/td&gt;\\n      &lt;td&gt;-73.87261&lt;/td&gt;\\n      &lt;td&gt;184&lt;/td&gt;\\n      &lt;td&gt;6&lt;/td&gt;\\n      &lt;td&gt;BOS&lt;/td&gt;\\n      &lt;td&gt;42.36435&lt;/td&gt;\\n      &lt;td&gt;-71.00518&lt;/td&gt;\\n      &lt;td&gt;1166&lt;/td&gt;\\n      &lt;td&gt;1080&lt;/td&gt;\\n      &lt;td&gt;86.0&lt;/td&gt;\\n      &lt;td&gt;NY&lt;/td&gt;\\n      &lt;td&gt;MA&lt;/td&gt;\\n      &lt;td&gt;5.0&lt;/td&gt;\\n      &lt;td&gt;33.0&lt;/td&gt;\\n      &lt;td&gt;161&lt;/td&gt;\\n      &lt;td&gt;71.4&lt;/td&gt;\\n      &lt;td&gt;74.2&lt;/td&gt;\\n    &lt;/tr&gt;\\n    &lt;tr&gt;\\n      &lt;th&gt;3790314&lt;/th&gt;\\n      &lt;td&gt;OO&lt;/td&gt;\\n      &lt;td&gt;26&lt;/td&gt;\\n      &lt;td&gt;5&lt;/td&gt;\\n      &lt;td&gt;20.0&lt;/td&gt;\\n      &lt;td&gt;DAY&lt;/td&gt;\\n      &lt;td&gt;39.90238&lt;/td&gt;\\n      &lt;td&gt;-84.21938&lt;/td&gt;\\n      &lt;td&gt;574&lt;/td&gt;\\n      &lt;td&gt;6&lt;/td&gt;\\n      &lt;td&gt;MSP&lt;/td&gt;\\n      &lt;td&gt;44.88055&lt;/td&gt;\\n      &lt;td&gt;-93.21692&lt;/td&gt;\\n      &lt;td&gt;784&lt;/td&gt;\\n      &lt;td&gt;612&lt;/td&gt;\\n      &lt;td&gt;112.0&lt;/td&gt;\\n      &lt;td&gt;OH&lt;/td&gt;\\n      &lt;td&gt;MN&lt;/td&gt;\\n      &lt;td&gt;4.0&lt;/td&gt;\\n      &lt;td&gt;10.0&lt;/td&gt;\\n      &lt;td&gt;177&lt;/td&gt;\\n      &lt;td&gt;72.0&lt;/td&gt;\\n      &lt;td&gt;73.1&lt;/td&gt;\\n    &lt;/tr&gt;\\n    &lt;tr&gt;\\n      &lt;th&gt;1510052&lt;/th&gt;\\n      &lt;td&gt;WN&lt;/td&gt;\\n      &lt;td&gt;26&lt;/td&gt;\\n      &lt;td&gt;1&lt;/td&gt;\\n      &lt;td&gt;318.0&lt;/td&gt;\\n      &lt;td&gt;HOU&lt;/td&gt;\\n      &lt;td&gt;29.64542&lt;/td&gt;\\n      &lt;td&gt;-95.27889&lt;/td&gt;\\n      &lt;td&gt;1131&lt;/td&gt;\\n      &lt;td&gt;1&lt;/td&gt;\\n      &lt;td&gt;PIT&lt;/td&gt;\\n      &lt;td&gt;40.49147&lt;/td&gt;\\n      &lt;td&gt;-80.23287&lt;/td&gt;\\n      &lt;td&gt;1150&lt;/td&gt;\\n      &lt;td&gt;1005&lt;/td&gt;\\n      &lt;td&gt;205.0&lt;/td&gt;\\n      &lt;td&gt;TX&lt;/td&gt;\\n      &lt;td&gt;PA&lt;/td&gt;\\n      &lt;td&gt;5.0&lt;/td&gt;\\n      &lt;td&gt;50.0&lt;/td&gt;\\n      &lt;td&gt;26&lt;/td&gt;\\n      &lt;td&gt;27.7&lt;/td&gt;\\n      &lt;td&gt;57.2&lt;/td&gt;\\n    &lt;/tr&gt;\\n    &lt;tr&gt;\\n      &lt;th&gt;596124&lt;/th&gt;\\n      &lt;td&gt;EV&lt;/td&gt;\\n      &lt;td&gt;26&lt;/td&gt;\\n      &lt;td&gt;5&lt;/td&gt;\\n      &lt;td&gt;3.0&lt;/td&gt;\\n      &lt;td&gt;ATL&lt;/td&gt;\\n      &lt;td&gt;33.64044&lt;/td&gt;\\n      &lt;td&gt;-84.42694&lt;/td&gt;\\n      &lt;td&gt;151&lt;/td&gt;\\n      &lt;td&gt;6&lt;/td&gt;\\n      &lt;td&gt;HSV&lt;/td&gt;\\n      &lt;td&gt;34.64045&lt;/td&gt;\\n      &lt;td&gt;-86.77311&lt;/td&gt;\\n      &lt;td&gt;882&lt;/td&gt;\\n      &lt;td&gt;760&lt;/td&gt;\\n      &lt;td&gt;62.0&lt;/td&gt;\\n      &lt;td&gt;GA&lt;/td&gt;\\n      &lt;td&gt;AL&lt;/td&gt;\\n      &lt;td&gt;5.0&lt;/td&gt;\\n      &lt;td&gt;17.0&lt;/td&gt;\\n      &lt;td&gt;177&lt;/td&gt;\\n      &lt;td&gt;85.0&lt;/td&gt;\\n      &lt;td&gt;83.0&lt;/td&gt;\\n    &lt;/tr&gt;\\n    &lt;tr&gt;\\n      &lt;th&gt;251408&lt;/th&gt;\\n      &lt;td&gt;WN&lt;/td&gt;\\n      &lt;td&gt;12&lt;/td&gt;\\n      &lt;td&gt;7&lt;/td&gt;\\n      &lt;td&gt;57.0&lt;/td&gt;\\n      &lt;td&gt;DEN&lt;/td&gt;\\n      &lt;td&gt;39.85841&lt;/td&gt;\\n      &lt;td&gt;-104.66700&lt;/td&gt;\\n      &lt;td&gt;853&lt;/td&gt;\\n      &lt;td&gt;4&lt;/td&gt;\\n      &lt;td&gt;SAN&lt;/td&gt;\\n      &lt;td&gt;32.73356&lt;/td&gt;\\n      &lt;td&gt;-117.18966&lt;/td&gt;\\n      &lt;td&gt;940&lt;/td&gt;\\n      &lt;td&gt;735&lt;/td&gt;\\n      &lt;td&gt;145.0&lt;/td&gt;\\n      &lt;td&gt;CO&lt;/td&gt;\\n      &lt;td&gt;CA&lt;/td&gt;\\n      &lt;td&gt;6.0&lt;/td&gt;\\n      &lt;td&gt;10.0&lt;/td&gt;\\n      &lt;td&gt;102&lt;/td&gt;\\n      &lt;td&gt;63.5&lt;/td&gt;\\n      &lt;td&gt;56.7&lt;/td&gt;\\n    &lt;/tr&gt;\\n    &lt;tr&gt;\\n      &lt;th&gt;2355142&lt;/th&gt;\\n      &lt;td&gt;US&lt;/td&gt;\\n      &lt;td&gt;18&lt;/td&gt;\\n      &lt;td&gt;1&lt;/td&gt;\\n      &lt;td&gt;-3.0&lt;/td&gt;\\n      &lt;td&gt;ATL&lt;/td&gt;\\n      &lt;td&gt;33.64044&lt;/td&gt;\\n      &lt;td&gt;-84.42694&lt;/td&gt;\\n      &lt;td&gt;1587&lt;/td&gt;\\n      &lt;td&gt;5&lt;/td&gt;\\n      &lt;td&gt;PHX&lt;/td&gt;\\n      &lt;td&gt;33.43417&lt;/td&gt;\\n      &lt;td&gt;-112.00806&lt;/td&gt;\\n      &lt;td&gt;1142&lt;/td&gt;\\n      &lt;td&gt;745&lt;/td&gt;\\n      &lt;td&gt;217.0&lt;/td&gt;\\n      &lt;td&gt;GA&lt;/td&gt;\\n      &lt;td&gt;AZ&lt;/td&gt;\\n      &lt;td&gt;13.0&lt;/td&gt;\\n      &lt;td&gt;10.0&lt;/td&gt;\\n      &lt;td&gt;138&lt;/td&gt;\\n      &lt;td&gt;78.2&lt;/td&gt;\\n      &lt;td&gt;74.7&lt;/td&gt;\\n    &lt;/tr&gt;\\n    &lt;tr&gt;\\n      &lt;th&gt;1589343&lt;/th&gt;\\n      &lt;td&gt;OO&lt;/td&gt;\\n      &lt;td&gt;5&lt;/td&gt;\\n      &lt;td&gt;4&lt;/td&gt;\\n      &lt;td&gt;-3.0&lt;/td&gt;\\n      &lt;td&gt;CVG&lt;/td&gt;\\n      &lt;td&gt;39.04614&lt;/td&gt;\\n      &lt;td&gt;-84.66217&lt;/td&gt;\\n      &lt;td&gt;268&lt;/td&gt;\\n      &lt;td&gt;2&lt;/td&gt;\\n      &lt;td&gt;GRR&lt;/td&gt;\\n      &lt;td&gt;42.88082&lt;/td&gt;\\n      &lt;td&gt;-85.52277&lt;/td&gt;\\n      &lt;td&gt;908&lt;/td&gt;\\n      &lt;td&gt;830&lt;/td&gt;\\n      &lt;td&gt;78.0&lt;/td&gt;\\n      &lt;td&gt;KY&lt;/td&gt;\\n      &lt;td&gt;MI&lt;/td&gt;\\n      &lt;td&gt;5.0&lt;/td&gt;\\n      &lt;td&gt;26.0&lt;/td&gt;\\n      &lt;td&gt;36&lt;/td&gt;\\n      &lt;td&gt;10.4&lt;/td&gt;\\n      &lt;td&gt;22.9&lt;/td&gt;\\n    &lt;/tr&gt;\\n    &lt;tr&gt;\\n      &lt;th&gt;746789&lt;/th&gt;\\n      &lt;td&gt;WN&lt;/td&gt;\\n      &lt;td&gt;21&lt;/td&gt;\\n      &lt;td&gt;2&lt;/td&gt;\\n      &lt;td&gt;6.0&lt;/td&gt;\\n      &lt;td&gt;LAX&lt;/td&gt;\\n      &lt;td&gt;33.94254&lt;/td&gt;\\n      &lt;td&gt;-118.40807&lt;/td&gt;\\n      &lt;td&gt;1756&lt;/td&gt;\\n      &lt;td&gt;7&lt;/td&gt;\\n      &lt;td&gt;MKE&lt;/td&gt;\\n      &lt;td&gt;42.94722&lt;/td&gt;\\n      &lt;td&gt;-87.89658&lt;/td&gt;\\n      &lt;td&gt;1080&lt;/td&gt;\\n      &lt;td&gt;940&lt;/td&gt;\\n      &lt;td&gt;260.0&lt;/td&gt;\\n      &lt;td&gt;CA&lt;/td&gt;\\n      &lt;td&gt;WI&lt;/td&gt;\\n      &lt;td&gt;6.0&lt;/td&gt;\\n      &lt;td&gt;9.0&lt;/td&gt;\\n      &lt;td&gt;202&lt;/td&gt;\\n      &lt;td&gt;73.0&lt;/td&gt;\\n      &lt;td&gt;70.9&lt;/td&gt;\\n    &lt;/tr&gt;\\n    &lt;tr&gt;\\n      &lt;th&gt;3794767&lt;/th&gt;\\n      &lt;td&gt;EV&lt;/td&gt;\\n      &lt;td&gt;11&lt;/td&gt;\\n      &lt;td&gt;6&lt;/td&gt;\\n      &lt;td&gt;122.0&lt;/td&gt;\\n      &lt;td&gt;SPI&lt;/td&gt;\\n      &lt;td&gt;39.84395&lt;/td&gt;\\n      &lt;td&gt;-89.67762&lt;/td&gt;\\n      &lt;td&gt;630&lt;/td&gt;\\n      &lt;td&gt;7&lt;/td&gt;\\n      &lt;td&gt;DFW&lt;/td&gt;\\n      &lt;td&gt;32.89595&lt;/td&gt;\\n      &lt;td&gt;-97.03720&lt;/td&gt;\\n      &lt;td&gt;1152&lt;/td&gt;\\n      &lt;td&gt;1035&lt;/td&gt;\\n      &lt;td&gt;117.0&lt;/td&gt;\\n      &lt;td&gt;IL&lt;/td&gt;\\n      &lt;td&gt;TX&lt;/td&gt;\\n      &lt;td&gt;5.0&lt;/td&gt;\\n      &lt;td&gt;11.0&lt;/td&gt;\\n      &lt;td&gt;192&lt;/td&gt;\\n      &lt;td&gt;84.9&lt;/td&gt;\\n      &lt;td&gt;80.5&lt;/td&gt;\\n    &lt;/tr&gt;\\n    &lt;tr&gt;\\n      &lt;th&gt;3937717&lt;/th&gt;\\n      &lt;td&gt;OO&lt;/td&gt;\\n      &lt;td&gt;25&lt;/td&gt;\\n      &lt;td&gt;1&lt;/td&gt;\\n      &lt;td&gt;-2.0&lt;/td&gt;\\n      &lt;td&gt;AVL&lt;/td&gt;\\n      &lt;td&gt;35.43619&lt;/td&gt;\\n      &lt;td&gt;-82.54181&lt;/td&gt;\\n      &lt;td&gt;536&lt;/td&gt;\\n      &lt;td&gt;5&lt;/td&gt;\\n      &lt;td&gt;ORD&lt;/td&gt;\\n      &lt;td&gt;41.97960&lt;/td&gt;\\n      &lt;td&gt;-87.90446&lt;/td&gt;\\n      &lt;td&gt;1015&lt;/td&gt;\\n      &lt;td&gt;850&lt;/td&gt;\\n      &lt;td&gt;105.0&lt;/td&gt;\\n      &lt;td&gt;NC&lt;/td&gt;\\n      &lt;td&gt;IL&lt;/td&gt;\\n      &lt;td&gt;4.0&lt;/td&gt;\\n      &lt;td&gt;30.0&lt;/td&gt;\\n      &lt;td&gt;145&lt;/td&gt;\\n      &lt;td&gt;70.4&lt;/td&gt;\\n      &lt;td&gt;67.9&lt;/td&gt;\\n    &lt;/tr&gt;\\n    &lt;tr&gt;\\n      &lt;th&gt;603868&lt;/th&gt;\\n      &lt;td&gt;AS&lt;/td&gt;\\n      &lt;td&gt;28&lt;/td&gt;\\n      &lt;td&gt;7&lt;/td&gt;\\n      &lt;td&gt;12.0&lt;/td&gt;\\n      &lt;td&gt;JNU&lt;/td&gt;\\n      &lt;td&gt;58.35496&lt;/td&gt;\\n      &lt;td&gt;-134.57628&lt;/td&gt;\\n      &lt;td&gt;909&lt;/td&gt;\\n      &lt;td&gt;6&lt;/td&gt;\\n      &lt;td&gt;SEA&lt;/td&gt;\\n      &lt;td&gt;47.44898&lt;/td&gt;\\n      &lt;td&gt;-122.30931&lt;/td&gt;\\n      &lt;td&gt;785&lt;/td&gt;\\n      &lt;td&gt;705&lt;/td&gt;\\n      &lt;td&gt;140.0&lt;/td&gt;\\n      &lt;td&gt;AK&lt;/td&gt;\\n      &lt;td&gt;WA&lt;/td&gt;\\n      &lt;td&gt;4.0&lt;/td&gt;\\n      &lt;td&gt;17.0&lt;/td&gt;\\n      &lt;td&gt;179&lt;/td&gt;\\n      &lt;td&gt;77.4&lt;/td&gt;\\n      &lt;td&gt;57.1&lt;/td&gt;\\n    &lt;/tr&gt;\\n    &lt;tr&gt;\\n      &lt;th&gt;41237&lt;/th&gt;\\n      &lt;td&gt;AA&lt;/td&gt;\\n      &lt;td&gt;18&lt;/td&gt;\\n      &lt;td&gt;7&lt;/td&gt;\\n      &lt;td&gt;0.0&lt;/td&gt;\\n      &lt;td&gt;LAX&lt;/td&gt;\\n      &lt;td&gt;33.94254&lt;/td&gt;\\n      &lt;td&gt;-118.40807&lt;/td&gt;\\n      &lt;td&gt;1744&lt;/td&gt;\\n      &lt;td&gt;1&lt;/td&gt;\\n      &lt;td&gt;ORD&lt;/td&gt;\\n      &lt;td&gt;41.97960&lt;/td&gt;\\n      &lt;td&gt;-87.90446&lt;/td&gt;\\n      &lt;td&gt;1001&lt;/td&gt;\\n      &lt;td&gt;853&lt;/td&gt;\\n      &lt;td&gt;268.0&lt;/td&gt;\\n      &lt;td&gt;CA&lt;/td&gt;\\n      &lt;td&gt;IL&lt;/td&gt;\\n      &lt;td&gt;12.0&lt;/td&gt;\\n      &lt;td&gt;13.0&lt;/td&gt;\\n      &lt;td&gt;18&lt;/td&gt;\\n      &lt;td&gt;36.8&lt;/td&gt;\\n      &lt;td&gt;59.4&lt;/td&gt;\\n    &lt;/tr&gt;\\n    &lt;tr&gt;\\n      &lt;th&gt;2013165&lt;/th&gt;\\n      &lt;td&gt;DL&lt;/td&gt;\\n      &lt;td&gt;2&lt;/td&gt;\\n      &lt;td&gt;4&lt;/td&gt;\\n      &lt;td&gt;-6.0&lt;/td&gt;\\n      &lt;td&gt;CLT&lt;/td&gt;\\n      &lt;td&gt;35.21401&lt;/td&gt;\\n      &lt;td&gt;-80.94313&lt;/td&gt;\\n      &lt;td&gt;1727&lt;/td&gt;\\n      &lt;td&gt;4&lt;/td&gt;\\n      &lt;td&gt;SLC&lt;/td&gt;\\n      &lt;td&gt;40.78839&lt;/td&gt;\\n      &lt;td&gt;-111.97777&lt;/td&gt;\\n      &lt;td&gt;1373&lt;/td&gt;\\n      &lt;td&gt;1025&lt;/td&gt;\\n      &lt;td&gt;228.0&lt;/td&gt;\\n      &lt;td&gt;NC&lt;/td&gt;\\n      &lt;td&gt;UT&lt;/td&gt;\\n      &lt;td&gt;27.0&lt;/td&gt;\\n      &lt;td&gt;12.0&lt;/td&gt;\\n      &lt;td&gt;92&lt;/td&gt;\\n      &lt;td&gt;44.0&lt;/td&gt;\\n      &lt;td&gt;60.0&lt;/td&gt;\\n    &lt;/tr&gt;\\n    &lt;tr&gt;\\n      &lt;th&gt;1562858&lt;/th&gt;\\n      &lt;td&gt;WN&lt;/td&gt;\\n      &lt;td&gt;2&lt;/td&gt;\\n      &lt;td&gt;1&lt;/td&gt;\\n      &lt;td&gt;-3.0&lt;/td&gt;\\n      &lt;td&gt;SAN&lt;/td&gt;\\n      &lt;td&gt;32.73356&lt;/td&gt;\\n      &lt;td&gt;-117.18966&lt;/td&gt;\\n      &lt;td&gt;258&lt;/td&gt;\\n      &lt;td&gt;2&lt;/td&gt;\\n      &lt;td&gt;LAS&lt;/td&gt;\\n      &lt;td&gt;36.08036&lt;/td&gt;\\n      &lt;td&gt;-115.15233&lt;/td&gt;\\n      &lt;td&gt;470&lt;/td&gt;\\n      &lt;td&gt;405&lt;/td&gt;\\n      &lt;td&gt;65.0&lt;/td&gt;\\n      &lt;td&gt;CA&lt;/td&gt;\\n      &lt;td&gt;NV&lt;/td&gt;\\n      &lt;td&gt;2.0&lt;/td&gt;\\n      &lt;td&gt;13.0&lt;/td&gt;\\n      &lt;td&gt;33&lt;/td&gt;\\n      &lt;td&gt;54.6&lt;/td&gt;\\n      &lt;td&gt;61.9&lt;/td&gt;\\n    &lt;/tr&gt;\\n    &lt;tr&gt;\\n      &lt;th&gt;1930069&lt;/th&gt;\\n      &lt;td&gt;WN&lt;/td&gt;\\n      &lt;td&gt;22&lt;/td&gt;\\n      &lt;td&gt;7&lt;/td&gt;\\n      &lt;td&gt;0.0&lt;/td&gt;\\n      &lt;td&gt;DAL&lt;/td&gt;\\n      &lt;td&gt;32.84711&lt;/td&gt;\\n      &lt;td&gt;-96.85177&lt;/td&gt;\\n      &lt;td&gt;973&lt;/td&gt;\\n      &lt;td&gt;3&lt;/td&gt;\\n      &lt;td&gt;MCO&lt;/td&gt;\\n      &lt;td&gt;28.42889&lt;/td&gt;\\n      &lt;td&gt;-81.31603&lt;/td&gt;\\n      &lt;td&gt;1190&lt;/td&gt;\\n      &lt;td&gt;1075&lt;/td&gt;\\n      &lt;td&gt;175.0&lt;/td&gt;\\n      &lt;td&gt;TX&lt;/td&gt;\\n      &lt;td&gt;FL&lt;/td&gt;\\n      &lt;td&gt;8.0&lt;/td&gt;\\n      &lt;td&gt;11.0&lt;/td&gt;\\n      &lt;td&gt;81&lt;/td&gt;\\n      &lt;td&gt;77.4&lt;/td&gt;\\n      &lt;td&gt;57.5&lt;/td&gt;\\n    &lt;/tr&gt;\\n    &lt;tr&gt;\\n      &lt;th&gt;483089&lt;/th&gt;\\n      &lt;td&gt;UA&lt;/td&gt;\\n      &lt;td&gt;8&lt;/td&gt;\\n      &lt;td&gt;1&lt;/td&gt;\\n      &lt;td&gt;-2.0&lt;/td&gt;\\n      &lt;td&gt;LAX&lt;/td&gt;\\n      &lt;td&gt;33.94254&lt;/td&gt;\\n      &lt;td&gt;-118.40807&lt;/td&gt;\\n      &lt;td&gt;2218&lt;/td&gt;\\n      &lt;td&gt;6&lt;/td&gt;\\n      &lt;td&gt;MCO&lt;/td&gt;\\n      &lt;td&gt;28.42889&lt;/td&gt;\\n      &lt;td&gt;-81.31603&lt;/td&gt;\\n      &lt;td&gt;490&lt;/td&gt;\\n      &lt;td&gt;365&lt;/td&gt;\\n      &lt;td&gt;305.0&lt;/td&gt;\\n      &lt;td&gt;CA&lt;/td&gt;\\n      &lt;td&gt;FL&lt;/td&gt;\\n      &lt;td&gt;16.0&lt;/td&gt;\\n      &lt;td&gt;13.0&lt;/td&gt;\\n      &lt;td&gt;159&lt;/td&gt;\\n      &lt;td&gt;80.0&lt;/td&gt;\\n      &lt;td&gt;63.2&lt;/td&gt;\\n    &lt;/tr&gt;\\n    &lt;tr&gt;\\n      &lt;th&gt;1849175&lt;/th&gt;\\n      &lt;td&gt;UA&lt;/td&gt;\\n      &lt;td&gt;12&lt;/td&gt;\\n      &lt;td&gt;4&lt;/td&gt;\\n      &lt;td&gt;3.0&lt;/td&gt;\\n      &lt;td&gt;SFO&lt;/td&gt;\\n      &lt;td&gt;37.61900&lt;/td&gt;\\n      &lt;td&gt;-122.37484&lt;/td&gt;\\n      &lt;td&gt;1846&lt;/td&gt;\\n      &lt;td&gt;3&lt;/td&gt;\\n      &lt;td&gt;ORD&lt;/td&gt;\\n      &lt;td&gt;41.97960&lt;/td&gt;\\n      &lt;td&gt;-87.90446&lt;/td&gt;\\n      &lt;td&gt;530&lt;/td&gt;\\n      &lt;td&gt;360&lt;/td&gt;\\n      &lt;td&gt;290.0&lt;/td&gt;\\n      &lt;td&gt;CA&lt;/td&gt;\\n      &lt;td&gt;IL&lt;/td&gt;\\n      &lt;td&gt;7.0&lt;/td&gt;\\n      &lt;td&gt;13.0&lt;/td&gt;\\n      &lt;td&gt;71&lt;/td&gt;\\n      &lt;td&gt;41.8&lt;/td&gt;\\n      &lt;td&gt;59.7&lt;/td&gt;\\n    &lt;/tr&gt;\\n    &lt;tr&gt;\\n      &lt;th&gt;715889&lt;/th&gt;\\n      &lt;td&gt;WN&lt;/td&gt;\\n      &lt;td&gt;16&lt;/td&gt;\\n      &lt;td&gt;4&lt;/td&gt;\\n      &lt;td&gt;26.0&lt;/td&gt;\\n      &lt;td&gt;LAX&lt;/td&gt;\\n      &lt;td&gt;33.94254&lt;/td&gt;\\n      &lt;td&gt;-118.40807&lt;/td&gt;\\n      &lt;td&gt;373&lt;/td&gt;\\n      &lt;td&gt;7&lt;/td&gt;\\n      &lt;td&gt;SMF&lt;/td&gt;\\n      &lt;td&gt;38.69542&lt;/td&gt;\\n      &lt;td&gt;-121.59077&lt;/td&gt;\\n      &lt;td&gt;1125&lt;/td&gt;\\n      &lt;td&gt;1045&lt;/td&gt;\\n      &lt;td&gt;80.0&lt;/td&gt;\\n      &lt;td&gt;CA&lt;/td&gt;\\n      &lt;td&gt;CA&lt;/td&gt;\\n      &lt;td&gt;13.0&lt;/td&gt;\\n      &lt;td&gt;20.0&lt;/td&gt;\\n      &lt;td&gt;197&lt;/td&gt;\\n      &lt;td&gt;76.4&lt;/td&gt;\\n      &lt;td&gt;68.6&lt;/td&gt;\\n    &lt;/tr&gt;\\n    &lt;tr&gt;\\n      &lt;th&gt;514943&lt;/th&gt;\\n      &lt;td&gt;WN&lt;/td&gt;\\n      &lt;td&gt;13&lt;/td&gt;\\n      &lt;td&gt;6&lt;/td&gt;\\n      &lt;td&gt;-1.0&lt;/td&gt;\\n      &lt;td&gt;HOU&lt;/td&gt;\\n      &lt;td&gt;29.64542&lt;/td&gt;\\n      &lt;td&gt;-95.27889&lt;/td&gt;\\n      &lt;td&gt;1390&lt;/td&gt;\\n      &lt;td&gt;6&lt;/td&gt;\\n      &lt;td&gt;LAX&lt;/td&gt;\\n      &lt;td&gt;33.94254&lt;/td&gt;\\n      &lt;td&gt;-118.40807&lt;/td&gt;\\n      &lt;td&gt;1075&lt;/td&gt;\\n      &lt;td&gt;755&lt;/td&gt;\\n      &lt;td&gt;200.0&lt;/td&gt;\\n      &lt;td&gt;TX&lt;/td&gt;\\n      &lt;td&gt;CA&lt;/td&gt;\\n      &lt;td&gt;6.0&lt;/td&gt;\\n      &lt;td&gt;7.0&lt;/td&gt;\\n      &lt;td&gt;164&lt;/td&gt;\\n      &lt;td&gt;63.8&lt;/td&gt;\\n      &lt;td&gt;79.5&lt;/td&gt;\\n    &lt;/tr&gt;\\n    &lt;tr&gt;\\n      &lt;th&gt;2693728&lt;/th&gt;\\n      &lt;td&gt;UA&lt;/td&gt;\\n      &lt;td&gt;17&lt;/td&gt;\\n      &lt;td&gt;5&lt;/td&gt;\\n      &lt;td&gt;3.0&lt;/td&gt;\\n      &lt;td&gt;LGA&lt;/td&gt;\\n      &lt;td&gt;40.77724&lt;/td&gt;\\n      &lt;td&gt;-73.87261&lt;/td&gt;\\n      &lt;td&gt;1416&lt;/td&gt;\\n      &lt;td&gt;7&lt;/td&gt;\\n      &lt;td&gt;IAH&lt;/td&gt;\\n      &lt;td&gt;29.98047&lt;/td&gt;\\n      &lt;td&gt;-95.33972&lt;/td&gt;\\n      &lt;td&gt;1244&lt;/td&gt;\\n      &lt;td&gt;961&lt;/td&gt;\\n      &lt;td&gt;223.0&lt;/td&gt;\\n      &lt;td&gt;NY&lt;/td&gt;\\n      &lt;td&gt;TX&lt;/td&gt;\\n      &lt;td&gt;7.0&lt;/td&gt;\\n      &lt;td&gt;17.0&lt;/td&gt;\\n      &lt;td&gt;198&lt;/td&gt;\\n      &lt;td&gt;84.8&lt;/td&gt;\\n      &lt;td&gt;73.5&lt;/td&gt;\\n    &lt;/tr&gt;\\n    &lt;tr&gt;\\n      &lt;th&gt;402618&lt;/th&gt;\\n      &lt;td&gt;AA&lt;/td&gt;\\n      &lt;td&gt;24&lt;/td&gt;\\n      &lt;td&gt;7&lt;/td&gt;\\n      &lt;td&gt;-4.0&lt;/td&gt;\\n      &lt;td&gt;ORD&lt;/td&gt;\\n      &lt;td&gt;41.97960&lt;/td&gt;\\n      &lt;td&gt;-87.90446&lt;/td&gt;\\n      &lt;td&gt;599&lt;/td&gt;\\n      &lt;td&gt;5&lt;/td&gt;\\n      &lt;td&gt;CLT&lt;/td&gt;\\n      &lt;td&gt;35.21401&lt;/td&gt;\\n      &lt;td&gt;-80.94313&lt;/td&gt;\\n      &lt;td&gt;1043&lt;/td&gt;\\n      &lt;td&gt;975&lt;/td&gt;\\n      &lt;td&gt;128.0&lt;/td&gt;\\n      &lt;td&gt;IL&lt;/td&gt;\\n      &lt;td&gt;NC&lt;/td&gt;\\n      &lt;td&gt;20.0&lt;/td&gt;\\n      &lt;td&gt;13.0&lt;/td&gt;\\n      &lt;td&gt;144&lt;/td&gt;\\n      &lt;td&gt;70.7&lt;/td&gt;\\n      &lt;td&gt;66.1&lt;/td&gt;\\n    &lt;/tr&gt;\\n    &lt;tr&gt;\\n      &lt;th&gt;3620624&lt;/th&gt;\\n      &lt;td&gt;OO&lt;/td&gt;\\n      &lt;td&gt;23&lt;/td&gt;\\n      &lt;td&gt;1&lt;/td&gt;\\n      &lt;td&gt;38.0&lt;/td&gt;\\n      &lt;td&gt;OMA&lt;/td&gt;\\n      &lt;td&gt;41.30252&lt;/td&gt;\\n      &lt;td&gt;-95.89417&lt;/td&gt;\\n      &lt;td&gt;282&lt;/td&gt;\\n      &lt;td&gt;2&lt;/td&gt;\\n      &lt;td&gt;MSP&lt;/td&gt;\\n      &lt;td&gt;44.88055&lt;/td&gt;\\n      &lt;td&gt;-93.21692&lt;/td&gt;\\n      &lt;td&gt;704&lt;/td&gt;\\n      &lt;td&gt;620&lt;/td&gt;\\n      &lt;td&gt;84.0&lt;/td&gt;\\n      &lt;td&gt;NE&lt;/td&gt;\\n      &lt;td&gt;MN&lt;/td&gt;\\n      &lt;td&gt;4.0&lt;/td&gt;\\n      &lt;td&gt;8.0&lt;/td&gt;\\n      &lt;td&gt;54&lt;/td&gt;\\n      &lt;td&gt;-1.7&lt;/td&gt;\\n      &lt;td&gt;9.1&lt;/td&gt;\\n    &lt;/tr&gt;\\n    &lt;tr&gt;\\n      &lt;th&gt;1501126&lt;/th&gt;\\n      &lt;td&gt;AS&lt;/td&gt;\\n      &lt;td&gt;25&lt;/td&gt;\\n      &lt;td&gt;7&lt;/td&gt;\\n      &lt;td&gt;-6.0&lt;/td&gt;\\n      &lt;td&gt;ORD&lt;/td&gt;\\n      &lt;td&gt;41.97960&lt;/td&gt;\\n      &lt;td&gt;-87.90446&lt;/td&gt;\\n      &lt;td&gt;1739&lt;/td&gt;\\n      &lt;td&gt;1&lt;/td&gt;\\n      &lt;td&gt;PDX&lt;/td&gt;\\n      &lt;td&gt;45.58872&lt;/td&gt;\\n      &lt;td&gt;-122.59750&lt;/td&gt;\\n      &lt;td&gt;995&lt;/td&gt;\\n      &lt;td&gt;625&lt;/td&gt;\\n      &lt;td&gt;250.0&lt;/td&gt;\\n      &lt;td&gt;IL&lt;/td&gt;\\n      &lt;td&gt;OR&lt;/td&gt;\\n      &lt;td&gt;6.0&lt;/td&gt;\\n      &lt;td&gt;10.0&lt;/td&gt;\\n      &lt;td&gt;25&lt;/td&gt;\\n      &lt;td&gt;48.1&lt;/td&gt;\\n      &lt;td&gt;31.1&lt;/td&gt;\\n    &lt;/tr&gt;\\n    &lt;tr&gt;\\n      &lt;th&gt;1660253&lt;/th&gt;\\n      &lt;td&gt;DL&lt;/td&gt;\\n      &lt;td&gt;15&lt;/td&gt;\\n      &lt;td&gt;7&lt;/td&gt;\\n      &lt;td&gt;-2.0&lt;/td&gt;\\n      &lt;td&gt;SLC&lt;/td&gt;\\n      &lt;td&gt;40.78839&lt;/td&gt;\\n      &lt;td&gt;-111.97777&lt;/td&gt;\\n      &lt;td&gt;368&lt;/td&gt;\\n      &lt;td&gt;2&lt;/td&gt;\\n      &lt;td&gt;LAS&lt;/td&gt;\\n      &lt;td&gt;36.08036&lt;/td&gt;\\n      &lt;td&gt;-115.15233&lt;/td&gt;\\n      &lt;td&gt;621&lt;/td&gt;\\n      &lt;td&gt;480&lt;/td&gt;\\n      &lt;td&gt;81.0&lt;/td&gt;\\n      &lt;td&gt;UT&lt;/td&gt;\\n      &lt;td&gt;NV&lt;/td&gt;\\n      &lt;td&gt;6.0&lt;/td&gt;\\n      &lt;td&gt;19.0&lt;/td&gt;\\n      &lt;td&gt;46&lt;/td&gt;\\n      &lt;td&gt;65.4&lt;/td&gt;\\n      &lt;td&gt;44.3&lt;/td&gt;\\n    &lt;/tr&gt;\\n    &lt;tr&gt;\\n      &lt;th&gt;2594571&lt;/th&gt;\\n      &lt;td&gt;F9&lt;/td&gt;\\n      &lt;td&gt;28&lt;/td&gt;\\n      &lt;td&gt;7&lt;/td&gt;\\n      &lt;td&gt;-10.0&lt;/td&gt;\\n      &lt;td&gt;CVG&lt;/td&gt;\\n      &lt;td&gt;39.04614&lt;/td&gt;\\n      &lt;td&gt;-84.66217&lt;/td&gt;\\n      &lt;td&gt;757&lt;/td&gt;\\n      &lt;td&gt;6&lt;/td&gt;\\n      &lt;td&gt;MCO&lt;/td&gt;\\n      &lt;td&gt;28.42889&lt;/td&gt;\\n      &lt;td&gt;-81.31603&lt;/td&gt;\\n      &lt;td&gt;1025&lt;/td&gt;\\n      &lt;td&gt;900&lt;/td&gt;\\n      &lt;td&gt;125.0&lt;/td&gt;\\n      &lt;td&gt;KY&lt;/td&gt;\\n      &lt;td&gt;FL&lt;/td&gt;\\n      &lt;td&gt;5.0&lt;/td&gt;\\n      &lt;td&gt;18.0&lt;/td&gt;\\n      &lt;td&gt;179&lt;/td&gt;\\n      &lt;td&gt;82.7&lt;/td&gt;\\n      &lt;td&gt;66.2&lt;/td&gt;\\n    &lt;/tr&gt;\\n    &lt;tr&gt;\\n      &lt;th&gt;2595292&lt;/th&gt;\\n      &lt;td&gt;WN&lt;/td&gt;\\n      &lt;td&gt;29&lt;/td&gt;\\n      &lt;td&gt;1&lt;/td&gt;\\n      &lt;td&gt;1.0&lt;/td&gt;\\n      &lt;td&gt;LAS&lt;/td&gt;\\n      &lt;td&gt;36.08036&lt;/td&gt;\\n      &lt;td&gt;-115.15233&lt;/td&gt;\\n      &lt;td&gt;1067&lt;/td&gt;\\n      &lt;td&gt;6&lt;/td&gt;\\n      &lt;td&gt;DAL&lt;/td&gt;\\n      &lt;td&gt;32.84711&lt;/td&gt;\\n      &lt;td&gt;-96.85177&lt;/td&gt;\\n      &lt;td&gt;740&lt;/td&gt;\\n      &lt;td&gt;695&lt;/td&gt;\\n      &lt;td&gt;165.0&lt;/td&gt;\\n      &lt;td&gt;NV&lt;/td&gt;\\n      &lt;td&gt;TX&lt;/td&gt;\\n      &lt;td&gt;12.0&lt;/td&gt;\\n      &lt;td&gt;11.0&lt;/td&gt;\\n      &lt;td&gt;180&lt;/td&gt;\\n      &lt;td&gt;84.0&lt;/td&gt;\\n      &lt;td&gt;99.5&lt;/td&gt;\\n    &lt;/tr&gt;\\n    &lt;tr&gt;\\n      &lt;th&gt;2343844&lt;/th&gt;\\n      &lt;td&gt;VX&lt;/td&gt;\\n      &lt;td&gt;16&lt;/td&gt;\\n      &lt;td&gt;6&lt;/td&gt;\\n      &lt;td&gt;-8.0&lt;/td&gt;\\n      &lt;td&gt;JFK&lt;/td&gt;\\n      &lt;td&gt;40.63975&lt;/td&gt;\\n      &lt;td&gt;-73.77893&lt;/td&gt;\\n      &lt;td&gt;2248&lt;/td&gt;\\n      &lt;td&gt;5&lt;/td&gt;\\n      &lt;td&gt;LAS&lt;/td&gt;\\n      &lt;td&gt;36.08036&lt;/td&gt;\\n      &lt;td&gt;-115.15233&lt;/td&gt;\\n      &lt;td&gt;359&lt;/td&gt;\\n      &lt;td&gt;1330&lt;/td&gt;\\n      &lt;td&gt;289.0&lt;/td&gt;\\n      &lt;td&gt;NY&lt;/td&gt;\\n      &lt;td&gt;NV&lt;/td&gt;\\n      &lt;td&gt;9.0&lt;/td&gt;\\n      &lt;td&gt;10.0&lt;/td&gt;\\n      &lt;td&gt;136&lt;/td&gt;\\n      &lt;td&gt;63.9&lt;/td&gt;\\n      &lt;td&gt;65.2&lt;/td&gt;\\n    &lt;/tr&gt;\\n    &lt;tr&gt;\\n      &lt;th&gt;2371783&lt;/th&gt;\\n      &lt;td&gt;AA&lt;/td&gt;\\n      &lt;td&gt;20&lt;/td&gt;\\n      &lt;td&gt;3&lt;/td&gt;\\n      &lt;td&gt;-4.0&lt;/td&gt;\\n      &lt;td&gt;DFW&lt;/td&gt;\\n      &lt;td&gt;32.89595&lt;/td&gt;\\n      &lt;td&gt;-97.03720&lt;/td&gt;\\n      &lt;td&gt;190&lt;/td&gt;\\n      &lt;td&gt;5&lt;/td&gt;\\n      &lt;td&gt;AUS&lt;/td&gt;\\n      &lt;td&gt;30.19453&lt;/td&gt;\\n      &lt;td&gt;-97.66987&lt;/td&gt;\\n      &lt;td&gt;1110&lt;/td&gt;\\n      &lt;td&gt;1041&lt;/td&gt;\\n      &lt;td&gt;69.0&lt;/td&gt;\\n      &lt;td&gt;TX&lt;/td&gt;\\n      &lt;td&gt;TX&lt;/td&gt;\\n      &lt;td&gt;31.0&lt;/td&gt;\\n      &lt;td&gt;13.0&lt;/td&gt;\\n      &lt;td&gt;140&lt;/td&gt;\\n      &lt;td&gt;76.7&lt;/td&gt;\\n      &lt;td&gt;76.1&lt;/td&gt;\\n    &lt;/tr&gt;\\n    &lt;tr&gt;\\n      &lt;th&gt;574375&lt;/th&gt;\\n      &lt;td&gt;MQ&lt;/td&gt;\\n      &lt;td&gt;23&lt;/td&gt;\\n      &lt;td&gt;2&lt;/td&gt;\\n      &lt;td&gt;-10.0&lt;/td&gt;\\n      &lt;td&gt;ORD&lt;/td&gt;\\n      &lt;td&gt;41.97960&lt;/td&gt;\\n      &lt;td&gt;-87.90446&lt;/td&gt;\\n      &lt;td&gt;108&lt;/td&gt;\\n      &lt;td&gt;6&lt;/td&gt;\\n      &lt;td&gt;MSN&lt;/td&gt;\\n      &lt;td&gt;43.13986&lt;/td&gt;\\n      &lt;td&gt;-89.33751&lt;/td&gt;\\n      &lt;td&gt;805&lt;/td&gt;\\n      &lt;td&gt;750&lt;/td&gt;\\n      &lt;td&gt;55.0&lt;/td&gt;\\n      &lt;td&gt;IL&lt;/td&gt;\\n      &lt;td&gt;WI&lt;/td&gt;\\n      &lt;td&gt;11.0&lt;/td&gt;\\n      &lt;td&gt;13.0&lt;/td&gt;\\n      &lt;td&gt;174&lt;/td&gt;\\n      &lt;td&gt;72.4&lt;/td&gt;\\n      &lt;td&gt;75.3&lt;/td&gt;\\n    &lt;/tr&gt;\\n    &lt;tr&gt;\\n      &lt;th&gt;...&lt;/th&gt;\\n      &lt;td&gt;...&lt;/td&gt;\\n      &lt;td&gt;...&lt;/td&gt;\\n      &lt;td&gt;...&lt;/td&gt;\\n      &lt;td&gt;...&lt;/td&gt;\\n      &lt;td&gt;...&lt;/td&gt;\\n      &lt;td&gt;...&lt;/td&gt;\\n      &lt;td&gt;...&lt;/td&gt;\\n      &lt;td&gt;...&lt;/td&gt;\\n      &lt;td&gt;...&lt;/td&gt;\\n      &lt;td&gt;...&lt;/td&gt;\\n      &lt;td&gt;...&lt;/td&gt;\\n      &lt;td&gt;...&lt;/td&gt;\\n      &lt;td&gt;...&lt;/td&gt;\\n      &lt;td&gt;...&lt;/td&gt;\\n      &lt;td&gt;...&lt;/td&gt;\\n      &lt;td&gt;...&lt;/td&gt;\\n      &lt;td&gt;...&lt;/td&gt;\\n      &lt;td&gt;...&lt;/td&gt;\\n      &lt;td&gt;...&lt;/td&gt;\\n      &lt;td&gt;...&lt;/td&gt;\\n      &lt;td&gt;...&lt;/td&gt;\\n      &lt;td&gt;...&lt;/td&gt;\\n    &lt;/tr&gt;\\n    &lt;tr&gt;\\n      &lt;th&gt;337202&lt;/th&gt;\\n      &lt;td&gt;US&lt;/td&gt;\\n      &lt;td&gt;8&lt;/td&gt;\\n      &lt;td&gt;5&lt;/td&gt;\\n      &lt;td&gt;-4.0&lt;/td&gt;\\n      &lt;td&gt;PHX&lt;/td&gt;\\n      &lt;td&gt;33.43417&lt;/td&gt;\\n      &lt;td&gt;-112.00806&lt;/td&gt;\\n      &lt;td&gt;1670&lt;/td&gt;\\n      &lt;td&gt;5&lt;/td&gt;\\n      &lt;td&gt;CMH&lt;/td&gt;\\n      &lt;td&gt;39.99799&lt;/td&gt;\\n      &lt;td&gt;-82.89188&lt;/td&gt;\\n      &lt;td&gt;1142&lt;/td&gt;\\n      &lt;td&gt;1070&lt;/td&gt;\\n      &lt;td&gt;252.0&lt;/td&gt;\\n      &lt;td&gt;AZ&lt;/td&gt;\\n      &lt;td&gt;OH&lt;/td&gt;\\n      &lt;td&gt;9.0&lt;/td&gt;\\n      &lt;td&gt;9.0&lt;/td&gt;\\n      &lt;td&gt;128&lt;/td&gt;\\n      &lt;td&gt;75.4&lt;/td&gt;\\n      &lt;td&gt;70.3&lt;/td&gt;\\n    &lt;/tr&gt;\\n    &lt;tr&gt;\\n      &lt;th&gt;2726087&lt;/th&gt;\\n      &lt;td&gt;EV&lt;/td&gt;\\n      &lt;td&gt;23&lt;/td&gt;\\n      &lt;td&gt;4&lt;/td&gt;\\n      &lt;td&gt;-7.0&lt;/td&gt;\\n      &lt;td&gt;STL&lt;/td&gt;\\n      &lt;td&gt;38.74769&lt;/td&gt;\\n      &lt;td&gt;-90.35999&lt;/td&gt;\\n      &lt;td&gt;872&lt;/td&gt;\\n      &lt;td&gt;7&lt;/td&gt;\\n      &lt;td&gt;EWR&lt;/td&gt;\\n      &lt;td&gt;40.69250&lt;/td&gt;\\n      &lt;td&gt;-74.16866&lt;/td&gt;\\n      &lt;td&gt;646&lt;/td&gt;\\n      &lt;td&gt;540&lt;/td&gt;\\n      &lt;td&gt;166.0&lt;/td&gt;\\n      &lt;td&gt;MO&lt;/td&gt;\\n      &lt;td&gt;NJ&lt;/td&gt;\\n      &lt;td&gt;6.0&lt;/td&gt;\\n      &lt;td&gt;40.0&lt;/td&gt;\\n      &lt;td&gt;204&lt;/td&gt;\\n      &lt;td&gt;75.3&lt;/td&gt;\\n      &lt;td&gt;77.9&lt;/td&gt;\\n    &lt;/tr&gt;\\n    &lt;tr&gt;\\n      &lt;th&gt;1506379&lt;/th&gt;\\n      &lt;td&gt;WN&lt;/td&gt;\\n      &lt;td&gt;25&lt;/td&gt;\\n      &lt;td&gt;7&lt;/td&gt;\\n      &lt;td&gt;-3.0&lt;/td&gt;\\n      &lt;td&gt;DAL&lt;/td&gt;\\n      &lt;td&gt;32.84711&lt;/td&gt;\\n      &lt;td&gt;-96.85177&lt;/td&gt;\\n      &lt;td&gt;323&lt;/td&gt;\\n      &lt;td&gt;1&lt;/td&gt;\\n      &lt;td&gt;AMA&lt;/td&gt;\\n      &lt;td&gt;35.21937&lt;/td&gt;\\n      &lt;td&gt;-101.70593&lt;/td&gt;\\n      &lt;td&gt;495&lt;/td&gt;\\n      &lt;td&gt;420&lt;/td&gt;\\n      &lt;td&gt;75.0&lt;/td&gt;\\n      &lt;td&gt;TX&lt;/td&gt;\\n      &lt;td&gt;TX&lt;/td&gt;\\n      &lt;td&gt;3.0&lt;/td&gt;\\n      &lt;td&gt;8.0&lt;/td&gt;\\n      &lt;td&gt;25&lt;/td&gt;\\n      &lt;td&gt;40.2&lt;/td&gt;\\n      &lt;td&gt;51.6&lt;/td&gt;\\n    &lt;/tr&gt;\\n    &lt;tr&gt;\\n      &lt;th&gt;1490430&lt;/th&gt;\\n      &lt;td&gt;WN&lt;/td&gt;\\n      &lt;td&gt;23&lt;/td&gt;\\n      &lt;td&gt;5&lt;/td&gt;\\n      &lt;td&gt;31.0&lt;/td&gt;\\n      &lt;td&gt;STL&lt;/td&gt;\\n      &lt;td&gt;38.74769&lt;/td&gt;\\n      &lt;td&gt;-90.35999&lt;/td&gt;\\n      &lt;td&gt;738&lt;/td&gt;\\n      &lt;td&gt;1&lt;/td&gt;\\n      &lt;td&gt;BWI&lt;/td&gt;\\n      &lt;td&gt;39.17540&lt;/td&gt;\\n      &lt;td&gt;-76.66820&lt;/td&gt;\\n      &lt;td&gt;1270&lt;/td&gt;\\n      &lt;td&gt;1185&lt;/td&gt;\\n      &lt;td&gt;145.0&lt;/td&gt;\\n      &lt;td&gt;MO&lt;/td&gt;\\n      &lt;td&gt;MD&lt;/td&gt;\\n      &lt;td&gt;3.0&lt;/td&gt;\\n      &lt;td&gt;7.0&lt;/td&gt;\\n      &lt;td&gt;23&lt;/td&gt;\\n      &lt;td&gt;32.9&lt;/td&gt;\\n      &lt;td&gt;35.9&lt;/td&gt;\\n    &lt;/tr&gt;\\n    &lt;tr&gt;\\n      &lt;th&gt;42638&lt;/th&gt;\\n      &lt;td&gt;US&lt;/td&gt;\\n      &lt;td&gt;19&lt;/td&gt;\\n      &lt;td&gt;1&lt;/td&gt;\\n      &lt;td&gt;-8.0&lt;/td&gt;\\n      &lt;td&gt;PHX&lt;/td&gt;\\n      &lt;td&gt;33.43417&lt;/td&gt;\\n      &lt;td&gt;-112.00806&lt;/td&gt;\\n      &lt;td&gt;1788&lt;/td&gt;\\n      &lt;td&gt;1&lt;/td&gt;\\n      &lt;td&gt;TPA&lt;/td&gt;\\n      &lt;td&gt;27.97547&lt;/td&gt;\\n      &lt;td&gt;-82.53325&lt;/td&gt;\\n      &lt;td&gt;1205&lt;/td&gt;\\n      &lt;td&gt;1040&lt;/td&gt;\\n      &lt;td&gt;285.0&lt;/td&gt;\\n      &lt;td&gt;AZ&lt;/td&gt;\\n      &lt;td&gt;FL&lt;/td&gt;\\n      &lt;td&gt;11.0&lt;/td&gt;\\n      &lt;td&gt;13.0&lt;/td&gt;\\n      &lt;td&gt;19&lt;/td&gt;\\n      &lt;td&gt;59.1&lt;/td&gt;\\n      &lt;td&gt;61.5&lt;/td&gt;\\n    &lt;/tr&gt;\\n    &lt;tr&gt;\\n      &lt;th&gt;1827345&lt;/th&gt;\\n      &lt;td&gt;EV&lt;/td&gt;\\n      &lt;td&gt;9&lt;/td&gt;\\n      &lt;td&gt;1&lt;/td&gt;\\n      &lt;td&gt;122.0&lt;/td&gt;\\n      &lt;td&gt;DFW&lt;/td&gt;\\n      &lt;td&gt;32.89595&lt;/td&gt;\\n      &lt;td&gt;-97.03720&lt;/td&gt;\\n      &lt;td&gt;922&lt;/td&gt;\\n      &lt;td&gt;3&lt;/td&gt;\\n      &lt;td&gt;CAE&lt;/td&gt;\\n      &lt;td&gt;33.93884&lt;/td&gt;\\n      &lt;td&gt;-81.11954&lt;/td&gt;\\n      &lt;td&gt;1215&lt;/td&gt;\\n      &lt;td&gt;1092&lt;/td&gt;\\n      &lt;td&gt;183.0&lt;/td&gt;\\n      &lt;td&gt;TX&lt;/td&gt;\\n      &lt;td&gt;SC&lt;/td&gt;\\n      &lt;td&gt;16.0&lt;/td&gt;\\n      &lt;td&gt;12.0&lt;/td&gt;\\n      &lt;td&gt;68&lt;/td&gt;\\n      &lt;td&gt;61.3&lt;/td&gt;\\n      &lt;td&gt;48.0&lt;/td&gt;\\n    &lt;/tr&gt;\\n    &lt;tr&gt;\\n      &lt;th&gt;2199558&lt;/th&gt;\\n      &lt;td&gt;DL&lt;/td&gt;\\n      &lt;td&gt;27&lt;/td&gt;\\n      &lt;td&gt;1&lt;/td&gt;\\n      &lt;td&gt;-2.0&lt;/td&gt;\\n      &lt;td&gt;ATL&lt;/td&gt;\\n      &lt;td&gt;33.64044&lt;/td&gt;\\n      &lt;td&gt;-84.42694&lt;/td&gt;\\n      &lt;td&gt;1027&lt;/td&gt;\\n      &lt;td&gt;4&lt;/td&gt;\\n      &lt;td&gt;PWM&lt;/td&gt;\\n      &lt;td&gt;43.64617&lt;/td&gt;\\n      &lt;td&gt;-70.30875&lt;/td&gt;\\n      &lt;td&gt;608&lt;/td&gt;\\n      &lt;td&gt;420&lt;/td&gt;\\n      &lt;td&gt;188.0&lt;/td&gt;\\n      &lt;td&gt;GA&lt;/td&gt;\\n      &lt;td&gt;ME&lt;/td&gt;\\n      &lt;td&gt;5.0&lt;/td&gt;\\n      &lt;td&gt;15.0&lt;/td&gt;\\n      &lt;td&gt;117&lt;/td&gt;\\n      &lt;td&gt;50.8&lt;/td&gt;\\n      &lt;td&gt;61.8&lt;/td&gt;\\n    &lt;/tr&gt;\\n    &lt;tr&gt;\\n      &lt;th&gt;3617067&lt;/th&gt;\\n      &lt;td&gt;US&lt;/td&gt;\\n      &lt;td&gt;11&lt;/td&gt;\\n      &lt;td&gt;3&lt;/td&gt;\\n      &lt;td&gt;-7.0&lt;/td&gt;\\n      &lt;td&gt;BUF&lt;/td&gt;\\n      &lt;td&gt;42.94052&lt;/td&gt;\\n      &lt;td&gt;-78.73217&lt;/td&gt;\\n      &lt;td&gt;546&lt;/td&gt;\\n      &lt;td&gt;2&lt;/td&gt;\\n      &lt;td&gt;CLT&lt;/td&gt;\\n      &lt;td&gt;35.21401&lt;/td&gt;\\n      &lt;td&gt;-80.94313&lt;/td&gt;\\n      &lt;td&gt;663&lt;/td&gt;\\n      &lt;td&gt;565&lt;/td&gt;\\n      &lt;td&gt;98.0&lt;/td&gt;\\n      &lt;td&gt;NY&lt;/td&gt;\\n      &lt;td&gt;NC&lt;/td&gt;\\n      &lt;td&gt;3.0&lt;/td&gt;\\n      &lt;td&gt;12.0&lt;/td&gt;\\n      &lt;td&gt;42&lt;/td&gt;\\n      &lt;td&gt;41.4&lt;/td&gt;\\n      &lt;td&gt;20.1&lt;/td&gt;\\n    &lt;/tr&gt;\\n    &lt;tr&gt;\\n      &lt;th&gt;2877505&lt;/th&gt;\\n      &lt;td&gt;WN&lt;/td&gt;\\n      &lt;td&gt;20&lt;/td&gt;\\n      &lt;td&gt;4&lt;/td&gt;\\n      &lt;td&gt;33.0&lt;/td&gt;\\n      &lt;td&gt;HOU&lt;/td&gt;\\n      &lt;td&gt;29.64542&lt;/td&gt;\\n      &lt;td&gt;-95.27889&lt;/td&gt;\\n      &lt;td&gt;148&lt;/td&gt;\\n      &lt;td&gt;8&lt;/td&gt;\\n      &lt;td&gt;AUS&lt;/td&gt;\\n      &lt;td&gt;30.19453&lt;/td&gt;\\n      &lt;td&gt;-97.66987&lt;/td&gt;\\n      &lt;td&gt;1165&lt;/td&gt;\\n      &lt;td&gt;1110&lt;/td&gt;\\n      &lt;td&gt;55.0&lt;/td&gt;\\n      &lt;td&gt;TX&lt;/td&gt;\\n      &lt;td&gt;TX&lt;/td&gt;\\n      &lt;td&gt;9.0&lt;/td&gt;\\n      &lt;td&gt;8.0&lt;/td&gt;\\n      &lt;td&gt;232&lt;/td&gt;\\n      &lt;td&gt;79.0&lt;/td&gt;\\n      &lt;td&gt;77.1&lt;/td&gt;\\n    &lt;/tr&gt;\\n    &lt;tr&gt;\\n      &lt;th&gt;2275579&lt;/th&gt;\\n      &lt;td&gt;EV&lt;/td&gt;\\n      &lt;td&gt;6&lt;/td&gt;\\n      &lt;td&gt;3&lt;/td&gt;\\n      &lt;td&gt;-5.0&lt;/td&gt;\\n      &lt;td&gt;OKC&lt;/td&gt;\\n      &lt;td&gt;35.39309&lt;/td&gt;\\n      &lt;td&gt;-97.60073&lt;/td&gt;\\n      &lt;td&gt;395&lt;/td&gt;\\n      &lt;td&gt;5&lt;/td&gt;\\n      &lt;td&gt;IAH&lt;/td&gt;\\n      &lt;td&gt;29.98047&lt;/td&gt;\\n      &lt;td&gt;-95.33972&lt;/td&gt;\\n      &lt;td&gt;539&lt;/td&gt;\\n      &lt;td&gt;447&lt;/td&gt;\\n      &lt;td&gt;92.0&lt;/td&gt;\\n      &lt;td&gt;OK&lt;/td&gt;\\n      &lt;td&gt;TX&lt;/td&gt;\\n      &lt;td&gt;7.0&lt;/td&gt;\\n      &lt;td&gt;24.0&lt;/td&gt;\\n      &lt;td&gt;126&lt;/td&gt;\\n      &lt;td&gt;76.0&lt;/td&gt;\\n      &lt;td&gt;67.7&lt;/td&gt;\\n    &lt;/tr&gt;\\n    &lt;tr&gt;\\n      &lt;th&gt;2243063&lt;/th&gt;\\n      &lt;td&gt;WN&lt;/td&gt;\\n      &lt;td&gt;2&lt;/td&gt;\\n      &lt;td&gt;6&lt;/td&gt;\\n      &lt;td&gt;-8.0&lt;/td&gt;\\n      &lt;td&gt;MCO&lt;/td&gt;\\n      &lt;td&gt;28.42889&lt;/td&gt;\\n      &lt;td&gt;-81.31603&lt;/td&gt;\\n      &lt;td&gt;616&lt;/td&gt;\\n      &lt;td&gt;5&lt;/td&gt;\\n      &lt;td&gt;BNA&lt;/td&gt;\\n      &lt;td&gt;36.12448&lt;/td&gt;\\n      &lt;td&gt;-86.67818&lt;/td&gt;\\n      &lt;td&gt;1320&lt;/td&gt;\\n      &lt;td&gt;1155&lt;/td&gt;\\n      &lt;td&gt;105.0&lt;/td&gt;\\n      &lt;td&gt;FL&lt;/td&gt;\\n      &lt;td&gt;TN&lt;/td&gt;\\n      &lt;td&gt;3.0&lt;/td&gt;\\n      &lt;td&gt;7.0&lt;/td&gt;\\n      &lt;td&gt;122&lt;/td&gt;\\n      &lt;td&gt;62.2&lt;/td&gt;\\n      &lt;td&gt;71.4&lt;/td&gt;\\n    &lt;/tr&gt;\\n    &lt;tr&gt;\\n      &lt;th&gt;663277&lt;/th&gt;\\n      &lt;td&gt;OO&lt;/td&gt;\\n      &lt;td&gt;8&lt;/td&gt;\\n      &lt;td&gt;3&lt;/td&gt;\\n      &lt;td&gt;5.0&lt;/td&gt;\\n      &lt;td&gt;PDX&lt;/td&gt;\\n      &lt;td&gt;45.58872&lt;/td&gt;\\n      &lt;td&gt;-122.59750&lt;/td&gt;\\n      &lt;td&gt;129&lt;/td&gt;\\n      &lt;td&gt;7&lt;/td&gt;\\n      &lt;td&gt;SEA&lt;/td&gt;\\n      &lt;td&gt;47.44898&lt;/td&gt;\\n      &lt;td&gt;-122.30931&lt;/td&gt;\\n      &lt;td&gt;520&lt;/td&gt;\\n      &lt;td&gt;465&lt;/td&gt;\\n      &lt;td&gt;55.0&lt;/td&gt;\\n      &lt;td&gt;OR&lt;/td&gt;\\n      &lt;td&gt;WA&lt;/td&gt;\\n      &lt;td&gt;4.0&lt;/td&gt;\\n      &lt;td&gt;21.0&lt;/td&gt;\\n      &lt;td&gt;189&lt;/td&gt;\\n      &lt;td&gt;72.6&lt;/td&gt;\\n      &lt;td&gt;69.5&lt;/td&gt;\\n    &lt;/tr&gt;\\n    &lt;tr&gt;\\n      &lt;th&gt;97347&lt;/th&gt;\\n      &lt;td&gt;UA&lt;/td&gt;\\n      &lt;td&gt;17&lt;/td&gt;\\n      &lt;td&gt;2&lt;/td&gt;\\n      &lt;td&gt;21.0&lt;/td&gt;\\n      &lt;td&gt;DEN&lt;/td&gt;\\n      &lt;td&gt;39.85841&lt;/td&gt;\\n      &lt;td&gt;-104.66700&lt;/td&gt;\\n      &lt;td&gt;1620&lt;/td&gt;\\n      &lt;td&gt;2&lt;/td&gt;\\n      &lt;td&gt;LGA&lt;/td&gt;\\n      &lt;td&gt;40.77724&lt;/td&gt;\\n      &lt;td&gt;-73.87261&lt;/td&gt;\\n      &lt;td&gt;1091&lt;/td&gt;\\n      &lt;td&gt;932&lt;/td&gt;\\n      &lt;td&gt;279.0&lt;/td&gt;\\n      &lt;td&gt;CO&lt;/td&gt;\\n      &lt;td&gt;NY&lt;/td&gt;\\n      &lt;td&gt;5.0&lt;/td&gt;\\n      &lt;td&gt;25.0&lt;/td&gt;\\n      &lt;td&gt;48&lt;/td&gt;\\n      &lt;td&gt;19.4&lt;/td&gt;\\n      &lt;td&gt;24.8&lt;/td&gt;\\n    &lt;/tr&gt;\\n    &lt;tr&gt;\\n      &lt;th&gt;2454695&lt;/th&gt;\\n      &lt;td&gt;AA&lt;/td&gt;\\n      &lt;td&gt;3&lt;/td&gt;\\n      &lt;td&gt;3&lt;/td&gt;\\n      &lt;td&gt;-7.0&lt;/td&gt;\\n      &lt;td&gt;IAH&lt;/td&gt;\\n      &lt;td&gt;29.98047&lt;/td&gt;\\n      &lt;td&gt;-95.33972&lt;/td&gt;\\n      &lt;td&gt;224&lt;/td&gt;\\n      &lt;td&gt;6&lt;/td&gt;\\n      &lt;td&gt;DFW&lt;/td&gt;\\n      &lt;td&gt;32.89595&lt;/td&gt;\\n      &lt;td&gt;-97.03720&lt;/td&gt;\\n      &lt;td&gt;1292&lt;/td&gt;\\n      &lt;td&gt;1215&lt;/td&gt;\\n      &lt;td&gt;77.0&lt;/td&gt;\\n      &lt;td&gt;TX&lt;/td&gt;\\n      &lt;td&gt;TX&lt;/td&gt;\\n      &lt;td&gt;7.0&lt;/td&gt;\\n      &lt;td&gt;13.0&lt;/td&gt;\\n      &lt;td&gt;154&lt;/td&gt;\\n      &lt;td&gt;78.5&lt;/td&gt;\\n      &lt;td&gt;79.0&lt;/td&gt;\\n    &lt;/tr&gt;\\n    &lt;tr&gt;\\n      &lt;th&gt;864937&lt;/th&gt;\\n      &lt;td&gt;WN&lt;/td&gt;\\n      &lt;td&gt;9&lt;/td&gt;\\n      &lt;td&gt;7&lt;/td&gt;\\n      &lt;td&gt;1.0&lt;/td&gt;\\n      &lt;td&gt;MDW&lt;/td&gt;\\n      &lt;td&gt;41.78598&lt;/td&gt;\\n      &lt;td&gt;-87.75242&lt;/td&gt;\\n      &lt;td&gt;725&lt;/td&gt;\\n      &lt;td&gt;8&lt;/td&gt;\\n      &lt;td&gt;LGA&lt;/td&gt;\\n      &lt;td&gt;40.77724&lt;/td&gt;\\n      &lt;td&gt;-73.87261&lt;/td&gt;\\n      &lt;td&gt;780&lt;/td&gt;\\n      &lt;td&gt;685&lt;/td&gt;\\n      &lt;td&gt;155.0&lt;/td&gt;\\n      &lt;td&gt;IL&lt;/td&gt;\\n      &lt;td&gt;NY&lt;/td&gt;\\n      &lt;td&gt;3.0&lt;/td&gt;\\n      &lt;td&gt;22.0&lt;/td&gt;\\n      &lt;td&gt;221&lt;/td&gt;\\n      &lt;td&gt;75.7&lt;/td&gt;\\n      &lt;td&gt;71.8&lt;/td&gt;\\n    &lt;/tr&gt;\\n    &lt;tr&gt;\\n      &lt;th&gt;2548086&lt;/th&gt;\\n      &lt;td&gt;WN&lt;/td&gt;\\n      &lt;td&gt;20&lt;/td&gt;\\n      &lt;td&gt;6&lt;/td&gt;\\n      &lt;td&gt;4.0&lt;/td&gt;\\n      &lt;td&gt;LGA&lt;/td&gt;\\n      &lt;td&gt;40.77724&lt;/td&gt;\\n      &lt;td&gt;-73.87261&lt;/td&gt;\\n      &lt;td&gt;725&lt;/td&gt;\\n      &lt;td&gt;6&lt;/td&gt;\\n      &lt;td&gt;MDW&lt;/td&gt;\\n      &lt;td&gt;41.78598&lt;/td&gt;\\n      &lt;td&gt;-87.75242&lt;/td&gt;\\n      &lt;td&gt;725&lt;/td&gt;\\n      &lt;td&gt;545&lt;/td&gt;\\n      &lt;td&gt;120.0&lt;/td&gt;\\n      &lt;td&gt;NY&lt;/td&gt;\\n      &lt;td&gt;IL&lt;/td&gt;\\n      &lt;td&gt;5.0&lt;/td&gt;\\n      &lt;td&gt;10.0&lt;/td&gt;\\n      &lt;td&gt;171&lt;/td&gt;\\n      &lt;td&gt;62.8&lt;/td&gt;\\n      &lt;td&gt;69.5&lt;/td&gt;\\n    &lt;/tr&gt;\\n    &lt;tr&gt;\\n      &lt;th&gt;2666025&lt;/th&gt;\\n      &lt;td&gt;AA&lt;/td&gt;\\n      &lt;td&gt;12&lt;/td&gt;\\n      &lt;td&gt;7&lt;/td&gt;\\n      &lt;td&gt;8.0&lt;/td&gt;\\n      &lt;td&gt;AUS&lt;/td&gt;\\n      &lt;td&gt;30.19453&lt;/td&gt;\\n      &lt;td&gt;-97.66987&lt;/td&gt;\\n      &lt;td&gt;190&lt;/td&gt;\\n      &lt;td&gt;7&lt;/td&gt;\\n      &lt;td&gt;DFW&lt;/td&gt;\\n      &lt;td&gt;32.89595&lt;/td&gt;\\n      &lt;td&gt;-97.03720&lt;/td&gt;\\n      &lt;td&gt;973&lt;/td&gt;\\n      &lt;td&gt;910&lt;/td&gt;\\n      &lt;td&gt;63.0&lt;/td&gt;\\n      &lt;td&gt;TX&lt;/td&gt;\\n      &lt;td&gt;TX&lt;/td&gt;\\n      &lt;td&gt;5.0&lt;/td&gt;\\n      &lt;td&gt;10.0&lt;/td&gt;\\n      &lt;td&gt;193&lt;/td&gt;\\n      &lt;td&gt;86.0&lt;/td&gt;\\n      &lt;td&gt;81.8&lt;/td&gt;\\n    &lt;/tr&gt;\\n    &lt;tr&gt;\\n      &lt;th&gt;1675613&lt;/th&gt;\\n      &lt;td&gt;OO&lt;/td&gt;\\n      &lt;td&gt;17&lt;/td&gt;\\n      &lt;td&gt;2&lt;/td&gt;\\n      &lt;td&gt;-12.0&lt;/td&gt;\\n      &lt;td&gt;SLC&lt;/td&gt;\\n      &lt;td&gt;40.78839&lt;/td&gt;\\n      &lt;td&gt;-111.97777&lt;/td&gt;\\n      &lt;td&gt;463&lt;/td&gt;\\n      &lt;td&gt;2&lt;/td&gt;\\n      &lt;td&gt;GTF&lt;/td&gt;\\n      &lt;td&gt;47.48200&lt;/td&gt;\\n      &lt;td&gt;-111.37069&lt;/td&gt;\\n      &lt;td&gt;472&lt;/td&gt;\\n      &lt;td&gt;375&lt;/td&gt;\\n      &lt;td&gt;97.0&lt;/td&gt;\\n      &lt;td&gt;UT&lt;/td&gt;\\n      &lt;td&gt;MT&lt;/td&gt;\\n      &lt;td&gt;4.0&lt;/td&gt;\\n      &lt;td&gt;25.0&lt;/td&gt;\\n      &lt;td&gt;48&lt;/td&gt;\\n      &lt;td&gt;28.9&lt;/td&gt;\\n      &lt;td&gt;36.7&lt;/td&gt;\\n    &lt;/tr&gt;\\n    &lt;tr&gt;\\n      &lt;th&gt;1617001&lt;/th&gt;\\n      &lt;td&gt;B6&lt;/td&gt;\\n      &lt;td&gt;9&lt;/td&gt;\\n      &lt;td&gt;1&lt;/td&gt;\\n      &lt;td&gt;98.0&lt;/td&gt;\\n      &lt;td&gt;MCO&lt;/td&gt;\\n      &lt;td&gt;28.42889&lt;/td&gt;\\n      &lt;td&gt;-81.31603&lt;/td&gt;\\n      &lt;td&gt;944&lt;/td&gt;\\n      &lt;td&gt;2&lt;/td&gt;\\n      &lt;td&gt;JFK&lt;/td&gt;\\n      &lt;td&gt;40.63975&lt;/td&gt;\\n      &lt;td&gt;-73.77893&lt;/td&gt;\\n      &lt;td&gt;1254&lt;/td&gt;\\n      &lt;td&gt;1077&lt;/td&gt;\\n      &lt;td&gt;177.0&lt;/td&gt;\\n      &lt;td&gt;FL&lt;/td&gt;\\n      &lt;td&gt;NY&lt;/td&gt;\\n      &lt;td&gt;16.0&lt;/td&gt;\\n      &lt;td&gt;36.0&lt;/td&gt;\\n      &lt;td&gt;40&lt;/td&gt;\\n      &lt;td&gt;28.9&lt;/td&gt;\\n      &lt;td&gt;62.5&lt;/td&gt;\\n    &lt;/tr&gt;\\n    &lt;tr&gt;\\n      &lt;th&gt;1520870&lt;/th&gt;\\n      &lt;td&gt;WN&lt;/td&gt;\\n      &lt;td&gt;27&lt;/td&gt;\\n      &lt;td&gt;2&lt;/td&gt;\\n      &lt;td&gt;-6.0&lt;/td&gt;\\n      &lt;td&gt;MCO&lt;/td&gt;\\n      &lt;td&gt;28.42889&lt;/td&gt;\\n      &lt;td&gt;-81.31603&lt;/td&gt;\\n      &lt;td&gt;829&lt;/td&gt;\\n      &lt;td&gt;1&lt;/td&gt;\\n      &lt;td&gt;IND&lt;/td&gt;\\n      &lt;td&gt;39.71733&lt;/td&gt;\\n      &lt;td&gt;-86.29438&lt;/td&gt;\\n      &lt;td&gt;870&lt;/td&gt;\\n      &lt;td&gt;735&lt;/td&gt;\\n      &lt;td&gt;135.0&lt;/td&gt;\\n      &lt;td&gt;FL&lt;/td&gt;\\n      &lt;td&gt;IN&lt;/td&gt;\\n      &lt;td&gt;5.0&lt;/td&gt;\\n      &lt;td&gt;14.0&lt;/td&gt;\\n      &lt;td&gt;27&lt;/td&gt;\\n      &lt;td&gt;25.4&lt;/td&gt;\\n      &lt;td&gt;55.1&lt;/td&gt;\\n    &lt;/tr&gt;\\n    &lt;tr&gt;\\n      &lt;th&gt;2084072&lt;/th&gt;\\n      &lt;td&gt;OO&lt;/td&gt;\\n      &lt;td&gt;11&lt;/td&gt;\\n      &lt;td&gt;6&lt;/td&gt;\\n      &lt;td&gt;9.0&lt;/td&gt;\\n      &lt;td&gt;TUS&lt;/td&gt;\\n      &lt;td&gt;32.11608&lt;/td&gt;\\n      &lt;td&gt;-110.94103&lt;/td&gt;\\n      &lt;td&gt;451&lt;/td&gt;\\n      &lt;td&gt;4&lt;/td&gt;\\n      &lt;td&gt;LAX&lt;/td&gt;\\n      &lt;td&gt;33.94254&lt;/td&gt;\\n      &lt;td&gt;-118.40807&lt;/td&gt;\\n      &lt;td&gt;802&lt;/td&gt;\\n      &lt;td&gt;711&lt;/td&gt;\\n      &lt;td&gt;91.0&lt;/td&gt;\\n      &lt;td&gt;AZ&lt;/td&gt;\\n      &lt;td&gt;CA&lt;/td&gt;\\n      &lt;td&gt;4.0&lt;/td&gt;\\n      &lt;td&gt;18.0&lt;/td&gt;\\n      &lt;td&gt;101&lt;/td&gt;\\n      &lt;td&gt;59.1&lt;/td&gt;\\n      &lt;td&gt;70.8&lt;/td&gt;\\n    &lt;/tr&gt;\\n    &lt;tr&gt;\\n      &lt;th&gt;2098228&lt;/th&gt;\\n      &lt;td&gt;WN&lt;/td&gt;\\n      &lt;td&gt;13&lt;/td&gt;\\n      &lt;td&gt;1&lt;/td&gt;\\n      &lt;td&gt;4.0&lt;/td&gt;\\n      &lt;td&gt;SMF&lt;/td&gt;\\n      &lt;td&gt;38.69542&lt;/td&gt;\\n      &lt;td&gt;-121.59077&lt;/td&gt;\\n      &lt;td&gt;480&lt;/td&gt;\\n      &lt;td&gt;4&lt;/td&gt;\\n      &lt;td&gt;SAN&lt;/td&gt;\\n      &lt;td&gt;32.73356&lt;/td&gt;\\n      &lt;td&gt;-117.18966&lt;/td&gt;\\n      &lt;td&gt;815&lt;/td&gt;\\n      &lt;td&gt;725&lt;/td&gt;\\n      &lt;td&gt;90.0&lt;/td&gt;\\n      &lt;td&gt;CA&lt;/td&gt;\\n      &lt;td&gt;CA&lt;/td&gt;\\n      &lt;td&gt;3.0&lt;/td&gt;\\n      &lt;td&gt;9.0&lt;/td&gt;\\n      &lt;td&gt;103&lt;/td&gt;\\n      &lt;td&gt;65.4&lt;/td&gt;\\n      &lt;td&gt;63.7&lt;/td&gt;\\n    &lt;/tr&gt;\\n    &lt;tr&gt;\\n      &lt;th&gt;890222&lt;/th&gt;\\n      &lt;td&gt;EV&lt;/td&gt;\\n      &lt;td&gt;13&lt;/td&gt;\\n      &lt;td&gt;4&lt;/td&gt;\\n      &lt;td&gt;-6.0&lt;/td&gt;\\n      &lt;td&gt;ORD&lt;/td&gt;\\n      &lt;td&gt;41.97960&lt;/td&gt;\\n      &lt;td&gt;-87.90446&lt;/td&gt;\\n      &lt;td&gt;416&lt;/td&gt;\\n      &lt;td&gt;8&lt;/td&gt;\\n      &lt;td&gt;OMA&lt;/td&gt;\\n      &lt;td&gt;41.30252&lt;/td&gt;\\n      &lt;td&gt;-95.89417&lt;/td&gt;\\n      &lt;td&gt;412&lt;/td&gt;\\n      &lt;td&gt;315&lt;/td&gt;\\n      &lt;td&gt;97.0&lt;/td&gt;\\n      &lt;td&gt;IL&lt;/td&gt;\\n      &lt;td&gt;NE&lt;/td&gt;\\n      &lt;td&gt;12.0&lt;/td&gt;\\n      &lt;td&gt;9.0&lt;/td&gt;\\n      &lt;td&gt;225&lt;/td&gt;\\n      &lt;td&gt;77.2&lt;/td&gt;\\n      &lt;td&gt;73.8&lt;/td&gt;\\n    &lt;/tr&gt;\\n    &lt;tr&gt;\\n      &lt;th&gt;2362846&lt;/th&gt;\\n      &lt;td&gt;DL&lt;/td&gt;\\n      &lt;td&gt;19&lt;/td&gt;\\n      &lt;td&gt;2&lt;/td&gt;\\n      &lt;td&gt;-2.0&lt;/td&gt;\\n      &lt;td&gt;ATL&lt;/td&gt;\\n      &lt;td&gt;33.64044&lt;/td&gt;\\n      &lt;td&gt;-84.42694&lt;/td&gt;\\n      &lt;td&gt;606&lt;/td&gt;\\n      &lt;td&gt;5&lt;/td&gt;\\n      &lt;td&gt;ORD&lt;/td&gt;\\n      &lt;td&gt;41.97960&lt;/td&gt;\\n      &lt;td&gt;-87.90446&lt;/td&gt;\\n      &lt;td&gt;1027&lt;/td&gt;\\n      &lt;td&gt;840&lt;/td&gt;\\n      &lt;td&gt;127.0&lt;/td&gt;\\n      &lt;td&gt;GA&lt;/td&gt;\\n      &lt;td&gt;IL&lt;/td&gt;\\n      &lt;td&gt;5.0&lt;/td&gt;\\n      &lt;td&gt;22.0&lt;/td&gt;\\n      &lt;td&gt;139&lt;/td&gt;\\n      &lt;td&gt;50.4&lt;/td&gt;\\n      &lt;td&gt;74.8&lt;/td&gt;\\n    &lt;/tr&gt;\\n    &lt;tr&gt;\\n      &lt;th&gt;903834&lt;/th&gt;\\n      &lt;td&gt;UA&lt;/td&gt;\\n      &lt;td&gt;15&lt;/td&gt;\\n      &lt;td&gt;6&lt;/td&gt;\\n      &lt;td&gt;2.0&lt;/td&gt;\\n      &lt;td&gt;DEN&lt;/td&gt;\\n      &lt;td&gt;39.85841&lt;/td&gt;\\n      &lt;td&gt;-104.66700&lt;/td&gt;\\n      &lt;td&gt;1452&lt;/td&gt;\\n      &lt;td&gt;8&lt;/td&gt;\\n      &lt;td&gt;IAD&lt;/td&gt;\\n      &lt;td&gt;38.94453&lt;/td&gt;\\n      &lt;td&gt;-77.45581&lt;/td&gt;\\n      &lt;td&gt;628&lt;/td&gt;\\n      &lt;td&gt;516&lt;/td&gt;\\n      &lt;td&gt;232.0&lt;/td&gt;\\n      &lt;td&gt;CO&lt;/td&gt;\\n      &lt;td&gt;VA&lt;/td&gt;\\n      &lt;td&gt;13.0&lt;/td&gt;\\n      &lt;td&gt;15.0&lt;/td&gt;\\n      &lt;td&gt;227&lt;/td&gt;\\n      &lt;td&gt;77.6&lt;/td&gt;\\n      &lt;td&gt;79.6&lt;/td&gt;\\n    &lt;/tr&gt;\\n    &lt;tr&gt;\\n      &lt;th&gt;1940592&lt;/th&gt;\\n      &lt;td&gt;AS&lt;/td&gt;\\n      &lt;td&gt;24&lt;/td&gt;\\n      &lt;td&gt;2&lt;/td&gt;\\n      &lt;td&gt;-1.0&lt;/td&gt;\\n      &lt;td&gt;PHX&lt;/td&gt;\\n      &lt;td&gt;33.43417&lt;/td&gt;\\n      &lt;td&gt;-112.00806&lt;/td&gt;\\n      &lt;td&gt;1107&lt;/td&gt;\\n      &lt;td&gt;3&lt;/td&gt;\\n      &lt;td&gt;SEA&lt;/td&gt;\\n      &lt;td&gt;47.44898&lt;/td&gt;\\n      &lt;td&gt;-122.30931&lt;/td&gt;\\n      &lt;td&gt;852&lt;/td&gt;\\n      &lt;td&gt;680&lt;/td&gt;\\n      &lt;td&gt;172.0&lt;/td&gt;\\n      &lt;td&gt;AZ&lt;/td&gt;\\n      &lt;td&gt;WA&lt;/td&gt;\\n      &lt;td&gt;8.0&lt;/td&gt;\\n      &lt;td&gt;12.0&lt;/td&gt;\\n      &lt;td&gt;83&lt;/td&gt;\\n      &lt;td&gt;47.0&lt;/td&gt;\\n      &lt;td&gt;73.4&lt;/td&gt;\\n    &lt;/tr&gt;\\n    &lt;tr&gt;\\n      &lt;th&gt;879063&lt;/th&gt;\\n      &lt;td&gt;WN&lt;/td&gt;\\n      &lt;td&gt;11&lt;/td&gt;\\n      &lt;td&gt;2&lt;/td&gt;\\n      &lt;td&gt;12.0&lt;/td&gt;\\n      &lt;td&gt;DEN&lt;/td&gt;\\n      &lt;td&gt;39.85841&lt;/td&gt;\\n      &lt;td&gt;-104.66700&lt;/td&gt;\\n      &lt;td&gt;1605&lt;/td&gt;\\n      &lt;td&gt;8&lt;/td&gt;\\n      &lt;td&gt;EWR&lt;/td&gt;\\n      &lt;td&gt;40.69250&lt;/td&gt;\\n      &lt;td&gt;-74.16866&lt;/td&gt;\\n      &lt;td&gt;860&lt;/td&gt;\\n      &lt;td&gt;725&lt;/td&gt;\\n      &lt;td&gt;255.0&lt;/td&gt;\\n      &lt;td&gt;CO&lt;/td&gt;\\n      &lt;td&gt;NJ&lt;/td&gt;\\n      &lt;td&gt;22.0&lt;/td&gt;\\n      &lt;td&gt;15.0&lt;/td&gt;\\n      &lt;td&gt;223&lt;/td&gt;\\n      &lt;td&gt;75.1&lt;/td&gt;\\n      &lt;td&gt;71.5&lt;/td&gt;\\n    &lt;/tr&gt;\\n    &lt;tr&gt;\\n      &lt;th&gt;2635869&lt;/th&gt;\\n      &lt;td&gt;WN&lt;/td&gt;\\n      &lt;td&gt;6&lt;/td&gt;\\n      &lt;td&gt;1&lt;/td&gt;\\n      &lt;td&gt;0.0&lt;/td&gt;\\n      &lt;td&gt;ABQ&lt;/td&gt;\\n      &lt;td&gt;35.04022&lt;/td&gt;\\n      &lt;td&gt;-106.60919&lt;/td&gt;\\n      &lt;td&gt;328&lt;/td&gt;\\n      &lt;td&gt;7&lt;/td&gt;\\n      &lt;td&gt;PHX&lt;/td&gt;\\n      &lt;td&gt;33.43417&lt;/td&gt;\\n      &lt;td&gt;-112.00806&lt;/td&gt;\\n      &lt;td&gt;835&lt;/td&gt;\\n      &lt;td&gt;715&lt;/td&gt;\\n      &lt;td&gt;60.0&lt;/td&gt;\\n      &lt;td&gt;NM&lt;/td&gt;\\n      &lt;td&gt;AZ&lt;/td&gt;\\n      &lt;td&gt;10.0&lt;/td&gt;\\n      &lt;td&gt;8.0&lt;/td&gt;\\n      &lt;td&gt;187&lt;/td&gt;\\n      &lt;td&gt;88.7&lt;/td&gt;\\n      &lt;td&gt;74.0&lt;/td&gt;\\n    &lt;/tr&gt;\\n    &lt;tr&gt;\\n      &lt;th&gt;1728736&lt;/th&gt;\\n      &lt;td&gt;EV&lt;/td&gt;\\n      &lt;td&gt;24&lt;/td&gt;\\n      &lt;td&gt;2&lt;/td&gt;\\n      &lt;td&gt;-9.0&lt;/td&gt;\\n      &lt;td&gt;ORD&lt;/td&gt;\\n      &lt;td&gt;41.97960&lt;/td&gt;\\n      &lt;td&gt;-87.90446&lt;/td&gt;\\n      &lt;td&gt;323&lt;/td&gt;\\n      &lt;td&gt;2&lt;/td&gt;\\n      &lt;td&gt;LEX&lt;/td&gt;\\n      &lt;td&gt;38.03697&lt;/td&gt;\\n      &lt;td&gt;-84.60539&lt;/td&gt;\\n      &lt;td&gt;660&lt;/td&gt;\\n      &lt;td&gt;627&lt;/td&gt;\\n      &lt;td&gt;93.0&lt;/td&gt;\\n      &lt;td&gt;IL&lt;/td&gt;\\n      &lt;td&gt;KY&lt;/td&gt;\\n      &lt;td&gt;14.0&lt;/td&gt;\\n      &lt;td&gt;9.0&lt;/td&gt;\\n      &lt;td&gt;55&lt;/td&gt;\\n      &lt;td&gt;13.5&lt;/td&gt;\\n      &lt;td&gt;11.3&lt;/td&gt;\\n    &lt;/tr&gt;\\n    &lt;tr&gt;\\n      &lt;th&gt;134041&lt;/th&gt;\\n      &lt;td&gt;WN&lt;/td&gt;\\n      &lt;td&gt;7&lt;/td&gt;\\n      &lt;td&gt;6&lt;/td&gt;\\n      &lt;td&gt;2.0&lt;/td&gt;\\n      &lt;td&gt;PHX&lt;/td&gt;\\n      &lt;td&gt;33.43417&lt;/td&gt;\\n      &lt;td&gt;-112.00806&lt;/td&gt;\\n      &lt;td&gt;1912&lt;/td&gt;\\n      &lt;td&gt;3&lt;/td&gt;\\n      &lt;td&gt;BUF&lt;/td&gt;\\n      &lt;td&gt;42.94052&lt;/td&gt;\\n      &lt;td&gt;-78.73217&lt;/td&gt;\\n      &lt;td&gt;1045&lt;/td&gt;\\n      &lt;td&gt;865&lt;/td&gt;\\n      &lt;td&gt;300.0&lt;/td&gt;\\n      &lt;td&gt;AZ&lt;/td&gt;\\n      &lt;td&gt;NY&lt;/td&gt;\\n      &lt;td&gt;6.0&lt;/td&gt;\\n      &lt;td&gt;20.0&lt;/td&gt;\\n      &lt;td&gt;66&lt;/td&gt;\\n      &lt;td&gt;22.6&lt;/td&gt;\\n      &lt;td&gt;69.4&lt;/td&gt;\\n    &lt;/tr&gt;\\n    &lt;tr&gt;\\n      &lt;th&gt;403408&lt;/th&gt;\\n      &lt;td&gt;AA&lt;/td&gt;\\n      &lt;td&gt;24&lt;/td&gt;\\n      &lt;td&gt;7&lt;/td&gt;\\n      &lt;td&gt;-1.0&lt;/td&gt;\\n      &lt;td&gt;LAX&lt;/td&gt;\\n      &lt;td&gt;33.94254&lt;/td&gt;\\n      &lt;td&gt;-118.40807&lt;/td&gt;\\n      &lt;td&gt;1744&lt;/td&gt;\\n      &lt;td&gt;5&lt;/td&gt;\\n      &lt;td&gt;ORD&lt;/td&gt;\\n      &lt;td&gt;41.97960&lt;/td&gt;\\n      &lt;td&gt;-87.90446&lt;/td&gt;\\n      &lt;td&gt;995&lt;/td&gt;\\n      &lt;td&gt;840&lt;/td&gt;\\n      &lt;td&gt;275.0&lt;/td&gt;\\n      &lt;td&gt;CA&lt;/td&gt;\\n      &lt;td&gt;IL&lt;/td&gt;\\n      &lt;td&gt;7.0&lt;/td&gt;\\n      &lt;td&gt;14.0&lt;/td&gt;\\n      &lt;td&gt;144&lt;/td&gt;\\n      &lt;td&gt;66.1&lt;/td&gt;\\n      &lt;td&gt;60.9&lt;/td&gt;\\n    &lt;/tr&gt;\\n    &lt;tr&gt;\\n      &lt;th&gt;896663&lt;/th&gt;\\n      &lt;td&gt;WN&lt;/td&gt;\\n      &lt;td&gt;14&lt;/td&gt;\\n      &lt;td&gt;5&lt;/td&gt;\\n      &lt;td&gt;9.0&lt;/td&gt;\\n      &lt;td&gt;MDW&lt;/td&gt;\\n      &lt;td&gt;41.78598&lt;/td&gt;\\n      &lt;td&gt;-87.75242&lt;/td&gt;\\n      &lt;td&gt;825&lt;/td&gt;\\n      &lt;td&gt;8&lt;/td&gt;\\n      &lt;td&gt;MSY&lt;/td&gt;\\n      &lt;td&gt;29.99339&lt;/td&gt;\\n      &lt;td&gt;-90.25803&lt;/td&gt;\\n      &lt;td&gt;1210&lt;/td&gt;\\n      &lt;td&gt;1075&lt;/td&gt;\\n      &lt;td&gt;135.0&lt;/td&gt;\\n      &lt;td&gt;IL&lt;/td&gt;\\n      &lt;td&gt;LA&lt;/td&gt;\\n      &lt;td&gt;6.0&lt;/td&gt;\\n      &lt;td&gt;10.0&lt;/td&gt;\\n      &lt;td&gt;226&lt;/td&gt;\\n      &lt;td&gt;87.7&lt;/td&gt;\\n      &lt;td&gt;78.2&lt;/td&gt;\\n    &lt;/tr&gt;\\n    &lt;tr&gt;\\n      &lt;th&gt;444108&lt;/th&gt;\\n      &lt;td&gt;F9&lt;/td&gt;\\n      &lt;td&gt;1&lt;/td&gt;\\n      &lt;td&gt;1&lt;/td&gt;\\n      &lt;td&gt;12.0&lt;/td&gt;\\n      &lt;td&gt;DEN&lt;/td&gt;\\n      &lt;td&gt;39.85841&lt;/td&gt;\\n      &lt;td&gt;-104.66700&lt;/td&gt;\\n      &lt;td&gt;628&lt;/td&gt;\\n      &lt;td&gt;6&lt;/td&gt;\\n      &lt;td&gt;LAS&lt;/td&gt;\\n      &lt;td&gt;36.08036&lt;/td&gt;\\n      &lt;td&gt;-115.15233&lt;/td&gt;\\n      &lt;td&gt;547&lt;/td&gt;\\n      &lt;td&gt;380&lt;/td&gt;\\n      &lt;td&gt;107.0&lt;/td&gt;\\n      &lt;td&gt;CO&lt;/td&gt;\\n      &lt;td&gt;NV&lt;/td&gt;\\n      &lt;td&gt;11.0&lt;/td&gt;\\n      &lt;td&gt;15.0&lt;/td&gt;\\n      &lt;td&gt;152&lt;/td&gt;\\n      &lt;td&gt;90.5&lt;/td&gt;\\n      &lt;td&gt;68.1&lt;/td&gt;\\n    &lt;/tr&gt;\\n    &lt;tr&gt;\\n      &lt;th&gt;1989704&lt;/th&gt;\\n      &lt;td&gt;US&lt;/td&gt;\\n      &lt;td&gt;30&lt;/td&gt;\\n      &lt;td&gt;1&lt;/td&gt;\\n      &lt;td&gt;-9.0&lt;/td&gt;\\n      &lt;td&gt;CLT&lt;/td&gt;\\n      &lt;td&gt;35.21401&lt;/td&gt;\\n      &lt;td&gt;-80.94313&lt;/td&gt;\\n      &lt;td&gt;529&lt;/td&gt;\\n      &lt;td&gt;3&lt;/td&gt;\\n      &lt;td&gt;EWR&lt;/td&gt;\\n      &lt;td&gt;40.69250&lt;/td&gt;\\n      &lt;td&gt;-74.16866&lt;/td&gt;\\n      &lt;td&gt;1236&lt;/td&gt;\\n      &lt;td&gt;1109&lt;/td&gt;\\n      &lt;td&gt;127.0&lt;/td&gt;\\n      &lt;td&gt;NC&lt;/td&gt;\\n      &lt;td&gt;NJ&lt;/td&gt;\\n      &lt;td&gt;11.0&lt;/td&gt;\\n      &lt;td&gt;19.0&lt;/td&gt;\\n      &lt;td&gt;89&lt;/td&gt;\\n      &lt;td&gt;42.6&lt;/td&gt;\\n      &lt;td&gt;50.5&lt;/td&gt;\\n    &lt;/tr&gt;\\n    &lt;tr&gt;\\n      &lt;th&gt;2240585&lt;/th&gt;\\n      &lt;td&gt;MQ&lt;/td&gt;\\n      &lt;td&gt;2&lt;/td&gt;\\n      &lt;td&gt;6&lt;/td&gt;\\n      &lt;td&gt;-13.0&lt;/td&gt;\\n      &lt;td&gt;DFW&lt;/td&gt;\\n      &lt;td&gt;32.89595&lt;/td&gt;\\n      &lt;td&gt;-97.03720&lt;/td&gt;\\n      &lt;td&gt;158&lt;/td&gt;\\n      &lt;td&gt;5&lt;/td&gt;\\n      &lt;td&gt;ABI&lt;/td&gt;\\n      &lt;td&gt;32.41132&lt;/td&gt;\\n      &lt;td&gt;-99.68190&lt;/td&gt;\\n      &lt;td&gt;797&lt;/td&gt;\\n      &lt;td&gt;740&lt;/td&gt;\\n      &lt;td&gt;57.0&lt;/td&gt;\\n      &lt;td&gt;TX&lt;/td&gt;\\n      &lt;td&gt;TX&lt;/td&gt;\\n      &lt;td&gt;8.0&lt;/td&gt;\\n      &lt;td&gt;8.0&lt;/td&gt;\\n      &lt;td&gt;122&lt;/td&gt;\\n      &lt;td&gt;69.1&lt;/td&gt;\\n      &lt;td&gt;70.2&lt;/td&gt;\\n    &lt;/tr&gt;\\n    &lt;tr&gt;\\n      &lt;th&gt;2588908&lt;/th&gt;\\n      &lt;td&gt;OO&lt;/td&gt;\\n      &lt;td&gt;27&lt;/td&gt;\\n      &lt;td&gt;6&lt;/td&gt;\\n      &lt;td&gt;-1.0&lt;/td&gt;\\n      &lt;td&gt;MKE&lt;/td&gt;\\n      &lt;td&gt;42.94722&lt;/td&gt;\\n      &lt;td&gt;-87.89658&lt;/td&gt;\\n      &lt;td&gt;67&lt;/td&gt;\\n      &lt;td&gt;6&lt;/td&gt;\\n      &lt;td&gt;ORD&lt;/td&gt;\\n      &lt;td&gt;41.97960&lt;/td&gt;\\n      &lt;td&gt;-87.90446&lt;/td&gt;\\n      &lt;td&gt;560&lt;/td&gt;\\n      &lt;td&gt;509&lt;/td&gt;\\n      &lt;td&gt;51.0&lt;/td&gt;\\n      &lt;td&gt;WI&lt;/td&gt;\\n      &lt;td&gt;IL&lt;/td&gt;\\n      &lt;td&gt;6.0&lt;/td&gt;\\n      &lt;td&gt;18.0&lt;/td&gt;\\n      &lt;td&gt;178&lt;/td&gt;\\n      &lt;td&gt;64.0&lt;/td&gt;\\n      &lt;td&gt;63.3&lt;/td&gt;\\n    &lt;/tr&gt;\\n    &lt;tr&gt;\\n      &lt;th&gt;2131654&lt;/th&gt;\\n      &lt;td&gt;DL&lt;/td&gt;\\n      &lt;td&gt;17&lt;/td&gt;\\n      &lt;td&gt;5&lt;/td&gt;\\n      &lt;td&gt;-2.0&lt;/td&gt;\\n      &lt;td&gt;MSY&lt;/td&gt;\\n      &lt;td&gt;29.99339&lt;/td&gt;\\n      &lt;td&gt;-90.25803&lt;/td&gt;\\n      &lt;td&gt;425&lt;/td&gt;\\n      &lt;td&gt;4&lt;/td&gt;\\n      &lt;td&gt;ATL&lt;/td&gt;\\n      &lt;td&gt;33.64044&lt;/td&gt;\\n      &lt;td&gt;-84.42694&lt;/td&gt;\\n      &lt;td&gt;1411&lt;/td&gt;\\n      &lt;td&gt;1380&lt;/td&gt;\\n      &lt;td&gt;91.0&lt;/td&gt;\\n      &lt;td&gt;LA&lt;/td&gt;\\n      &lt;td&gt;GA&lt;/td&gt;\\n      &lt;td&gt;4.0&lt;/td&gt;\\n      &lt;td&gt;22.0&lt;/td&gt;\\n      &lt;td&gt;107&lt;/td&gt;\\n      &lt;td&gt;57.5&lt;/td&gt;\\n      &lt;td&gt;74.1&lt;/td&gt;\\n    &lt;/tr&gt;\\n    &lt;tr&gt;\\n      &lt;th&gt;1603395&lt;/th&gt;\\n      &lt;td&gt;WN&lt;/td&gt;\\n      &lt;td&gt;7&lt;/td&gt;\\n      &lt;td&gt;6&lt;/td&gt;\\n      &lt;td&gt;-1.0&lt;/td&gt;\\n      &lt;td&gt;ELP&lt;/td&gt;\\n      &lt;td&gt;31.80667&lt;/td&gt;\\n      &lt;td&gt;-106.37781&lt;/td&gt;\\n      &lt;td&gt;677&lt;/td&gt;\\n      &lt;td&gt;2&lt;/td&gt;\\n      &lt;td&gt;HOU&lt;/td&gt;\\n      &lt;td&gt;29.64542&lt;/td&gt;\\n      &lt;td&gt;-95.27889&lt;/td&gt;\\n      &lt;td&gt;1165&lt;/td&gt;\\n      &lt;td&gt;1100&lt;/td&gt;\\n      &lt;td&gt;125.0&lt;/td&gt;\\n      &lt;td&gt;TX&lt;/td&gt;\\n      &lt;td&gt;TX&lt;/td&gt;\\n      &lt;td&gt;4.0&lt;/td&gt;\\n      &lt;td&gt;8.0&lt;/td&gt;\\n      &lt;td&gt;38&lt;/td&gt;\\n      &lt;td&gt;51.7&lt;/td&gt;\\n      &lt;td&gt;59.9&lt;/td&gt;\\n    &lt;/tr&gt;\\n    &lt;tr&gt;\\n      &lt;th&gt;117513&lt;/th&gt;\\n      &lt;td&gt;WN&lt;/td&gt;\\n      &lt;td&gt;27&lt;/td&gt;\\n      &lt;td&gt;5&lt;/td&gt;\\n      &lt;td&gt;-5.0&lt;/td&gt;\\n      &lt;td&gt;DEN&lt;/td&gt;\\n      &lt;td&gt;39.85841&lt;/td&gt;\\n      &lt;td&gt;-104.66700&lt;/td&gt;\\n      &lt;td&gt;1452&lt;/td&gt;\\n      &lt;td&gt;2&lt;/td&gt;\\n      &lt;td&gt;IAD&lt;/td&gt;\\n      &lt;td&gt;38.94453&lt;/td&gt;\\n      &lt;td&gt;-77.45581&lt;/td&gt;\\n      &lt;td&gt;1265&lt;/td&gt;\\n      &lt;td&gt;1130&lt;/td&gt;\\n      &lt;td&gt;255.0&lt;/td&gt;\\n      &lt;td&gt;CO&lt;/td&gt;\\n      &lt;td&gt;VA&lt;/td&gt;\\n      &lt;td&gt;9.0&lt;/td&gt;\\n      &lt;td&gt;10.0&lt;/td&gt;\\n      &lt;td&gt;58&lt;/td&gt;\\n      &lt;td&gt;33.3&lt;/td&gt;\\n      &lt;td&gt;9.1&lt;/td&gt;\\n    &lt;/tr&gt;\\n    &lt;tr&gt;\\n      &lt;th&gt;25057&lt;/th&gt;\\n      &lt;td&gt;WN&lt;/td&gt;\\n      &lt;td&gt;9&lt;/td&gt;\\n      &lt;td&gt;5&lt;/td&gt;\\n      &lt;td&gt;-3.0&lt;/td&gt;\\n      &lt;td&gt;DEN&lt;/td&gt;\\n      &lt;td&gt;39.85841&lt;/td&gt;\\n      &lt;td&gt;-104.66700&lt;/td&gt;\\n      &lt;td&gt;770&lt;/td&gt;\\n      &lt;td&gt;1&lt;/td&gt;\\n      &lt;td&gt;STL&lt;/td&gt;\\n      &lt;td&gt;38.74769&lt;/td&gt;\\n      &lt;td&gt;-90.35999&lt;/td&gt;\\n      &lt;td&gt;915&lt;/td&gt;\\n      &lt;td&gt;830&lt;/td&gt;\\n      &lt;td&gt;145.0&lt;/td&gt;\\n      &lt;td&gt;CO&lt;/td&gt;\\n      &lt;td&gt;MO&lt;/td&gt;\\n      &lt;td&gt;7.0&lt;/td&gt;\\n      &lt;td&gt;7.0&lt;/td&gt;\\n      &lt;td&gt;9&lt;/td&gt;\\n      &lt;td&gt;22.8&lt;/td&gt;\\n      &lt;td&gt;23.0&lt;/td&gt;\\n    &lt;/tr&gt;\\n    &lt;tr&gt;\\n      &lt;th&gt;1778736&lt;/th&gt;\\n      &lt;td&gt;VX&lt;/td&gt;\\n      &lt;td&gt;2&lt;/td&gt;\\n      &lt;td&gt;1&lt;/td&gt;\\n      &lt;td&gt;-4.0&lt;/td&gt;\\n      &lt;td&gt;IAD&lt;/td&gt;\\n      &lt;td&gt;38.94453&lt;/td&gt;\\n      &lt;td&gt;-77.45581&lt;/td&gt;\\n      &lt;td&gt;2419&lt;/td&gt;\\n      &lt;td&gt;3&lt;/td&gt;\\n      &lt;td&gt;SFO&lt;/td&gt;\\n      &lt;td&gt;37.61900&lt;/td&gt;\\n      &lt;td&gt;-122.37484&lt;/td&gt;\\n      &lt;td&gt;1320&lt;/td&gt;\\n      &lt;td&gt;845&lt;/td&gt;\\n      &lt;td&gt;295.0&lt;/td&gt;\\n      &lt;td&gt;VA&lt;/td&gt;\\n      &lt;td&gt;CA&lt;/td&gt;\\n      &lt;td&gt;5.0&lt;/td&gt;\\n      &lt;td&gt;9.0&lt;/td&gt;\\n      &lt;td&gt;61&lt;/td&gt;\\n      &lt;td&gt;55.7&lt;/td&gt;\\n      &lt;td&gt;37.8&lt;/td&gt;\\n    &lt;/tr&gt;\\n    &lt;tr&gt;\\n      &lt;th&gt;2762835&lt;/th&gt;\\n      &lt;td&gt;WN&lt;/td&gt;\\n      &lt;td&gt;29&lt;/td&gt;\\n      &lt;td&gt;3&lt;/td&gt;\\n      &lt;td&gt;20.0&lt;/td&gt;\\n      &lt;td&gt;IND&lt;/td&gt;\\n      &lt;td&gt;39.71733&lt;/td&gt;\\n      &lt;td&gt;-86.29438&lt;/td&gt;\\n      &lt;td&gt;516&lt;/td&gt;\\n      &lt;td&gt;7&lt;/td&gt;\\n      &lt;td&gt;BWI&lt;/td&gt;\\n      &lt;td&gt;39.17540&lt;/td&gt;\\n      &lt;td&gt;-76.66820&lt;/td&gt;\\n      &lt;td&gt;1435&lt;/td&gt;\\n      &lt;td&gt;1335&lt;/td&gt;\\n      &lt;td&gt;100.0&lt;/td&gt;\\n      &lt;td&gt;IN&lt;/td&gt;\\n      &lt;td&gt;MD&lt;/td&gt;\\n      &lt;td&gt;4.0&lt;/td&gt;\\n      &lt;td&gt;10.0&lt;/td&gt;\\n      &lt;td&gt;210&lt;/td&gt;\\n      &lt;td&gt;78.5&lt;/td&gt;\\n      &lt;td&gt;82.4&lt;/td&gt;\\n    &lt;/tr&gt;\\n    &lt;tr&gt;\\n      &lt;th&gt;235211&lt;/th&gt;\\n      &lt;td&gt;AS&lt;/td&gt;\\n      &lt;td&gt;8&lt;/td&gt;\\n      &lt;td&gt;3&lt;/td&gt;\\n      &lt;td&gt;-12.0&lt;/td&gt;\\n      &lt;td&gt;SEA&lt;/td&gt;\\n      &lt;td&gt;47.44898&lt;/td&gt;\\n      &lt;td&gt;-122.30931&lt;/td&gt;\\n      &lt;td&gt;689&lt;/td&gt;\\n      &lt;td&gt;4&lt;/td&gt;\\n      &lt;td&gt;SLC&lt;/td&gt;\\n      &lt;td&gt;40.78839&lt;/td&gt;\\n      &lt;td&gt;-111.97777&lt;/td&gt;\\n      &lt;td&gt;690&lt;/td&gt;\\n      &lt;td&gt;625&lt;/td&gt;\\n      &lt;td&gt;125.0&lt;/td&gt;\\n      &lt;td&gt;WA&lt;/td&gt;\\n      &lt;td&gt;UT&lt;/td&gt;\\n      &lt;td&gt;8.0&lt;/td&gt;\\n      &lt;td&gt;13.0&lt;/td&gt;\\n      &lt;td&gt;98&lt;/td&gt;\\n      &lt;td&gt;49.0&lt;/td&gt;\\n      &lt;td&gt;51.4&lt;/td&gt;\\n    &lt;/tr&gt;\\n    &lt;tr&gt;\\n      &lt;th&gt;3583577&lt;/th&gt;\\n      &lt;td&gt;OO&lt;/td&gt;\\n      &lt;td&gt;12&lt;/td&gt;\\n      &lt;td&gt;1&lt;/td&gt;\\n      &lt;td&gt;21.0&lt;/td&gt;\\n      &lt;td&gt;LAX&lt;/td&gt;\\n      &lt;td&gt;33.94254&lt;/td&gt;\\n      &lt;td&gt;-118.40807&lt;/td&gt;\\n      &lt;td&gt;370&lt;/td&gt;\\n      &lt;td&gt;1&lt;/td&gt;\\n      &lt;td&gt;PHX&lt;/td&gt;\\n      &lt;td&gt;33.43417&lt;/td&gt;\\n      &lt;td&gt;-112.00806&lt;/td&gt;\\n      &lt;td&gt;1050&lt;/td&gt;\\n      &lt;td&gt;1020&lt;/td&gt;\\n      &lt;td&gt;90.0&lt;/td&gt;\\n      &lt;td&gt;CA&lt;/td&gt;\\n      &lt;td&gt;AZ&lt;/td&gt;\\n      &lt;td&gt;5.0&lt;/td&gt;\\n      &lt;td&gt;13.0&lt;/td&gt;\\n      &lt;td&gt;12&lt;/td&gt;\\n      &lt;td&gt;61.9&lt;/td&gt;\\n      &lt;td&gt;57.0&lt;/td&gt;\\n    &lt;/tr&gt;\\n    &lt;tr&gt;\\n      &lt;th&gt;3594704&lt;/th&gt;\\n      &lt;td&gt;US&lt;/td&gt;\\n      &lt;td&gt;3&lt;/td&gt;\\n      &lt;td&gt;2&lt;/td&gt;\\n      &lt;td&gt;51.0&lt;/td&gt;\\n      &lt;td&gt;LAX&lt;/td&gt;\\n      &lt;td&gt;33.94254&lt;/td&gt;\\n      &lt;td&gt;-118.40807&lt;/td&gt;\\n      &lt;td&gt;2125&lt;/td&gt;\\n      &lt;td&gt;3&lt;/td&gt;\\n      &lt;td&gt;CLT&lt;/td&gt;\\n      &lt;td&gt;35.21401&lt;/td&gt;\\n      &lt;td&gt;-80.94313&lt;/td&gt;\\n      &lt;td&gt;1149&lt;/td&gt;\\n      &lt;td&gt;1000&lt;/td&gt;\\n      &lt;td&gt;329.0&lt;/td&gt;\\n      &lt;td&gt;CA&lt;/td&gt;\\n      &lt;td&gt;NC&lt;/td&gt;\\n      &lt;td&gt;6.0&lt;/td&gt;\\n      &lt;td&gt;12.0&lt;/td&gt;\\n      &lt;td&gt;62&lt;/td&gt;\\n      &lt;td&gt;47.5&lt;/td&gt;\\n      &lt;td&gt;53.3&lt;/td&gt;\\n    &lt;/tr&gt;\\n    &lt;tr&gt;\\n      &lt;th&gt;1767439&lt;/th&gt;\\n      &lt;td&gt;DL&lt;/td&gt;\\n      &lt;td&gt;1&lt;/td&gt;\\n      &lt;td&gt;7&lt;/td&gt;\\n      &lt;td&gt;52.0&lt;/td&gt;\\n      &lt;td&gt;ATL&lt;/td&gt;\\n      &lt;td&gt;33.64044&lt;/td&gt;\\n      &lt;td&gt;-84.42694&lt;/td&gt;\\n      &lt;td&gt;591&lt;/td&gt;\\n      &lt;td&gt;3&lt;/td&gt;\\n      &lt;td&gt;MDW&lt;/td&gt;\\n      &lt;td&gt;41.78598&lt;/td&gt;\\n      &lt;td&gt;-87.75242&lt;/td&gt;\\n      &lt;td&gt;1028&lt;/td&gt;\\n      &lt;td&gt;846&lt;/td&gt;\\n      &lt;td&gt;122.0&lt;/td&gt;\\n      &lt;td&gt;GA&lt;/td&gt;\\n      &lt;td&gt;IL&lt;/td&gt;\\n      &lt;td&gt;6.0&lt;/td&gt;\\n      &lt;td&gt;11.0&lt;/td&gt;\\n      &lt;td&gt;60&lt;/td&gt;\\n      &lt;td&gt;18.3&lt;/td&gt;\\n      &lt;td&gt;41.8&lt;/td&gt;\\n    &lt;/tr&gt;\\n    &lt;tr&gt;\\n      &lt;th&gt;2063304&lt;/th&gt;\\n      &lt;td&gt;WN&lt;/td&gt;\\n      &lt;td&gt;8&lt;/td&gt;\\n      &lt;td&gt;3&lt;/td&gt;\\n      &lt;td&gt;-7.0&lt;/td&gt;\\n      &lt;td&gt;TPA&lt;/td&gt;\\n      &lt;td&gt;27.97547&lt;/td&gt;\\n      &lt;td&gt;-82.53325&lt;/td&gt;\\n      &lt;td&gt;1136&lt;/td&gt;\\n      &lt;td&gt;4&lt;/td&gt;\\n      &lt;td&gt;PVD&lt;/td&gt;\\n      &lt;td&gt;41.72400&lt;/td&gt;\\n      &lt;td&gt;-71.42822&lt;/td&gt;\\n      &lt;td&gt;630&lt;/td&gt;\\n      &lt;td&gt;445&lt;/td&gt;\\n      &lt;td&gt;185.0&lt;/td&gt;\\n      &lt;td&gt;FL&lt;/td&gt;\\n      &lt;td&gt;RI&lt;/td&gt;\\n      &lt;td&gt;7.0&lt;/td&gt;\\n      &lt;td&gt;11.0&lt;/td&gt;\\n      &lt;td&gt;98&lt;/td&gt;\\n      &lt;td&gt;39.7&lt;/td&gt;\\n      &lt;td&gt;77.4&lt;/td&gt;\\n    &lt;/tr&gt;\\n    &lt;tr&gt;\\n      &lt;th&gt;2717749&lt;/th&gt;\\n      &lt;td&gt;AA&lt;/td&gt;\\n      &lt;td&gt;21&lt;/td&gt;\\n      &lt;td&gt;2&lt;/td&gt;\\n      &lt;td&gt;3.0&lt;/td&gt;\\n      &lt;td&gt;BWI&lt;/td&gt;\\n      &lt;td&gt;39.17540&lt;/td&gt;\\n      &lt;td&gt;-76.66820&lt;/td&gt;\\n      &lt;td&gt;1217&lt;/td&gt;\\n      &lt;td&gt;7&lt;/td&gt;\\n      &lt;td&gt;DFW&lt;/td&gt;\\n      &lt;td&gt;32.89595&lt;/td&gt;\\n      &lt;td&gt;-97.03720&lt;/td&gt;\\n      &lt;td&gt;1170&lt;/td&gt;\\n      &lt;td&gt;920&lt;/td&gt;\\n      &lt;td&gt;190.0&lt;/td&gt;\\n      &lt;td&gt;MD&lt;/td&gt;\\n      &lt;td&gt;TX&lt;/td&gt;\\n      &lt;td&gt;5.0&lt;/td&gt;\\n      &lt;td&gt;17.0&lt;/td&gt;\\n      &lt;td&gt;202&lt;/td&gt;\\n      &lt;td&gt;88.5&lt;/td&gt;\\n      &lt;td&gt;83.1&lt;/td&gt;\\n    &lt;/tr&gt;\\n    &lt;tr&gt;\\n      &lt;th&gt;441223&lt;/th&gt;\\n      &lt;td&gt;AS&lt;/td&gt;\\n      &lt;td&gt;1&lt;/td&gt;\\n      &lt;td&gt;1&lt;/td&gt;\\n      &lt;td&gt;0.0&lt;/td&gt;\\n      &lt;td&gt;PDX&lt;/td&gt;\\n      &lt;td&gt;45.58872&lt;/td&gt;\\n      &lt;td&gt;-122.59750&lt;/td&gt;\\n      &lt;td&gt;2537&lt;/td&gt;\\n      &lt;td&gt;6&lt;/td&gt;\\n      &lt;td&gt;BOS&lt;/td&gt;\\n      &lt;td&gt;42.36435&lt;/td&gt;\\n      &lt;td&gt;-71.00518&lt;/td&gt;\\n      &lt;td&gt;1238&lt;/td&gt;\\n      &lt;td&gt;1035&lt;/td&gt;\\n      &lt;td&gt;383.0&lt;/td&gt;\\n      &lt;td&gt;OR&lt;/td&gt;\\n      &lt;td&gt;MA&lt;/td&gt;\\n      &lt;td&gt;7.0&lt;/td&gt;\\n      &lt;td&gt;22.0&lt;/td&gt;\\n      &lt;td&gt;152&lt;/td&gt;\\n      &lt;td&gt;48.2&lt;/td&gt;\\n      &lt;td&gt;50.1&lt;/td&gt;\\n    &lt;/tr&gt;\\n    &lt;tr&gt;\\n      &lt;th&gt;197198&lt;/th&gt;\\n      &lt;td&gt;WN&lt;/td&gt;\\n      &lt;td&gt;27&lt;/td&gt;\\n      &lt;td&gt;5&lt;/td&gt;\\n      &lt;td&gt;4.0&lt;/td&gt;\\n      &lt;td&gt;PHX&lt;/td&gt;\\n      &lt;td&gt;33.43417&lt;/td&gt;\\n      &lt;td&gt;-112.00806&lt;/td&gt;\\n      &lt;td&gt;1444&lt;/td&gt;\\n      &lt;td&gt;3&lt;/td&gt;\\n      &lt;td&gt;MDW&lt;/td&gt;\\n      &lt;td&gt;41.78598&lt;/td&gt;\\n      &lt;td&gt;-87.75242&lt;/td&gt;\\n      &lt;td&gt;1150&lt;/td&gt;\\n      &lt;td&gt;1035&lt;/td&gt;\\n      &lt;td&gt;235.0&lt;/td&gt;\\n      &lt;td&gt;AZ&lt;/td&gt;\\n      &lt;td&gt;IL&lt;/td&gt;\\n      &lt;td&gt;8.0&lt;/td&gt;\\n      &lt;td&gt;11.0&lt;/td&gt;\\n      &lt;td&gt;86&lt;/td&gt;\\n      &lt;td&gt;29.0&lt;/td&gt;\\n      &lt;td&gt;78.3&lt;/td&gt;\\n    &lt;/tr&gt;\\n  &lt;/tbody&gt;\\n&lt;/table&gt;\"},\"id\":\"19931\",\"type\":\"panel.models.markup.HTML\"},{\"attributes\":{\"children\":[{\"id\":\"19931\"}],\"margin\":[0,0,0,0],\"name\":\"Row64070\"},\"id\":\"19930\",\"type\":\"Row\"},{\"attributes\":{\"children\":[{\"id\":\"19925\"}],\"margin\":[0,0,0,0],\"name\":\"Row64108\"},\"id\":\"19924\",\"type\":\"Row\"},{\"attributes\":{\"client_comm_id\":\"f13436f0579f41adae20b7c1e5c861d0\",\"comm_id\":\"290d5dda23604324a4324b0e6532facb\",\"plot_id\":\"19924\"},\"id\":\"19932\",\"type\":\"panel.models.comm_manager.CommManager\"}],\"root_ids\":[\"19924\",\"19932\"]},\"title\":\"Bokeh Application\",\"version\":\"2.4.2\"}};\n",
       "    var render_items = [{\"docid\":\"ccfc5d59-25b7-4c68-b18a-6ea2a4560119\",\"root_ids\":[\"19924\"],\"roots\":{\"19924\":\"9ed87a78-5201-4e4a-85cf-216307d01fe5\"}}];\n",
       "    root.Bokeh.embed.embed_items_notebook(docs_json, render_items);\n",
       "    for (const render_item of render_items) {\n",
       "      for (const root_id of render_item.root_ids) {\n",
       "\tconst id_el = document.getElementById(root_id)\n",
       "\tif (id_el.children.length && (id_el.children[0].className === 'bk-root')) {\n",
       "\t  const root_el = id_el.children[0]\n",
       "\t  root_el.id = root_el.id + '-rendered'\n",
       "\t}\n",
       "      }\n",
       "    }\n",
       "  }\n",
       "  if (root.Bokeh !== undefined && root.Bokeh.Panel !== undefined && ( root['Tabulator'] !== undefined) && ( root['Tabulator'] !== undefined)) {\n",
       "    embed_document(root);\n",
       "  } else {\n",
       "    var attempts = 0;\n",
       "    var timer = setInterval(function(root) {\n",
       "      if (root.Bokeh !== undefined && root.Bokeh.Panel !== undefined && (root['Tabulator'] !== undefined) && (root['Tabulator'] !== undefined)) {\n",
       "        clearInterval(timer);\n",
       "        embed_document(root);\n",
       "      } else if (document.readyState == \"complete\") {\n",
       "        attempts++;\n",
       "        if (attempts > 200) {\n",
       "          clearInterval(timer);\n",
       "          console.log(\"Bokeh: ERROR: Unable to run BokehJS code because BokehJS library is missing\");\n",
       "        }\n",
       "      }\n",
       "    }, 25, root)\n",
       "  }\n",
       "})(window);</script>"
      ],
      "text/plain": [
       "<hvplot.interactive.Interactive at 0x7f93d6c6d460>"
      ]
     },
     "execution_count": 88,
     "metadata": {
      "application/vnd.holoviews_exec.v0+json": {
       "id": "19924"
      }
     },
     "output_type": "execute_result"
    }
   ],
   "source": [
    "idf[(idf.day_of_year <= doy_slider)]"
   ]
  },
  {
   "cell_type": "code",
   "execution_count": 89,
   "id": "ab8b1067",
   "metadata": {},
   "outputs": [],
   "source": [
    "#continents = ['World', 'Asia', 'Oceania', 'Europe', 'Africa', 'North America', 'South America', 'Antarctica']\n",
    "\n",
    "dd_pipeline = (\n",
    "    idf[\n",
    "        (idf.day_of_year <= doy_slider)\n",
    "    ]\n",
    "    .groupby(['origin_airport', 'day_of_year'])[yaxis_dd].mean()\n",
    "    .to_frame()\n",
    "    .reset_index()\n",
    "    .sort_values(by='departure_delay', ascending = False)  \n",
    "    .reset_index(drop=True)\n",
    ")"
   ]
  },
  {
   "cell_type": "code",
   "execution_count": 90,
   "id": "8eed8c8d",
   "metadata": {},
   "outputs": [
    {
     "data": {},
     "metadata": {},
     "output_type": "display_data"
    },
    {
     "data": {
      "application/vnd.holoviews_exec.v0+json": "",
      "text/html": [
       "<div id='19933'>\n",
       "\n",
       "\n",
       "\n",
       "\n",
       "\n",
       "  <div class=\"bk-root\" id=\"e2a01c68-f6f9-485c-86dc-e7aa71a51846\" data-root-id=\"19933\"></div>\n",
       "</div>\n",
       "<script type=\"application/javascript\">(function(root) {\n",
       "  function embed_document(root) {\n",
       "    var docs_json = {\"afca737c-8a46-4320-bfbc-e4cbec2e74d3\":{\"defs\":[{\"extends\":null,\"module\":null,\"name\":\"ReactiveHTML1\",\"overrides\":[],\"properties\":[]},{\"extends\":null,\"module\":null,\"name\":\"FlexBox1\",\"overrides\":[],\"properties\":[{\"default\":\"flex-start\",\"kind\":null,\"name\":\"align_content\"},{\"default\":\"flex-start\",\"kind\":null,\"name\":\"align_items\"},{\"default\":\"row\",\"kind\":null,\"name\":\"flex_direction\"},{\"default\":\"wrap\",\"kind\":null,\"name\":\"flex_wrap\"},{\"default\":\"flex-start\",\"kind\":null,\"name\":\"justify_content\"}]},{\"extends\":null,\"module\":null,\"name\":\"GridStack1\",\"overrides\":[],\"properties\":[{\"default\":\"warn\",\"kind\":null,\"name\":\"mode\"},{\"default\":null,\"kind\":null,\"name\":\"ncols\"},{\"default\":null,\"kind\":null,\"name\":\"nrows\"},{\"default\":true,\"kind\":null,\"name\":\"allow_resize\"},{\"default\":true,\"kind\":null,\"name\":\"allow_drag\"},{\"default\":[],\"kind\":null,\"name\":\"state\"}]},{\"extends\":null,\"module\":null,\"name\":\"click1\",\"overrides\":[],\"properties\":[{\"default\":\"\",\"kind\":null,\"name\":\"terminal_output\"},{\"default\":\"\",\"kind\":null,\"name\":\"debug_name\"},{\"default\":0,\"kind\":null,\"name\":\"clears\"}]},{\"extends\":null,\"module\":null,\"name\":\"NotificationAreaBase1\",\"overrides\":[],\"properties\":[{\"default\":\"bottom-right\",\"kind\":null,\"name\":\"position\"},{\"default\":0,\"kind\":null,\"name\":\"_clear\"}]},{\"extends\":null,\"module\":null,\"name\":\"NotificationArea1\",\"overrides\":[],\"properties\":[{\"default\":[],\"kind\":null,\"name\":\"notifications\"},{\"default\":\"bottom-right\",\"kind\":null,\"name\":\"position\"},{\"default\":0,\"kind\":null,\"name\":\"_clear\"},{\"default\":[{\"background\":\"#ffc107\",\"icon\":{\"className\":\"fas fa-exclamation-triangle\",\"color\":\"white\",\"tagName\":\"i\"},\"type\":\"warning\"},{\"background\":\"#007bff\",\"icon\":{\"className\":\"fas fa-info-circle\",\"color\":\"white\",\"tagName\":\"i\"},\"type\":\"info\"}],\"kind\":null,\"name\":\"types\"}]},{\"extends\":null,\"module\":null,\"name\":\"Notification\",\"overrides\":[],\"properties\":[{\"default\":null,\"kind\":null,\"name\":\"background\"},{\"default\":3000,\"kind\":null,\"name\":\"duration\"},{\"default\":null,\"kind\":null,\"name\":\"icon\"},{\"default\":\"\",\"kind\":null,\"name\":\"message\"},{\"default\":null,\"kind\":null,\"name\":\"notification_type\"},{\"default\":false,\"kind\":null,\"name\":\"_destroyed\"}]},{\"extends\":null,\"module\":null,\"name\":\"TemplateActions1\",\"overrides\":[],\"properties\":[{\"default\":0,\"kind\":null,\"name\":\"open_modal\"},{\"default\":0,\"kind\":null,\"name\":\"close_modal\"}]},{\"extends\":null,\"module\":null,\"name\":\"MaterialTemplateActions1\",\"overrides\":[],\"properties\":[{\"default\":0,\"kind\":null,\"name\":\"open_modal\"},{\"default\":0,\"kind\":null,\"name\":\"close_modal\"}]}],\"roots\":{\"references\":[{\"attributes\":{\"children\":[{\"id\":\"19935\"},{\"id\":\"19940\"}],\"margin\":[0,0,0,0],\"name\":\"Column64857\"},\"id\":\"19934\",\"type\":\"Column\"},{\"attributes\":{\"margin\":[5,5,5,5],\"name\":\"HSpacer64855\",\"sizing_mode\":\"stretch_width\"},\"id\":\"19939\",\"type\":\"Spacer\"},{\"attributes\":{\"active\":0,\"button_type\":\"success\",\"labels\":[\"departure_delay\",\"scheduled_departure\"],\"margin\":[5,10,5,10]},\"id\":\"19938\",\"type\":\"RadioButtonGroup\"},{\"attributes\":{\"margin\":[5,5,5,5],\"name\":\"DataFrame64853\",\"text\":\"&lt;table border=&quot;0&quot; class=&quot;dataframe panel-df&quot;&gt;\\n  &lt;thead&gt;\\n    &lt;tr style=&quot;text-align: right;&quot;&gt;\\n      &lt;th&gt;&lt;/th&gt;\\n      &lt;th&gt;origin_airport&lt;/th&gt;\\n      &lt;th&gt;day_of_year&lt;/th&gt;\\n      &lt;th&gt;departure_delay&lt;/th&gt;\\n    &lt;/tr&gt;\\n  &lt;/thead&gt;\\n  &lt;tbody&gt;\\n    &lt;tr&gt;\\n      &lt;th&gt;0&lt;/th&gt;\\n      &lt;td&gt;PIT&lt;/td&gt;\\n      &lt;td&gt;26&lt;/td&gt;\\n      &lt;td&gt;318.0&lt;/td&gt;\\n    &lt;/tr&gt;\\n    &lt;tr&gt;\\n      &lt;th&gt;1&lt;/th&gt;\\n      &lt;td&gt;CLT&lt;/td&gt;\\n      &lt;td&gt;131&lt;/td&gt;\\n      &lt;td&gt;233.0&lt;/td&gt;\\n    &lt;/tr&gt;\\n    &lt;tr&gt;\\n      &lt;th&gt;2&lt;/th&gt;\\n      &lt;td&gt;IAH&lt;/td&gt;\\n      &lt;td&gt;189&lt;/td&gt;\\n      &lt;td&gt;207.0&lt;/td&gt;\\n    &lt;/tr&gt;\\n    &lt;tr&gt;\\n      &lt;th&gt;3&lt;/th&gt;\\n      &lt;td&gt;ALB&lt;/td&gt;\\n      &lt;td&gt;54&lt;/td&gt;\\n      &lt;td&gt;185.0&lt;/td&gt;\\n    &lt;/tr&gt;\\n    &lt;tr&gt;\\n      &lt;th&gt;4&lt;/th&gt;\\n      &lt;td&gt;DTW&lt;/td&gt;\\n      &lt;td&gt;87&lt;/td&gt;\\n      &lt;td&gt;167.0&lt;/td&gt;\\n    &lt;/tr&gt;\\n    &lt;tr&gt;\\n      &lt;th&gt;5&lt;/th&gt;\\n      &lt;td&gt;LAS&lt;/td&gt;\\n      &lt;td&gt;145&lt;/td&gt;\\n      &lt;td&gt;159.0&lt;/td&gt;\\n    &lt;/tr&gt;\\n    &lt;tr&gt;\\n      &lt;th&gt;6&lt;/th&gt;\\n      &lt;td&gt;LGA&lt;/td&gt;\\n      &lt;td&gt;146&lt;/td&gt;\\n      &lt;td&gt;157.0&lt;/td&gt;\\n    &lt;/tr&gt;\\n    &lt;tr&gt;\\n      &lt;th&gt;7&lt;/th&gt;\\n      &lt;td&gt;LGA&lt;/td&gt;\\n      &lt;td&gt;217&lt;/td&gt;\\n      &lt;td&gt;132.0&lt;/td&gt;\\n    &lt;/tr&gt;\\n    &lt;tr&gt;\\n      &lt;th&gt;8&lt;/th&gt;\\n      &lt;td&gt;SFO&lt;/td&gt;\\n      &lt;td&gt;36&lt;/td&gt;\\n      &lt;td&gt;123.0&lt;/td&gt;\\n    &lt;/tr&gt;\\n    &lt;tr&gt;\\n      &lt;th&gt;9&lt;/th&gt;\\n      &lt;td&gt;DFW&lt;/td&gt;\\n      &lt;td&gt;192&lt;/td&gt;\\n      &lt;td&gt;122.0&lt;/td&gt;\\n    &lt;/tr&gt;\\n    &lt;tr&gt;\\n      &lt;th&gt;10&lt;/th&gt;\\n      &lt;td&gt;CAE&lt;/td&gt;\\n      &lt;td&gt;68&lt;/td&gt;\\n      &lt;td&gt;122.0&lt;/td&gt;\\n    &lt;/tr&gt;\\n    &lt;tr&gt;\\n      &lt;th&gt;11&lt;/th&gt;\\n      &lt;td&gt;SEA&lt;/td&gt;\\n      &lt;td&gt;32&lt;/td&gt;\\n      &lt;td&gt;119.0&lt;/td&gt;\\n    &lt;/tr&gt;\\n    &lt;tr&gt;\\n      &lt;th&gt;12&lt;/th&gt;\\n      &lt;td&gt;ORD&lt;/td&gt;\\n      &lt;td&gt;62&lt;/td&gt;\\n      &lt;td&gt;117.0&lt;/td&gt;\\n    &lt;/tr&gt;\\n    &lt;tr&gt;\\n      &lt;th&gt;13&lt;/th&gt;\\n      &lt;td&gt;MSY&lt;/td&gt;\\n      &lt;td&gt;146&lt;/td&gt;\\n      &lt;td&gt;112.0&lt;/td&gt;\\n    &lt;/tr&gt;\\n    &lt;tr&gt;\\n      &lt;th&gt;14&lt;/th&gt;\\n      &lt;td&gt;FAT&lt;/td&gt;\\n      &lt;td&gt;72&lt;/td&gt;\\n      &lt;td&gt;111.0&lt;/td&gt;\\n    &lt;/tr&gt;\\n    &lt;tr&gt;\\n      &lt;th&gt;15&lt;/th&gt;\\n      &lt;td&gt;SFO&lt;/td&gt;\\n      &lt;td&gt;4&lt;/td&gt;\\n      &lt;td&gt;110.0&lt;/td&gt;\\n    &lt;/tr&gt;\\n    &lt;tr&gt;\\n      &lt;th&gt;16&lt;/th&gt;\\n      &lt;td&gt;MSY&lt;/td&gt;\\n      &lt;td&gt;211&lt;/td&gt;\\n      &lt;td&gt;107.0&lt;/td&gt;\\n    &lt;/tr&gt;\\n    &lt;tr&gt;\\n      &lt;th&gt;17&lt;/th&gt;\\n      &lt;td&gt;LAS&lt;/td&gt;\\n      &lt;td&gt;219&lt;/td&gt;\\n      &lt;td&gt;105.5&lt;/td&gt;\\n    &lt;/tr&gt;\\n    &lt;tr&gt;\\n      &lt;th&gt;18&lt;/th&gt;\\n      &lt;td&gt;SFO&lt;/td&gt;\\n      &lt;td&gt;152&lt;/td&gt;\\n      &lt;td&gt;101.0&lt;/td&gt;\\n    &lt;/tr&gt;\\n    &lt;tr&gt;\\n      &lt;th&gt;19&lt;/th&gt;\\n      &lt;td&gt;MCO&lt;/td&gt;\\n      &lt;td&gt;82&lt;/td&gt;\\n      &lt;td&gt;100.0&lt;/td&gt;\\n    &lt;/tr&gt;\\n    &lt;tr&gt;\\n      &lt;th&gt;20&lt;/th&gt;\\n      &lt;td&gt;JFK&lt;/td&gt;\\n      &lt;td&gt;40&lt;/td&gt;\\n      &lt;td&gt;98.0&lt;/td&gt;\\n    &lt;/tr&gt;\\n    &lt;tr&gt;\\n      &lt;th&gt;21&lt;/th&gt;\\n      &lt;td&gt;DEN&lt;/td&gt;\\n      &lt;td&gt;99&lt;/td&gt;\\n      &lt;td&gt;98.0&lt;/td&gt;\\n    &lt;/tr&gt;\\n    &lt;tr&gt;\\n      &lt;th&gt;22&lt;/th&gt;\\n      &lt;td&gt;EWR&lt;/td&gt;\\n      &lt;td&gt;124&lt;/td&gt;\\n      &lt;td&gt;97.0&lt;/td&gt;\\n    &lt;/tr&gt;\\n    &lt;tr&gt;\\n      &lt;th&gt;23&lt;/th&gt;\\n      &lt;td&gt;MCI&lt;/td&gt;\\n      &lt;td&gt;164&lt;/td&gt;\\n      &lt;td&gt;96.0&lt;/td&gt;\\n    &lt;/tr&gt;\\n    &lt;tr&gt;\\n      &lt;th&gt;24&lt;/th&gt;\\n      &lt;td&gt;DFW&lt;/td&gt;\\n      &lt;td&gt;168&lt;/td&gt;\\n      &lt;td&gt;93.0&lt;/td&gt;\\n    &lt;/tr&gt;\\n    &lt;tr&gt;\\n      &lt;th&gt;25&lt;/th&gt;\\n      &lt;td&gt;JFK&lt;/td&gt;\\n      &lt;td&gt;232&lt;/td&gt;\\n      &lt;td&gt;92.0&lt;/td&gt;\\n    &lt;/tr&gt;\\n    &lt;tr&gt;\\n      &lt;th&gt;26&lt;/th&gt;\\n      &lt;td&gt;DTW&lt;/td&gt;\\n      &lt;td&gt;167&lt;/td&gt;\\n      &lt;td&gt;88.0&lt;/td&gt;\\n    &lt;/tr&gt;\\n    &lt;tr&gt;\\n      &lt;th&gt;27&lt;/th&gt;\\n      &lt;td&gt;ORD&lt;/td&gt;\\n      &lt;td&gt;128&lt;/td&gt;\\n      &lt;td&gt;84.0&lt;/td&gt;\\n    &lt;/tr&gt;\\n    &lt;tr&gt;\\n      &lt;th&gt;28&lt;/th&gt;\\n      &lt;td&gt;JFK&lt;/td&gt;\\n      &lt;td&gt;181&lt;/td&gt;\\n      &lt;td&gt;78.0&lt;/td&gt;\\n    &lt;/tr&gt;\\n    &lt;tr&gt;\\n      &lt;th&gt;29&lt;/th&gt;\\n      &lt;td&gt;STL&lt;/td&gt;\\n      &lt;td&gt;125&lt;/td&gt;\\n      &lt;td&gt;75.0&lt;/td&gt;\\n    &lt;/tr&gt;\\n    &lt;tr&gt;\\n      &lt;th&gt;30&lt;/th&gt;\\n      &lt;td&gt;DEN&lt;/td&gt;\\n      &lt;td&gt;59&lt;/td&gt;\\n      &lt;td&gt;71.0&lt;/td&gt;\\n    &lt;/tr&gt;\\n    &lt;tr&gt;\\n      &lt;th&gt;31&lt;/th&gt;\\n      &lt;td&gt;ORD&lt;/td&gt;\\n      &lt;td&gt;117&lt;/td&gt;\\n      &lt;td&gt;70.0&lt;/td&gt;\\n    &lt;/tr&gt;\\n    &lt;tr&gt;\\n      &lt;th&gt;32&lt;/th&gt;\\n      &lt;td&gt;DFW&lt;/td&gt;\\n      &lt;td&gt;31&lt;/td&gt;\\n      &lt;td&gt;68.0&lt;/td&gt;\\n    &lt;/tr&gt;\\n    &lt;tr&gt;\\n      &lt;th&gt;33&lt;/th&gt;\\n      &lt;td&gt;MSY&lt;/td&gt;\\n      &lt;td&gt;137&lt;/td&gt;\\n      &lt;td&gt;67.0&lt;/td&gt;\\n    &lt;/tr&gt;\\n    &lt;tr&gt;\\n      &lt;th&gt;34&lt;/th&gt;\\n      &lt;td&gt;SFO&lt;/td&gt;\\n      &lt;td&gt;168&lt;/td&gt;\\n      &lt;td&gt;66.0&lt;/td&gt;\\n    &lt;/tr&gt;\\n    &lt;tr&gt;\\n      &lt;th&gt;35&lt;/th&gt;\\n      &lt;td&gt;ATL&lt;/td&gt;\\n      &lt;td&gt;231&lt;/td&gt;\\n      &lt;td&gt;64.0&lt;/td&gt;\\n    &lt;/tr&gt;\\n    &lt;tr&gt;\\n      &lt;th&gt;36&lt;/th&gt;\\n      &lt;td&gt;DEN&lt;/td&gt;\\n      &lt;td&gt;200&lt;/td&gt;\\n      &lt;td&gt;61.0&lt;/td&gt;\\n    &lt;/tr&gt;\\n    &lt;tr&gt;\\n      &lt;th&gt;37&lt;/th&gt;\\n      &lt;td&gt;PHL&lt;/td&gt;\\n      &lt;td&gt;85&lt;/td&gt;\\n      &lt;td&gt;61.0&lt;/td&gt;\\n    &lt;/tr&gt;\\n    &lt;tr&gt;\\n      &lt;th&gt;38&lt;/th&gt;\\n      &lt;td&gt;MCO&lt;/td&gt;\\n      &lt;td&gt;206&lt;/td&gt;\\n      &lt;td&gt;59.0&lt;/td&gt;\\n    &lt;/tr&gt;\\n    &lt;tr&gt;\\n      &lt;th&gt;39&lt;/th&gt;\\n      &lt;td&gt;HOU&lt;/td&gt;\\n      &lt;td&gt;232&lt;/td&gt;\\n      &lt;td&gt;58.0&lt;/td&gt;\\n    &lt;/tr&gt;\\n    &lt;tr&gt;\\n      &lt;th&gt;40&lt;/th&gt;\\n      &lt;td&gt;SAN&lt;/td&gt;\\n      &lt;td&gt;102&lt;/td&gt;\\n      &lt;td&gt;57.0&lt;/td&gt;\\n    &lt;/tr&gt;\\n    &lt;tr&gt;\\n      &lt;th&gt;41&lt;/th&gt;\\n      &lt;td&gt;AUS&lt;/td&gt;\\n      &lt;td&gt;212&lt;/td&gt;\\n      &lt;td&gt;55.0&lt;/td&gt;\\n    &lt;/tr&gt;\\n    &lt;tr&gt;\\n      &lt;th&gt;42&lt;/th&gt;\\n      &lt;td&gt;ATL&lt;/td&gt;\\n      &lt;td&gt;40&lt;/td&gt;\\n      &lt;td&gt;55.0&lt;/td&gt;\\n    &lt;/tr&gt;\\n    &lt;tr&gt;\\n      &lt;th&gt;43&lt;/th&gt;\\n      &lt;td&gt;MCO&lt;/td&gt;\\n      &lt;td&gt;71&lt;/td&gt;\\n      &lt;td&gt;54.0&lt;/td&gt;\\n    &lt;/tr&gt;\\n    &lt;tr&gt;\\n      &lt;th&gt;44&lt;/th&gt;\\n      &lt;td&gt;DTW&lt;/td&gt;\\n      &lt;td&gt;55&lt;/td&gt;\\n      &lt;td&gt;53.0&lt;/td&gt;\\n    &lt;/tr&gt;\\n    &lt;tr&gt;\\n      &lt;th&gt;45&lt;/th&gt;\\n      &lt;td&gt;MDW&lt;/td&gt;\\n      &lt;td&gt;60&lt;/td&gt;\\n      &lt;td&gt;52.0&lt;/td&gt;\\n    &lt;/tr&gt;\\n    &lt;tr&gt;\\n      &lt;th&gt;46&lt;/th&gt;\\n      &lt;td&gt;LAX&lt;/td&gt;\\n      &lt;td&gt;60&lt;/td&gt;\\n      &lt;td&gt;51.5&lt;/td&gt;\\n    &lt;/tr&gt;\\n    &lt;tr&gt;\\n      &lt;th&gt;47&lt;/th&gt;\\n      &lt;td&gt;LAX&lt;/td&gt;\\n      &lt;td&gt;199&lt;/td&gt;\\n      &lt;td&gt;51.0&lt;/td&gt;\\n    &lt;/tr&gt;\\n    &lt;tr&gt;\\n      &lt;th&gt;48&lt;/th&gt;\\n      &lt;td&gt;PDX&lt;/td&gt;\\n      &lt;td&gt;54&lt;/td&gt;\\n      &lt;td&gt;50.0&lt;/td&gt;\\n    &lt;/tr&gt;\\n    &lt;tr&gt;\\n      &lt;th&gt;49&lt;/th&gt;\\n      &lt;td&gt;PBI&lt;/td&gt;\\n      &lt;td&gt;3&lt;/td&gt;\\n      &lt;td&gt;47.0&lt;/td&gt;\\n    &lt;/tr&gt;\\n    &lt;tr&gt;\\n      &lt;th&gt;...&lt;/th&gt;\\n      &lt;td&gt;...&lt;/td&gt;\\n      &lt;td&gt;...&lt;/td&gt;\\n      &lt;td&gt;...&lt;/td&gt;\\n    &lt;/tr&gt;\\n    &lt;tr&gt;\\n      &lt;th&gt;605&lt;/th&gt;\\n      &lt;td&gt;TPA&lt;/td&gt;\\n      &lt;td&gt;19&lt;/td&gt;\\n      &lt;td&gt;-8.0&lt;/td&gt;\\n    &lt;/tr&gt;\\n    &lt;tr&gt;\\n      &lt;th&gt;606&lt;/th&gt;\\n      &lt;td&gt;BNA&lt;/td&gt;\\n      &lt;td&gt;122&lt;/td&gt;\\n      &lt;td&gt;-8.0&lt;/td&gt;\\n    &lt;/tr&gt;\\n    &lt;tr&gt;\\n      &lt;th&gt;607&lt;/th&gt;\\n      &lt;td&gt;OMA&lt;/td&gt;\\n      &lt;td&gt;20&lt;/td&gt;\\n      &lt;td&gt;-8.0&lt;/td&gt;\\n    &lt;/tr&gt;\\n    &lt;tr&gt;\\n      &lt;th&gt;608&lt;/th&gt;\\n      &lt;td&gt;JAX&lt;/td&gt;\\n      &lt;td&gt;69&lt;/td&gt;\\n      &lt;td&gt;-8.0&lt;/td&gt;\\n    &lt;/tr&gt;\\n    &lt;tr&gt;\\n      &lt;th&gt;609&lt;/th&gt;\\n      &lt;td&gt;ATL&lt;/td&gt;\\n      &lt;td&gt;25&lt;/td&gt;\\n      &lt;td&gt;-8.0&lt;/td&gt;\\n    &lt;/tr&gt;\\n    &lt;tr&gt;\\n      &lt;th&gt;610&lt;/th&gt;\\n      &lt;td&gt;ORD&lt;/td&gt;\\n      &lt;td&gt;149&lt;/td&gt;\\n      &lt;td&gt;-8.0&lt;/td&gt;\\n    &lt;/tr&gt;\\n    &lt;tr&gt;\\n      &lt;th&gt;611&lt;/th&gt;\\n      &lt;td&gt;PHX&lt;/td&gt;\\n      &lt;td&gt;162&lt;/td&gt;\\n      &lt;td&gt;-8.0&lt;/td&gt;\\n    &lt;/tr&gt;\\n    &lt;tr&gt;\\n      &lt;th&gt;612&lt;/th&gt;\\n      &lt;td&gt;LAX&lt;/td&gt;\\n      &lt;td&gt;79&lt;/td&gt;\\n      &lt;td&gt;-8.0&lt;/td&gt;\\n    &lt;/tr&gt;\\n    &lt;tr&gt;\\n      &lt;th&gt;613&lt;/th&gt;\\n      &lt;td&gt;PDX&lt;/td&gt;\\n      &lt;td&gt;67&lt;/td&gt;\\n      &lt;td&gt;-8.0&lt;/td&gt;\\n    &lt;/tr&gt;\\n    &lt;tr&gt;\\n      &lt;th&gt;614&lt;/th&gt;\\n      &lt;td&gt;SAN&lt;/td&gt;\\n      &lt;td&gt;162&lt;/td&gt;\\n      &lt;td&gt;-9.0&lt;/td&gt;\\n    &lt;/tr&gt;\\n    &lt;tr&gt;\\n      &lt;th&gt;615&lt;/th&gt;\\n      &lt;td&gt;STL&lt;/td&gt;\\n      &lt;td&gt;155&lt;/td&gt;\\n      &lt;td&gt;-9.0&lt;/td&gt;\\n    &lt;/tr&gt;\\n    &lt;tr&gt;\\n      &lt;th&gt;616&lt;/th&gt;\\n      &lt;td&gt;BOS&lt;/td&gt;\\n      &lt;td&gt;161&lt;/td&gt;\\n      &lt;td&gt;-9.0&lt;/td&gt;\\n    &lt;/tr&gt;\\n    &lt;tr&gt;\\n      &lt;th&gt;617&lt;/th&gt;\\n      &lt;td&gt;PHX&lt;/td&gt;\\n      &lt;td&gt;231&lt;/td&gt;\\n      &lt;td&gt;-9.0&lt;/td&gt;\\n    &lt;/tr&gt;\\n    &lt;tr&gt;\\n      &lt;th&gt;618&lt;/th&gt;\\n      &lt;td&gt;CMH&lt;/td&gt;\\n      &lt;td&gt;186&lt;/td&gt;\\n      &lt;td&gt;-9.0&lt;/td&gt;\\n    &lt;/tr&gt;\\n    &lt;tr&gt;\\n      &lt;th&gt;619&lt;/th&gt;\\n      &lt;td&gt;LAX&lt;/td&gt;\\n      &lt;td&gt;143&lt;/td&gt;\\n      &lt;td&gt;-9.0&lt;/td&gt;\\n    &lt;/tr&gt;\\n    &lt;tr&gt;\\n      &lt;th&gt;620&lt;/th&gt;\\n      &lt;td&gt;SBN&lt;/td&gt;\\n      &lt;td&gt;49&lt;/td&gt;\\n      &lt;td&gt;-9.0&lt;/td&gt;\\n    &lt;/tr&gt;\\n    &lt;tr&gt;\\n      &lt;th&gt;621&lt;/th&gt;\\n      &lt;td&gt;EWR&lt;/td&gt;\\n      &lt;td&gt;180&lt;/td&gt;\\n      &lt;td&gt;-9.0&lt;/td&gt;\\n    &lt;/tr&gt;\\n    &lt;tr&gt;\\n      &lt;th&gt;622&lt;/th&gt;\\n      &lt;td&gt;EWR&lt;/td&gt;\\n      &lt;td&gt;89&lt;/td&gt;\\n      &lt;td&gt;-9.0&lt;/td&gt;\\n    &lt;/tr&gt;\\n    &lt;tr&gt;\\n      &lt;th&gt;623&lt;/th&gt;\\n      &lt;td&gt;DEN&lt;/td&gt;\\n      &lt;td&gt;119&lt;/td&gt;\\n      &lt;td&gt;-9.0&lt;/td&gt;\\n    &lt;/tr&gt;\\n    &lt;tr&gt;\\n      &lt;th&gt;624&lt;/th&gt;\\n      &lt;td&gt;LEX&lt;/td&gt;\\n      &lt;td&gt;55&lt;/td&gt;\\n      &lt;td&gt;-9.0&lt;/td&gt;\\n    &lt;/tr&gt;\\n    &lt;tr&gt;\\n      &lt;th&gt;625&lt;/th&gt;\\n      &lt;td&gt;LGA&lt;/td&gt;\\n      &lt;td&gt;209&lt;/td&gt;\\n      &lt;td&gt;-9.0&lt;/td&gt;\\n    &lt;/tr&gt;\\n    &lt;tr&gt;\\n      &lt;th&gt;626&lt;/th&gt;\\n      &lt;td&gt;PDX&lt;/td&gt;\\n      &lt;td&gt;23&lt;/td&gt;\\n      &lt;td&gt;-9.0&lt;/td&gt;\\n    &lt;/tr&gt;\\n    &lt;tr&gt;\\n      &lt;th&gt;627&lt;/th&gt;\\n      &lt;td&gt;MGM&lt;/td&gt;\\n      &lt;td&gt;225&lt;/td&gt;\\n      &lt;td&gt;-9.0&lt;/td&gt;\\n    &lt;/tr&gt;\\n    &lt;tr&gt;\\n      &lt;th&gt;628&lt;/th&gt;\\n      &lt;td&gt;DFW&lt;/td&gt;\\n      &lt;td&gt;153&lt;/td&gt;\\n      &lt;td&gt;-10.0&lt;/td&gt;\\n    &lt;/tr&gt;\\n    &lt;tr&gt;\\n      &lt;th&gt;629&lt;/th&gt;\\n      &lt;td&gt;LAX&lt;/td&gt;\\n      &lt;td&gt;31&lt;/td&gt;\\n      &lt;td&gt;-10.0&lt;/td&gt;\\n    &lt;/tr&gt;\\n    &lt;tr&gt;\\n      &lt;th&gt;630&lt;/th&gt;\\n      &lt;td&gt;SPI&lt;/td&gt;\\n      &lt;td&gt;230&lt;/td&gt;\\n      &lt;td&gt;-10.0&lt;/td&gt;\\n    &lt;/tr&gt;\\n    &lt;tr&gt;\\n      &lt;th&gt;631&lt;/th&gt;\\n      &lt;td&gt;MSP&lt;/td&gt;\\n      &lt;td&gt;106&lt;/td&gt;\\n      &lt;td&gt;-10.0&lt;/td&gt;\\n    &lt;/tr&gt;\\n    &lt;tr&gt;\\n      &lt;th&gt;632&lt;/th&gt;\\n      &lt;td&gt;MCO&lt;/td&gt;\\n      &lt;td&gt;134&lt;/td&gt;\\n      &lt;td&gt;-10.0&lt;/td&gt;\\n    &lt;/tr&gt;\\n    &lt;tr&gt;\\n      &lt;th&gt;633&lt;/th&gt;\\n      &lt;td&gt;MCO&lt;/td&gt;\\n      &lt;td&gt;179&lt;/td&gt;\\n      &lt;td&gt;-10.0&lt;/td&gt;\\n    &lt;/tr&gt;\\n    &lt;tr&gt;\\n      &lt;th&gt;634&lt;/th&gt;\\n      &lt;td&gt;MSN&lt;/td&gt;\\n      &lt;td&gt;174&lt;/td&gt;\\n      &lt;td&gt;-10.0&lt;/td&gt;\\n    &lt;/tr&gt;\\n    &lt;tr&gt;\\n      &lt;th&gt;635&lt;/th&gt;\\n      &lt;td&gt;TPA&lt;/td&gt;\\n      &lt;td&gt;148&lt;/td&gt;\\n      &lt;td&gt;-10.0&lt;/td&gt;\\n    &lt;/tr&gt;\\n    &lt;tr&gt;\\n      &lt;th&gt;636&lt;/th&gt;\\n      &lt;td&gt;DEN&lt;/td&gt;\\n      &lt;td&gt;207&lt;/td&gt;\\n      &lt;td&gt;-11.0&lt;/td&gt;\\n    &lt;/tr&gt;\\n    &lt;tr&gt;\\n      &lt;th&gt;637&lt;/th&gt;\\n      &lt;td&gt;MSY&lt;/td&gt;\\n      &lt;td&gt;100&lt;/td&gt;\\n      &lt;td&gt;-11.0&lt;/td&gt;\\n    &lt;/tr&gt;\\n    &lt;tr&gt;\\n      &lt;th&gt;638&lt;/th&gt;\\n      &lt;td&gt;MSP&lt;/td&gt;\\n      &lt;td&gt;14&lt;/td&gt;\\n      &lt;td&gt;-11.0&lt;/td&gt;\\n    &lt;/tr&gt;\\n    &lt;tr&gt;\\n      &lt;th&gt;639&lt;/th&gt;\\n      &lt;td&gt;JFK&lt;/td&gt;\\n      &lt;td&gt;123&lt;/td&gt;\\n      &lt;td&gt;-11.0&lt;/td&gt;\\n    &lt;/tr&gt;\\n    &lt;tr&gt;\\n      &lt;th&gt;640&lt;/th&gt;\\n      &lt;td&gt;GRB&lt;/td&gt;\\n      &lt;td&gt;135&lt;/td&gt;\\n      &lt;td&gt;-11.0&lt;/td&gt;\\n    &lt;/tr&gt;\\n    &lt;tr&gt;\\n      &lt;th&gt;641&lt;/th&gt;\\n      &lt;td&gt;GJT&lt;/td&gt;\\n      &lt;td&gt;204&lt;/td&gt;\\n      &lt;td&gt;-12.0&lt;/td&gt;\\n    &lt;/tr&gt;\\n    &lt;tr&gt;\\n      &lt;th&gt;642&lt;/th&gt;\\n      &lt;td&gt;GTF&lt;/td&gt;\\n      &lt;td&gt;48&lt;/td&gt;\\n      &lt;td&gt;-12.0&lt;/td&gt;\\n    &lt;/tr&gt;\\n    &lt;tr&gt;\\n      &lt;th&gt;643&lt;/th&gt;\\n      &lt;td&gt;MKE&lt;/td&gt;\\n      &lt;td&gt;96&lt;/td&gt;\\n      &lt;td&gt;-12.0&lt;/td&gt;\\n    &lt;/tr&gt;\\n    &lt;tr&gt;\\n      &lt;th&gt;644&lt;/th&gt;\\n      &lt;td&gt;PHX&lt;/td&gt;\\n      &lt;td&gt;204&lt;/td&gt;\\n      &lt;td&gt;-12.0&lt;/td&gt;\\n    &lt;/tr&gt;\\n    &lt;tr&gt;\\n      &lt;th&gt;645&lt;/th&gt;\\n      &lt;td&gt;PHX&lt;/td&gt;\\n      &lt;td&gt;209&lt;/td&gt;\\n      &lt;td&gt;-12.0&lt;/td&gt;\\n    &lt;/tr&gt;\\n    &lt;tr&gt;\\n      &lt;th&gt;646&lt;/th&gt;\\n      &lt;td&gt;SLC&lt;/td&gt;\\n      &lt;td&gt;98&lt;/td&gt;\\n      &lt;td&gt;-12.0&lt;/td&gt;\\n    &lt;/tr&gt;\\n    &lt;tr&gt;\\n      &lt;th&gt;647&lt;/th&gt;\\n      &lt;td&gt;ICT&lt;/td&gt;\\n      &lt;td&gt;52&lt;/td&gt;\\n      &lt;td&gt;-12.0&lt;/td&gt;\\n    &lt;/tr&gt;\\n    &lt;tr&gt;\\n      &lt;th&gt;648&lt;/th&gt;\\n      &lt;td&gt;PHX&lt;/td&gt;\\n      &lt;td&gt;186&lt;/td&gt;\\n      &lt;td&gt;-12.0&lt;/td&gt;\\n    &lt;/tr&gt;\\n    &lt;tr&gt;\\n      &lt;th&gt;649&lt;/th&gt;\\n      &lt;td&gt;ABI&lt;/td&gt;\\n      &lt;td&gt;122&lt;/td&gt;\\n      &lt;td&gt;-13.0&lt;/td&gt;\\n    &lt;/tr&gt;\\n    &lt;tr&gt;\\n      &lt;th&gt;650&lt;/th&gt;\\n      &lt;td&gt;TUL&lt;/td&gt;\\n      &lt;td&gt;50&lt;/td&gt;\\n      &lt;td&gt;-13.0&lt;/td&gt;\\n    &lt;/tr&gt;\\n    &lt;tr&gt;\\n      &lt;th&gt;651&lt;/th&gt;\\n      &lt;td&gt;ABI&lt;/td&gt;\\n      &lt;td&gt;180&lt;/td&gt;\\n      &lt;td&gt;-13.0&lt;/td&gt;\\n    &lt;/tr&gt;\\n    &lt;tr&gt;\\n      &lt;th&gt;652&lt;/th&gt;\\n      &lt;td&gt;SAN&lt;/td&gt;\\n      &lt;td&gt;71&lt;/td&gt;\\n      &lt;td&gt;-13.0&lt;/td&gt;\\n    &lt;/tr&gt;\\n    &lt;tr&gt;\\n      &lt;th&gt;653&lt;/th&gt;\\n      &lt;td&gt;SAN&lt;/td&gt;\\n      &lt;td&gt;108&lt;/td&gt;\\n      &lt;td&gt;-14.0&lt;/td&gt;\\n    &lt;/tr&gt;\\n    &lt;tr&gt;\\n      &lt;th&gt;654&lt;/th&gt;\\n      &lt;td&gt;CRP&lt;/td&gt;\\n      &lt;td&gt;77&lt;/td&gt;\\n      &lt;td&gt;-21.0&lt;/td&gt;\\n    &lt;/tr&gt;\\n  &lt;/tbody&gt;\\n&lt;/table&gt;\"},\"id\":\"19941\",\"type\":\"panel.models.markup.HTML\"},{\"attributes\":{\"children\":[{\"id\":\"19936\"},{\"id\":\"19939\"}],\"margin\":[0,0,0,0],\"name\":\"Row64856\"},\"id\":\"19935\",\"type\":\"Row\"},{\"attributes\":{\"end\":365,\"margin\":[5,10,5,10],\"start\":0,\"title\":\"Day_of_Year slider\",\"value\":232},\"id\":\"19937\",\"type\":\"Slider\"},{\"attributes\":{\"children\":[{\"id\":\"19934\"}],\"margin\":[0,0,0,0],\"name\":\"Row64858\"},\"id\":\"19933\",\"type\":\"Row\"},{\"attributes\":{\"client_comm_id\":\"f1a2d28b5ebd40fbaed00881b77a215e\",\"comm_id\":\"72ae9a6a5f6f4e6b8d767ead80f7d3ef\",\"plot_id\":\"19933\"},\"id\":\"19942\",\"type\":\"panel.models.comm_manager.CommManager\"},{\"attributes\":{\"children\":[{\"id\":\"19937\"},{\"id\":\"19938\"}],\"margin\":[0,0,0,0],\"name\":\"Column64815\"},\"id\":\"19936\",\"type\":\"Column\"},{\"attributes\":{\"children\":[{\"id\":\"19941\"}],\"margin\":[0,0,0,0],\"name\":\"Row64820\"},\"id\":\"19940\",\"type\":\"Row\"}],\"root_ids\":[\"19933\",\"19942\"]},\"title\":\"Bokeh Application\",\"version\":\"2.4.2\"}};\n",
       "    var render_items = [{\"docid\":\"afca737c-8a46-4320-bfbc-e4cbec2e74d3\",\"root_ids\":[\"19933\"],\"roots\":{\"19933\":\"e2a01c68-f6f9-485c-86dc-e7aa71a51846\"}}];\n",
       "    root.Bokeh.embed.embed_items_notebook(docs_json, render_items);\n",
       "    for (const render_item of render_items) {\n",
       "      for (const root_id of render_item.root_ids) {\n",
       "\tconst id_el = document.getElementById(root_id)\n",
       "\tif (id_el.children.length && (id_el.children[0].className === 'bk-root')) {\n",
       "\t  const root_el = id_el.children[0]\n",
       "\t  root_el.id = root_el.id + '-rendered'\n",
       "\t}\n",
       "      }\n",
       "    }\n",
       "  }\n",
       "  if (root.Bokeh !== undefined && root.Bokeh.Panel !== undefined && ( root['Tabulator'] !== undefined) && ( root['Tabulator'] !== undefined)) {\n",
       "    embed_document(root);\n",
       "  } else {\n",
       "    var attempts = 0;\n",
       "    var timer = setInterval(function(root) {\n",
       "      if (root.Bokeh !== undefined && root.Bokeh.Panel !== undefined && (root['Tabulator'] !== undefined) && (root['Tabulator'] !== undefined)) {\n",
       "        clearInterval(timer);\n",
       "        embed_document(root);\n",
       "      } else if (document.readyState == \"complete\") {\n",
       "        attempts++;\n",
       "        if (attempts > 200) {\n",
       "          clearInterval(timer);\n",
       "          console.log(\"Bokeh: ERROR: Unable to run BokehJS code because BokehJS library is missing\");\n",
       "        }\n",
       "      }\n",
       "    }, 25, root)\n",
       "  }\n",
       "})(window);</script>"
      ],
      "text/plain": [
       "<hvplot.interactive.Interactive at 0x7f93cff39f70>"
      ]
     },
     "execution_count": 90,
     "metadata": {
      "application/vnd.holoviews_exec.v0+json": {
       "id": "19933"
      }
     },
     "output_type": "execute_result"
    }
   ],
   "source": [
    "dd_pipeline"
   ]
  },
  {
   "cell_type": "code",
   "execution_count": 75,
   "id": "2af906ec",
   "metadata": {},
   "outputs": [
    {
     "ename": "KeyError",
     "evalue": "'departure_delay'",
     "output_type": "error",
     "traceback": [
      "\u001b[0;31m---------------------------------------------------------------------------\u001b[0m",
      "\u001b[0;31mKeyError\u001b[0m                                  Traceback (most recent call last)",
      "Input \u001b[0;32mIn [75]\u001b[0m, in \u001b[0;36m<cell line: 1>\u001b[0;34m()\u001b[0m\n\u001b[0;32m----> 1\u001b[0m dd_plot \u001b[38;5;241m=\u001b[39m \u001b[43mdd_pipeline\u001b[49m\u001b[38;5;241;43m.\u001b[39;49m\u001b[43mhvplot\u001b[49m\u001b[43m(\u001b[49m\u001b[43mx\u001b[49m\u001b[43m \u001b[49m\u001b[38;5;241;43m=\u001b[39;49m\u001b[43m \u001b[49m\u001b[38;5;124;43m'\u001b[39;49m\u001b[38;5;124;43mday_of_year\u001b[39;49m\u001b[38;5;124;43m'\u001b[39;49m\u001b[43m,\u001b[49m\u001b[43m \u001b[49m\u001b[43mby\u001b[49m\u001b[43m \u001b[49m\u001b[38;5;241;43m=\u001b[39;49m\u001b[43m \u001b[49m\u001b[38;5;124;43m'\u001b[39;49m\u001b[38;5;124;43mstate\u001b[39;49m\u001b[38;5;124;43m'\u001b[39;49m\u001b[43m,\u001b[49m\u001b[43m \u001b[49m\u001b[43my\u001b[49m\u001b[43m \u001b[49m\u001b[38;5;241;43m=\u001b[39;49m\u001b[43m \u001b[49m\u001b[43myaxis_dd\u001b[49m\u001b[43m,\u001b[49m\u001b[43mline_width\u001b[49m\u001b[43m \u001b[49m\u001b[38;5;241;43m=\u001b[39;49m\u001b[43m \u001b[49m\u001b[38;5;241;43m2\u001b[39;49m\u001b[43m,\u001b[49m\u001b[43m \u001b[49m\u001b[43mtitle\u001b[49m\u001b[43m \u001b[49m\u001b[38;5;241;43m=\u001b[39;49m\u001b[43m \u001b[49m\u001b[38;5;124;43m\"\u001b[39;49m\u001b[38;5;124;43mDeparture Delay by Airport\u001b[39;49m\u001b[38;5;124;43m\"\u001b[39;49m\u001b[43m)\u001b[49m\n\u001b[1;32m      2\u001b[0m dd_plot\n",
      "File \u001b[0;32m~/opt/anaconda3/lib/python3.9/site-packages/hvplot/interactive.py:786\u001b[0m, in \u001b[0;36m_hvplot.__call__\u001b[0;34m(self, _kind, *args, **kwargs)\u001b[0m\n\u001b[1;32m    784\u001b[0m transform \u001b[38;5;241m=\u001b[39m \u001b[38;5;28mtype\u001b[39m(transform)(transform, \u001b[38;5;124m'\u001b[39m\u001b[38;5;124mhvplot\u001b[39m\u001b[38;5;124m'\u001b[39m, accessor\u001b[38;5;241m=\u001b[39m\u001b[38;5;28;01mTrue\u001b[39;00m)\n\u001b[1;32m    785\u001b[0m dmap \u001b[38;5;241m=\u001b[39m \u001b[38;5;124m'\u001b[39m\u001b[38;5;124mkind\u001b[39m\u001b[38;5;124m'\u001b[39m \u001b[38;5;129;01mnot\u001b[39;00m \u001b[38;5;129;01min\u001b[39;00m kwargs \u001b[38;5;129;01mor\u001b[39;00m \u001b[38;5;28misinstance\u001b[39m(kwargs[\u001b[38;5;124m'\u001b[39m\u001b[38;5;124mkind\u001b[39m\u001b[38;5;124m'\u001b[39m], \u001b[38;5;28mstr\u001b[39m)\n\u001b[0;32m--> 786\u001b[0m \u001b[38;5;28;01mreturn\u001b[39;00m \u001b[43mnew\u001b[49m\u001b[38;5;241;43m.\u001b[39;49m\u001b[43m_clone\u001b[49m\u001b[43m(\u001b[49m\u001b[43mtransform\u001b[49m\u001b[43m(\u001b[49m\u001b[38;5;241;43m*\u001b[39;49m\u001b[43margs\u001b[49m\u001b[43m,\u001b[49m\u001b[43m \u001b[49m\u001b[38;5;241;43m*\u001b[39;49m\u001b[38;5;241;43m*\u001b[39;49m\u001b[43mkwargs\u001b[49m\u001b[43m)\u001b[49m\u001b[43m,\u001b[49m\u001b[43m \u001b[49m\u001b[43mdmap\u001b[49m\u001b[38;5;241;43m=\u001b[39;49m\u001b[43mdmap\u001b[49m\u001b[43m)\u001b[49m\n",
      "File \u001b[0;32m~/opt/anaconda3/lib/python3.9/site-packages/hvplot/interactive.py:370\u001b[0m, in \u001b[0;36mInteractive._clone\u001b[0;34m(self, transform, plot, loc, center, dmap, copy, max_rows, **kwargs)\u001b[0m\n\u001b[1;32m    368\u001b[0m \u001b[38;5;28;01melse\u001b[39;00m:\n\u001b[1;32m    369\u001b[0m     kwargs \u001b[38;5;241m=\u001b[39m \u001b[38;5;28mdict\u001b[39m(\u001b[38;5;28mself\u001b[39m\u001b[38;5;241m.\u001b[39m_inherit_kwargs, \u001b[38;5;241m*\u001b[39m\u001b[38;5;241m*\u001b[39m\u001b[38;5;28mdict\u001b[39m(\u001b[38;5;28mself\u001b[39m\u001b[38;5;241m.\u001b[39m_kwargs, \u001b[38;5;241m*\u001b[39m\u001b[38;5;241m*\u001b[39mkwargs))\n\u001b[0;32m--> 370\u001b[0m \u001b[38;5;28;01mreturn\u001b[39;00m \u001b[38;5;28;43mtype\u001b[39;49m\u001b[43m(\u001b[49m\u001b[38;5;28;43mself\u001b[39;49m\u001b[43m)\u001b[49m\u001b[43m(\u001b[49m\u001b[38;5;28;43mself\u001b[39;49m\u001b[38;5;241;43m.\u001b[39;49m\u001b[43m_obj\u001b[49m\u001b[43m,\u001b[49m\u001b[43m \u001b[49m\u001b[43mfn\u001b[49m\u001b[38;5;241;43m=\u001b[39;49m\u001b[38;5;28;43mself\u001b[39;49m\u001b[38;5;241;43m.\u001b[39;49m\u001b[43m_fn\u001b[49m\u001b[43m,\u001b[49m\u001b[43m \u001b[49m\u001b[43mtransform\u001b[49m\u001b[38;5;241;43m=\u001b[39;49m\u001b[43mtransform\u001b[49m\u001b[43m,\u001b[49m\u001b[43m \u001b[49m\u001b[43mplot\u001b[49m\u001b[38;5;241;43m=\u001b[39;49m\u001b[43mplot\u001b[49m\u001b[43m,\u001b[49m\u001b[43m \u001b[49m\u001b[43mdepth\u001b[49m\u001b[38;5;241;43m=\u001b[39;49m\u001b[43mdepth\u001b[49m\u001b[43m,\u001b[49m\n\u001b[1;32m    371\u001b[0m \u001b[43m                 \u001b[49m\u001b[43mloc\u001b[49m\u001b[38;5;241;43m=\u001b[39;49m\u001b[43mloc\u001b[49m\u001b[43m,\u001b[49m\u001b[43m \u001b[49m\u001b[43mcenter\u001b[49m\u001b[38;5;241;43m=\u001b[39;49m\u001b[43mcenter\u001b[49m\u001b[43m,\u001b[49m\u001b[43m \u001b[49m\u001b[43mdmap\u001b[49m\u001b[38;5;241;43m=\u001b[39;49m\u001b[43mdmap\u001b[49m\u001b[43m,\u001b[49m\u001b[43m \u001b[49m\u001b[43m_shared_obj\u001b[49m\u001b[38;5;241;43m=\u001b[39;49m\u001b[38;5;28;43mself\u001b[39;49m\u001b[38;5;241;43m.\u001b[39;49m\u001b[43m_shared_obj\u001b[49m\u001b[43m,\u001b[49m\n\u001b[1;32m    372\u001b[0m \u001b[43m                 \u001b[49m\u001b[43mmax_rows\u001b[49m\u001b[38;5;241;43m=\u001b[39;49m\u001b[43mmax_rows\u001b[49m\u001b[43m,\u001b[49m\u001b[43m \u001b[49m\u001b[38;5;241;43m*\u001b[39;49m\u001b[38;5;241;43m*\u001b[39;49m\u001b[43mkwargs\u001b[49m\u001b[43m)\u001b[49m\n",
      "File \u001b[0;32m~/opt/anaconda3/lib/python3.9/site-packages/hvplot/interactive.py:276\u001b[0m, in \u001b[0;36mInteractive.__init__\u001b[0;34m(self, obj, transform, fn, plot, depth, loc, center, dmap, inherit_kwargs, max_rows, method, _shared_obj, _current, **kwargs)\u001b[0m\n\u001b[1;32m    274\u001b[0m     \u001b[38;5;28mself\u001b[39m\u001b[38;5;241m.\u001b[39m_current \u001b[38;5;241m=\u001b[39m _current\n\u001b[1;32m    275\u001b[0m \u001b[38;5;28;01melse\u001b[39;00m:\n\u001b[0;32m--> 276\u001b[0m     \u001b[38;5;28mself\u001b[39m\u001b[38;5;241m.\u001b[39m_current \u001b[38;5;241m=\u001b[39m \u001b[38;5;28;43mself\u001b[39;49m\u001b[38;5;241;43m.\u001b[39;49m\u001b[43m_transform\u001b[49m\u001b[38;5;241;43m.\u001b[39;49m\u001b[43mapply\u001b[49m\u001b[43m(\u001b[49m\u001b[43mds\u001b[49m\u001b[43m,\u001b[49m\u001b[43m \u001b[49m\u001b[43mkeep_index\u001b[49m\u001b[38;5;241;43m=\u001b[39;49m\u001b[38;5;28;43;01mTrue\u001b[39;49;00m\u001b[43m,\u001b[49m\u001b[43m \u001b[49m\u001b[43mcompute\u001b[49m\u001b[38;5;241;43m=\u001b[39;49m\u001b[38;5;28;43;01mFalse\u001b[39;49;00m\u001b[43m)\u001b[49m\n\u001b[1;32m    277\u001b[0m \u001b[38;5;28mself\u001b[39m\u001b[38;5;241m.\u001b[39m_init \u001b[38;5;241m=\u001b[39m \u001b[38;5;28;01mTrue\u001b[39;00m\n\u001b[1;32m    278\u001b[0m \u001b[38;5;28mself\u001b[39m\u001b[38;5;241m.\u001b[39mhvplot \u001b[38;5;241m=\u001b[39m _hvplot(\u001b[38;5;28mself\u001b[39m)\n",
      "File \u001b[0;32m~/opt/anaconda3/lib/python3.9/site-packages/holoviews/util/transform.py:738\u001b[0m, in \u001b[0;36mdim.apply\u001b[0;34m(self, dataset, flat, expanded, ranges, all_values, keep_index, compute, strict)\u001b[0m\n\u001b[1;32m    736\u001b[0m     drange \u001b[38;5;241m=\u001b[39m ranges\u001b[38;5;241m.\u001b[39mget(eldim, {})\n\u001b[1;32m    737\u001b[0m     drange \u001b[38;5;241m=\u001b[39m drange\u001b[38;5;241m.\u001b[39mget(\u001b[38;5;124m'\u001b[39m\u001b[38;5;124mcombined\u001b[39m\u001b[38;5;124m'\u001b[39m, drange)\n\u001b[0;32m--> 738\u001b[0m     data \u001b[38;5;241m=\u001b[39m \u001b[38;5;28;43mself\u001b[39;49m\u001b[38;5;241;43m.\u001b[39;49m\u001b[43m_apply_fn\u001b[49m\u001b[43m(\u001b[49m\u001b[43mdataset\u001b[49m\u001b[43m,\u001b[49m\u001b[43m \u001b[49m\u001b[43mdata\u001b[49m\u001b[43m,\u001b[49m\u001b[43m \u001b[49m\u001b[43mfn\u001b[49m\u001b[43m,\u001b[49m\u001b[43m \u001b[49m\u001b[43mfn_name\u001b[49m\u001b[43m,\u001b[49m\u001b[43m \u001b[49m\u001b[43margs\u001b[49m\u001b[43m,\u001b[49m\n\u001b[1;32m    739\u001b[0m \u001b[43m                          \u001b[49m\u001b[43mkwargs\u001b[49m\u001b[43m,\u001b[49m\u001b[43m \u001b[49m\u001b[43maccessor\u001b[49m\u001b[43m,\u001b[49m\u001b[43m \u001b[49m\u001b[43mdrange\u001b[49m\u001b[43m)\u001b[49m\n\u001b[1;32m    740\u001b[0m drop_index \u001b[38;5;241m=\u001b[39m keep_index_for_compute \u001b[38;5;129;01mand\u001b[39;00m \u001b[38;5;129;01mnot\u001b[39;00m keep_index\n\u001b[1;32m    741\u001b[0m compute \u001b[38;5;241m=\u001b[39m \u001b[38;5;129;01mnot\u001b[39;00m compute_for_compute \u001b[38;5;129;01mand\u001b[39;00m compute\n",
      "File \u001b[0;32m~/opt/anaconda3/lib/python3.9/site-packages/holoviews/util/transform.py:636\u001b[0m, in \u001b[0;36mdim._apply_fn\u001b[0;34m(self, dataset, data, fn, fn_name, args, kwargs, accessor, drange)\u001b[0m\n\u001b[1;32m    634\u001b[0m                 data \u001b[38;5;241m=\u001b[39m method(\u001b[38;5;241m*\u001b[39margs, \u001b[38;5;241m*\u001b[39m\u001b[38;5;241m*\u001b[39mkwargs)\n\u001b[1;32m    635\u001b[0m             \u001b[38;5;28;01melse\u001b[39;00m:\n\u001b[0;32m--> 636\u001b[0m                 \u001b[38;5;28;01mraise\u001b[39;00m e\n\u001b[1;32m    637\u001b[0m \u001b[38;5;28;01melse\u001b[39;00m:\n\u001b[1;32m    638\u001b[0m     data \u001b[38;5;241m=\u001b[39m fn(\u001b[38;5;241m*\u001b[39margs, \u001b[38;5;241m*\u001b[39m\u001b[38;5;241m*\u001b[39mkwargs)\n",
      "File \u001b[0;32m~/opt/anaconda3/lib/python3.9/site-packages/holoviews/util/transform.py:630\u001b[0m, in \u001b[0;36mdim._apply_fn\u001b[0;34m(self, dataset, data, fn, fn_name, args, kwargs, accessor, drange)\u001b[0m\n\u001b[1;32m    628\u001b[0m \u001b[38;5;28;01melse\u001b[39;00m:\n\u001b[1;32m    629\u001b[0m     \u001b[38;5;28;01mtry\u001b[39;00m:\n\u001b[0;32m--> 630\u001b[0m         data \u001b[38;5;241m=\u001b[39m \u001b[43mmethod\u001b[49m\u001b[43m(\u001b[49m\u001b[38;5;241;43m*\u001b[39;49m\u001b[43margs\u001b[49m\u001b[43m,\u001b[49m\u001b[43m \u001b[49m\u001b[38;5;241;43m*\u001b[39;49m\u001b[38;5;241;43m*\u001b[39;49m\u001b[43mkwargs\u001b[49m\u001b[43m)\u001b[49m\n\u001b[1;32m    631\u001b[0m     \u001b[38;5;28;01mexcept\u001b[39;00m \u001b[38;5;167;01mException\u001b[39;00m \u001b[38;5;28;01mas\u001b[39;00m e:\n\u001b[1;32m    632\u001b[0m         \u001b[38;5;28;01mif\u001b[39;00m \u001b[38;5;124m'\u001b[39m\u001b[38;5;124maxis\u001b[39m\u001b[38;5;124m'\u001b[39m \u001b[38;5;129;01min\u001b[39;00m kwargs:\n",
      "File \u001b[0;32m~/opt/anaconda3/lib/python3.9/site-packages/pandas/util/_decorators.py:311\u001b[0m, in \u001b[0;36mdeprecate_nonkeyword_arguments.<locals>.decorate.<locals>.wrapper\u001b[0;34m(*args, **kwargs)\u001b[0m\n\u001b[1;32m    305\u001b[0m \u001b[38;5;28;01mif\u001b[39;00m \u001b[38;5;28mlen\u001b[39m(args) \u001b[38;5;241m>\u001b[39m num_allow_args:\n\u001b[1;32m    306\u001b[0m     warnings\u001b[38;5;241m.\u001b[39mwarn(\n\u001b[1;32m    307\u001b[0m         msg\u001b[38;5;241m.\u001b[39mformat(arguments\u001b[38;5;241m=\u001b[39marguments),\n\u001b[1;32m    308\u001b[0m         \u001b[38;5;167;01mFutureWarning\u001b[39;00m,\n\u001b[1;32m    309\u001b[0m         stacklevel\u001b[38;5;241m=\u001b[39mstacklevel,\n\u001b[1;32m    310\u001b[0m     )\n\u001b[0;32m--> 311\u001b[0m \u001b[38;5;28;01mreturn\u001b[39;00m \u001b[43mfunc\u001b[49m\u001b[43m(\u001b[49m\u001b[38;5;241;43m*\u001b[39;49m\u001b[43margs\u001b[49m\u001b[43m,\u001b[49m\u001b[43m \u001b[49m\u001b[38;5;241;43m*\u001b[39;49m\u001b[38;5;241;43m*\u001b[39;49m\u001b[43mkwargs\u001b[49m\u001b[43m)\u001b[49m\n",
      "File \u001b[0;32m~/opt/anaconda3/lib/python3.9/site-packages/pandas/core/frame.py:6313\u001b[0m, in \u001b[0;36mDataFrame.sort_values\u001b[0;34m(self, by, axis, ascending, inplace, kind, na_position, ignore_index, key)\u001b[0m\n\u001b[1;32m   6309\u001b[0m \u001b[38;5;28;01melif\u001b[39;00m \u001b[38;5;28mlen\u001b[39m(by):\n\u001b[1;32m   6310\u001b[0m     \u001b[38;5;66;03m# len(by) == 1\u001b[39;00m\n\u001b[1;32m   6312\u001b[0m     by \u001b[38;5;241m=\u001b[39m by[\u001b[38;5;241m0\u001b[39m]\n\u001b[0;32m-> 6313\u001b[0m     k \u001b[38;5;241m=\u001b[39m \u001b[38;5;28;43mself\u001b[39;49m\u001b[38;5;241;43m.\u001b[39;49m\u001b[43m_get_label_or_level_values\u001b[49m\u001b[43m(\u001b[49m\u001b[43mby\u001b[49m\u001b[43m,\u001b[49m\u001b[43m \u001b[49m\u001b[43maxis\u001b[49m\u001b[38;5;241;43m=\u001b[39;49m\u001b[43maxis\u001b[49m\u001b[43m)\u001b[49m\n\u001b[1;32m   6315\u001b[0m     \u001b[38;5;66;03m# need to rewrap column in Series to apply key function\u001b[39;00m\n\u001b[1;32m   6316\u001b[0m     \u001b[38;5;28;01mif\u001b[39;00m key \u001b[38;5;129;01mis\u001b[39;00m \u001b[38;5;129;01mnot\u001b[39;00m \u001b[38;5;28;01mNone\u001b[39;00m:\n\u001b[1;32m   6317\u001b[0m         \u001b[38;5;66;03m# error: Incompatible types in assignment (expression has type\u001b[39;00m\n\u001b[1;32m   6318\u001b[0m         \u001b[38;5;66;03m# \"Series\", variable has type \"ndarray\")\u001b[39;00m\n",
      "File \u001b[0;32m~/opt/anaconda3/lib/python3.9/site-packages/pandas/core/generic.py:1840\u001b[0m, in \u001b[0;36mNDFrame._get_label_or_level_values\u001b[0;34m(self, key, axis)\u001b[0m\n\u001b[1;32m   1838\u001b[0m     values \u001b[38;5;241m=\u001b[39m \u001b[38;5;28mself\u001b[39m\u001b[38;5;241m.\u001b[39maxes[axis]\u001b[38;5;241m.\u001b[39mget_level_values(key)\u001b[38;5;241m.\u001b[39m_values\n\u001b[1;32m   1839\u001b[0m \u001b[38;5;28;01melse\u001b[39;00m:\n\u001b[0;32m-> 1840\u001b[0m     \u001b[38;5;28;01mraise\u001b[39;00m \u001b[38;5;167;01mKeyError\u001b[39;00m(key)\n\u001b[1;32m   1842\u001b[0m \u001b[38;5;66;03m# Check for duplicates\u001b[39;00m\n\u001b[1;32m   1843\u001b[0m \u001b[38;5;28;01mif\u001b[39;00m values\u001b[38;5;241m.\u001b[39mndim \u001b[38;5;241m>\u001b[39m \u001b[38;5;241m1\u001b[39m:\n",
      "\u001b[0;31mKeyError\u001b[0m: 'departure_delay'"
     ]
    }
   ],
   "source": [
    "dd_plot = dd_pipeline.hvplot(x = 'day_of_year', by = 'state', y = yaxis_dd,line_width = 2, title = \"Departure Delay by Airport\")\n",
    "dd_plot"
   ]
  },
  {
   "cell_type": "markdown",
   "id": "e5a8027d",
   "metadata": {},
   "source": [
    "# Algorithm Constituents"
   ]
  },
  {
   "cell_type": "code",
   "execution_count": null,
   "id": "e62ef55b",
   "metadata": {},
   "outputs": [],
   "source": [
    "// Example by Tom Igoe\n",
    "\n",
    "import processing.serial.*;\n",
    "\n",
    "Serial myPort;  // The serial port\n",
    "\n",
    "void setup() {\n",
    "  // List all the available serial ports:\n",
    "  printArray(Serial.list());\n",
    "  // Open the port you are using at the rate you want:\n",
    "  myPort = new Serial(this, Serial.list()[0], 9600);\n",
    "}\n",
    "\n",
    "void draw() {\n",
    "  while (myPort.available() > 0) {\n",
    "    String inBuffer = myPort.readString();   \n",
    "    if (inBuffer != null) {\n",
    "      println(inBuffer);\n",
    "    }\n",
    "  }\n",
    "}\n"
   ]
  },
  {
   "cell_type": "markdown",
   "id": "35906ba7",
   "metadata": {},
   "source": [
    "## https://makersportal.com/blog/2018/2/25/python-datalogger-reading-the-serial-output-from-arduino-to-analyze-data-using-pyserial"
   ]
  },
  {
   "cell_type": "markdown",
   "id": "d98c1775",
   "metadata": {},
   "source": [
    "### SERIAL READ LOOP"
   ]
  },
  {
   "cell_type": "code",
   "execution_count": null,
   "id": "e093f081",
   "metadata": {},
   "outputs": [],
   "source": [
    "import serial\n",
    "ser = serial.Serial('/dev/ttyACM0')\n",
    "ser.flushInput()\n",
    "\n",
    "while True:\n",
    "    try:\n",
    "        ser_bytes = ser.readline()\n",
    "        decoded_bytes = float(ser_bytes[0:len(ser_bytes)-2].decode(\"utf-8\"))\n",
    "        print(decoded_bytes)\n",
    "    except:\n",
    "        print(\"Keyboard Interrupt\")\n",
    "        break"
   ]
  },
  {
   "cell_type": "markdown",
   "id": "5a948308",
   "metadata": {},
   "source": [
    "### Saving Serial Data to .CSV File"
   ]
  },
  {
   "cell_type": "code",
   "execution_count": null,
   "id": "266eb494",
   "metadata": {},
   "outputs": [],
   "source": [
    "import serial\n",
    "import time\n",
    "import csv\n",
    "\n",
    "ser = serial.Serial('/dev/ttyACM0')\n",
    "ser.flushInput()\n",
    "\n",
    "while True:\n",
    "    try:\n",
    "        ser_bytes = ser.readline()\n",
    "        decoded_bytes = float(ser_bytes[0:len(ser_bytes)-2].decode(\"utf-8\"))\n",
    "        print(decoded_bytes)\n",
    "        with open(\"test_data.csv\",\"a\") as f:\n",
    "            writer = csv.writer(f,delimiter=\",\")\n",
    "            writer.writerow([time.time(),decoded_bytes])\n",
    "    except:\n",
    "        print(\"Keyboard Interrupt\")\n",
    "        break"
   ]
  },
  {
   "cell_type": "markdown",
   "id": "47bcb1e0",
   "metadata": {},
   "source": [
    "### LIVE PLOTTING SERIAL DATA USING MATPLOTLIB\n"
   ]
  },
  {
   "cell_type": "code",
   "execution_count": null,
   "id": "3de9cb57",
   "metadata": {},
   "outputs": [],
   "source": [
    "import serial\n",
    "import time\n",
    "import csv\n",
    "import matplotlib\n",
    "matplotlib.use(\"tkAgg\")\n",
    "import matplotlib.pyplot as plt\n",
    "import numpy as np\n",
    "\n",
    "ser = serial.Serial('/dev/ttyACM0')\n",
    "ser.flushInput()\n",
    "\n",
    "plot_window = 20\n",
    "y_var = np.array(np.zeros([plot_window]))\n",
    "\n",
    "plt.ion()\n",
    "fig, ax = plt.subplots()\n",
    "line, = ax.plot(y_var)\n",
    "\n",
    "while True:\n",
    "    try:\n",
    "        ser_bytes = ser.readline()\n",
    "        try:\n",
    "            decoded_bytes = float(ser_bytes[0:len(ser_bytes)-2].decode(\"utf-8\"))\n",
    "            print(decoded_bytes)\n",
    "        except:\n",
    "            continue\n",
    "        with open(\"test_data.csv\",\"a\") as f:\n",
    "            writer = csv.writer(f,delimiter=\",\")\n",
    "            writer.writerow([time.time(),decoded_bytes])\n",
    "        y_var = np.append(y_var,decoded_bytes)\n",
    "        y_var = y_var[1:plot_window+1]\n",
    "        line.set_ydata(y_var)\n",
    "        ax.relim()\n",
    "        ax.autoscale_view()\n",
    "        fig.canvas.draw()\n",
    "        fig.canvas.flush_events()\n",
    "    except:\n",
    "        print(\"Keyboard Interrupt\")\n",
    "        break"
   ]
  },
  {
   "cell_type": "code",
   "execution_count": null,
   "id": "ccaec5aa",
   "metadata": {},
   "outputs": [],
   "source": []
  }
 ],
 "metadata": {
  "kernelspec": {
   "display_name": "Python 3",
   "language": "python",
   "name": "python3"
  },
  "language_info": {
   "codemirror_mode": {
    "name": "ipython",
    "version": 3
   },
   "file_extension": ".py",
   "mimetype": "text/x-python",
   "name": "python",
   "nbconvert_exporter": "python",
   "pygments_lexer": "ipython3",
   "version": "3.8.8"
  }
 },
 "nbformat": 4,
 "nbformat_minor": 5
}
